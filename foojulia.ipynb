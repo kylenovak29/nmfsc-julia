{
 "cells": [
  {
   "cell_type": "markdown",
   "metadata": {},
   "source": [
    "<h1>Numerical Methods in Julia</h1>\n",
    "This Jupyter Notebook serves as supplementary material to the Julia code from the book [Numerical Methods for Scientific Computing](fff). By-and-large, the snippets agree with whats in the books, except for possibly the addition of an explicit plot statement or variable declaration. These code snippets are minimal working toy algorithms meant to better understand the mathematics that goes into them. They are tools for tinkering and learning. Play with them and have fun. And, perhaps you can repurpose a few of them. You can jump around the notebook. But, load the LinearAlgebra.jl and Plots.jl packages are available."
   ]
  },
  {
   "cell_type": "code",
   "execution_count": null,
   "metadata": {
    "collapsed": true
   },
   "outputs": [],
   "source": [
    "using LinearAlgebra, Plots"
   ]
  },
  {
   "cell_type": "markdown",
   "metadata": {},
   "source": [
    "<h1>Notebook Contents</h1>\n",
    "\n",
    " [Part 1: Numerical Linear Algebra](#label0)<br>\n",
    "&emsp; [Chapter 1: A Review of Linear Algebra](#label1)<br>\n",
    "&emsp; [Chapter 2: Direct Methods for Linear Systems](#label2)<br>\n",
    "&emsp; [Chapter 3: Inconsistent Systems](#label3)<br>\n",
    "&emsp; [Chapter 4: Computing Eigenvalues](#label4)<br>\n",
    "&emsp; [Chapter 5: Iterative Methods for Linear Systems](#label5)<br>\n",
    "&emsp; [Chapter 6: Fast Fourier Transform](#label6)<br>\n",
    " [Part 2: Numerical Methods for Analysis](#label7)<br>\n",
    "&emsp; [Chapter 7: Preliminaries](#label8)<br>\n",
    "&emsp; [Chapter 8: Solutions to Nonlinear Equations](#label9)<br>\n",
    "&emsp; [Chapter 9: Interpolation](#label10)<br>\n",
    "&emsp; [Chapter 10: Approximating Functions](#label11)<br>\n",
    "&emsp; [Chapter 11: Differentiation and Integration](#label12)<br>\n",
    " [Part 3: Numerical Partial Differential Equations](#label13)<br>\n",
    "&emsp; [Chapter 12: Ordinary Differential Equations](#label14)<br>\n",
    "&emsp; [Chapter 13: Parabolic Equations](#label15)<br>\n",
    "&emsp; [Chapter 16: Fourier Spectral Methods](#label16)<br>\n",
    " [Part 4: Solutions](#label17)<br>\n",
    "&emsp; [Numerical Linear Algebra](#label18)<br>\n",
    "&emsp; [Numerical Analysis](#label19)<br>\n",
    "&emsp; [Numerical Partial Differential Equations](#label20)<br>\n"
   ]
  },
  {
   "cell_type": "markdown",
   "metadata": {},
   "source": [
    "<a name=\"label0\"></a>\n",
    "# Part 1: Numerical Linear Algebra\n",
    "<a name=\"label1\"></a>\n",
    "## Chapter 1: A Review of Linear Algebra\n",
    "**The Hilbert matrix.**"
   ]
  },
  {
   "cell_type": "code",
   "execution_count": null,
   "metadata": {
    "collapsed": true
   },
   "outputs": [],
   "source": [
    "hilbert(n)  = [1/(i+j-1) for i=1:n, j=1:n]"
   ]
  },
  {
   "cell_type": "code",
   "execution_count": null,
   "metadata": {
    "collapsed": true
   },
   "outputs": [],
   "source": [
    "using Images\n",
    "[Gray.(1 .- abs.(hilbert(n)\\hilbert(n))) for n ∈ (10,15,20,25,50)]"
   ]
  },
  {
   "cell_type": "markdown",
   "metadata": {},
   "source": [
    "<a name=\"label2\"></a>\n",
    "## Chapter 2: Direct Methods for Linear Systems\n",
    "**Gaussian elimination.** The following function implements a naïve Gaussian elimination algorithm for a matrix `A` and vector `b`. We'll verify the code using a random matrix-vector pair. "
   ]
  },
  {
   "cell_type": "code",
   "execution_count": null,
   "metadata": {
    "collapsed": true
   },
   "outputs": [],
   "source": [
    "function gaussian_elimination(A,b)\n",
    "  n = size(A,1)\n",
    "  for j in 1:n\n",
    "    A[j+1:n,j] /= A[j,j]\n",
    "    A[j+1:n,j+1:n] -= A[j+1:n,j:j].*A[j:j,j+1:n]\n",
    "  end\n",
    "  for i in 2:n\n",
    "    b[i:i] -= A[i:i,1:i-1]*b[1:i-1]\n",
    "  end\n",
    "  for i in n:-1:1\n",
    "    b[i:i] = ( b[i] .- A[i:i,i+1:n]*b[i+1:n] )/A[i,i]\n",
    "  end\n",
    "  return b\n",
    "end"
   ]
  },
  {
   "cell_type": "code",
   "execution_count": null,
   "metadata": {
    "collapsed": true
   },
   "outputs": [],
   "source": [
    "A = rand(8,8); b = rand(8,1)\n",
    "[A\\b gaussian_elimination(A,b)]"
   ]
  },
  {
   "cell_type": "markdown",
   "metadata": {},
   "source": [
    "**Simplex method.** The following three functions (`get_pivot`, `row_reduce`, and `simplex`) implement a naïve simplex method"
   ]
  },
  {
   "cell_type": "code",
   "execution_count": null,
   "metadata": {
    "collapsed": true
   },
   "outputs": [],
   "source": [
    "function row_reduce(tableau,p)\n",
    "   (i,j) = get_pivot(tableau)\n",
    "   p[filter(x->x==i, p)] .= 0; p[j] = i \n",
    "   G = tableau[i:i,:]/tableau[i,j]\n",
    "   tableau -= tableau[:,j:j]*G\n",
    "   tableau[i,:] = G\n",
    "  return(tableau,p)\n",
    "end"
   ]
  },
  {
   "cell_type": "code",
   "execution_count": null,
   "metadata": {
    "collapsed": true
   },
   "outputs": [],
   "source": [
    "function get_pivot(tableau)\n",
    "  j = argmax(tableau[end,1:end-1])\n",
    "  a, b = tableau[1:end-1,j], tableau[1:end-1,end]\n",
    "  k = findall(x-> x>0 , a)\n",
    "  i = k[argmin(b[k]/a[k])]\n",
    "  return(i,j) \n",
    "end"
   ]
  },
  {
   "cell_type": "code",
   "execution_count": null,
   "metadata": {
    "collapsed": true
   },
   "outputs": [],
   "source": [
    "function simplex(A,b,c)\n",
    "  (m,n) = size(A)\n",
    "  tableau = [[A I b] ; [c' zeros(1,m) 0]]\n",
    "  p = zeros(Int32,1,m+n)\n",
    "  while (any(tableau[end,1:end-1].>0))\n",
    "    (tableau,p) = row_reduce(tableau,p)\n",
    "  end\n",
    "  x = [0;tableau[1:end-1,end]][p[1:n].+1]\n",
    "  z = -tableau[end,end]\n",
    "  return(z,x)\n",
    "end"
   ]
  },
  {
   "cell_type": "code",
   "execution_count": null,
   "metadata": {
    "collapsed": true
   },
   "outputs": [],
   "source": [
    "unit(n,i) = (z=zeros(n,1);z[i]=1;z)\n",
    "using SparseArrays\n",
    "function revised_simplex(A,b,c)\n",
    " (m,n) = size(A)\n",
    "  N = Vector(1:n); B = Vector(n .+ (1:m))\n",
    "  A = [sparse(A) sparse(I, m, m)]\n",
    "  ABinv = sparse(I, m, m)\n",
    "  c = [c;zeros(m,1)]\n",
    "  while(true)\n",
    "    j = findfirst(x->x>0,(c[N]'.-(c[B]'*ABinv)*A[:,N])[:])\n",
    "    if isnothing(j); break; end\n",
    "    q = ABinv*A[:,N[j]]\n",
    "    k = findall(x->x>0,q)\n",
    "    i = k[argmin(ABinv[k,:]*b./q[k])]\n",
    "    B[i], N[j] = N[j], B[i]\n",
    "    ABinv -=  ((q - unit(m,i))/q[i])*ABinv[i:i,:]\n",
    "  end\n",
    "  i = findall(x -> x≤n, B)\n",
    "  x = zeros(n,1)\n",
    "  x[B[i]] = ABinv[i,:]*b\n",
    "  z = c[1:n]'*x\n",
    "  return(x,z)\n",
    "end"
   ]
  },
  {
   "cell_type": "markdown",
   "metadata": {},
   "source": [
    "<a name=\"label3\"></a>\n",
    "## Chapter 3: Inconsistent Systems\n",
    "The constrained least squares problem of solving $\\mathbf{Ax} = \\mathbf{b}$ with the constraint condition $\\mathbf{Cx}=\\mathbf{d}$:"
   ]
  },
  {
   "cell_type": "code",
   "execution_count": null,
   "metadata": {
    "collapsed": true
   },
   "outputs": [],
   "source": [
    "function constrained_lstsq(A,b,C,d)\n",
    "  x = [A'*A C'; C zeros(size(C,1),size(C,1))]\\[A'*b;d]\n",
    "  x[1:size(A,2)]\n",
    "end"
   ]
  },
  {
   "cell_type": "markdown",
   "metadata": {},
   "source": [
    "The function `tls` solves the total least squares problem. We'll use it along with ordinary least squares to find Zipf's law coefficients for cannon of Sherlock Holmes.} %"
   ]
  },
  {
   "cell_type": "code",
   "execution_count": null,
   "metadata": {
    "collapsed": true
   },
   "outputs": [],
   "source": [
    "function tls(A,B)\n",
    "  n = size(A,2)\n",
    "  V = svd([A B]).V\n",
    "  -V[1:n,n+1:end]/V[n+1:end,n+1:end]\n",
    "end"
   ]
  },
  {
   "cell_type": "code",
   "execution_count": null,
   "metadata": {
    "collapsed": true
   },
   "outputs": [],
   "source": [
    "using DelimitedFiles\n",
    "bucket = \"https://nmfsc.s3.amazonaws.com/\"\n",
    "T = readdlm(download(bucket*\"sherlock.csv\"), '\\t')[:,2]\n",
    "n = length(T)\n",
    "A = [ones(n,1) log.(1:n)]\n",
    "B = log.(T)\n",
    "c₁ = A\\B\n",
    "c₂ = tls(A,B)\n",
    "print(\"ordinary least squares:\\n\"*string(c₁)*\"\\n\")\n",
    "print(\"total least squares:\\n\"*string(c₂))"
   ]
  },
  {
   "cell_type": "markdown",
   "metadata": {},
   "source": [
    "**Image compression** Let's use singular value decomposition to compress an image. We'll choose a nominal rank `k = 20` for demonstration. We'll use the Frobenius norm to compute the total pixelwise error in the compressed image. Then, we'll plot out all the singular values for comparison."
   ]
  },
  {
   "cell_type": "code",
   "execution_count": null,
   "metadata": {
    "collapsed": true
   },
   "outputs": [],
   "source": [
    "using Images\n",
    "bucket= \"https://nmfsc.s3.amazonaws.com/\"\n",
    "A = Gray.(load(download(bucket*\"laura.png\")))\n",
    "U, σ, V = svd(A);"
   ]
  },
  {
   "cell_type": "code",
   "execution_count": null,
   "metadata": {
    "collapsed": true
   },
   "outputs": [],
   "source": [
    "k = 20\n",
    "Aₖ = Gray.( U[:,1:k] * Diagonal(σ[1:k]) * V[:,1:k]' )"
   ]
  },
  {
   "cell_type": "code",
   "execution_count": null,
   "metadata": {
    "collapsed": true
   },
   "outputs": [],
   "source": [
    "norm(A-Aₖ) ≈ norm(σ[k+1:end])"
   ]
  },
  {
   "cell_type": "code",
   "execution_count": null,
   "metadata": {
    "collapsed": true
   },
   "outputs": [],
   "source": [
    "ϵ² = 1 .- cumsum(σ)/sum(σ); scatter(ϵ²,xaxis=:log)"
   ]
  },
  {
   "cell_type": "markdown",
   "metadata": {},
   "source": [
    "**Non-negative matrix factorization (NMF).** A naive implementation of non-negative matrix factorization using multiplicative updates (without a stopping criterion):"
   ]
  },
  {
   "cell_type": "code",
   "execution_count": null,
   "metadata": {
    "collapsed": true
   },
   "outputs": [],
   "source": [
    "function nmf(X,p=6)\n",
    "  W = rand(Float64, (size(X,1), p))\n",
    "  H = rand(Float64, (p,size(X,2)))\n",
    "  for i in 1:50\n",
    "    W = W.*(X*H')./(W*(H*H') .+ (W.≈0))\n",
    "    H = H.*(W'*X)./((W'*W)*H .+ (H.≈0))\n",
    "  end\n",
    "  (W,H)\n",
    "end"
   ]
  },
  {
   "cell_type": "code",
   "execution_count": null,
   "metadata": {
    "collapsed": true
   },
   "outputs": [],
   "source": [
    "using Images\n",
    "bucket= \"https://nmfsc.s3.amazonaws.com/\"\n",
    "A = Gray.(load(download(bucket*\"laura.png\")))\n",
    "W,H = nmf(Float64.(A),20)\n",
    "Gray.(W*H)"
   ]
  },
  {
   "cell_type": "markdown",
   "metadata": {},
   "source": [
    "<a name=\"label4\"></a>\n",
    "## Chapter 4: Computing Eigenvalues\n",
    "The function `condeig` computes the eigenvalue condition number. Let's use it on a small random matrix."
   ]
  },
  {
   "cell_type": "code",
   "execution_count": null,
   "metadata": {
    "collapsed": true
   },
   "outputs": [],
   "source": [
    "function condeig(A)\n",
    "  Sᵣ = eigvecs(A)\n",
    "  Sₗ = inv(Sᵣ')\n",
    "  Sₗ ./= sqrt.(sum(abs.(Sₗ.^2), dims=1))\n",
    "  1 ./ abs.(sum(Sᵣ.*Sₗ, dims=1))\n",
    "end"
   ]
  },
  {
   "cell_type": "code",
   "execution_count": null,
   "metadata": {
    "collapsed": true
   },
   "outputs": [],
   "source": [
    "condeig(rand(4,4))"
   ]
  },
  {
   "cell_type": "markdown",
   "metadata": {},
   "source": [
    "The following minimal code computes the PageRank of the very  small graph by using the power method over 9 iterations <img src=\"https://nmfsc.s3.amazonaws.com/internet_graph.svg\" alt=\"internet graph\" title=\"internet graph\" />"
   ]
  },
  {
   "cell_type": "code",
   "execution_count": null,
   "metadata": {
    "collapsed": true
   },
   "outputs": [],
   "source": [
    "H = [0 0 0 0 1; 1 0 0 0 0; 1 0 0 0 1; 1 0 1 0 0; 0 0 1 1 0]\n",
    "v = all(x->x==0,H,dims=1)\n",
    "H = H ./ (sum(H,dims=1)+v) \n",
    "n = size(H,1) \n",
    "d = 0.85\n",
    "x = ones(n,1)/n\n",
    "for i in 1:9\n",
    "  x = d*(H*x) .+ d/n*(v*x)  .+ (1-d)/n\n",
    "end \n",
    "x"
   ]
  },
  {
   "cell_type": "markdown",
   "metadata": {},
   "source": [
    "<a name=\"label5\"></a>\n",
    "## Chapter 5: Iterative Methods for Linear Systems\n",
    " Let's set up a sparse matrix"
   ]
  },
  {
   "cell_type": "code",
   "execution_count": null,
   "metadata": {
    "collapsed": true
   },
   "outputs": [],
   "source": [
    "using SparseArrays\n",
    "n = 50; x = (1:n)/(n+1); Δx = 1/(n+1) \n",
    "J = sparse(I, n, n)\n",
    "D = spdiagm(-1 => ones(n-1), 0 => -2ones(n), 1 => ones(n-1) )\n",
    "A = (kron(kron(D,J),J)+kron(J,kron(D,J))+kron(J,kron(J,D)))/Δx^2"
   ]
  },
  {
   "cell_type": "markdown",
   "metadata": {},
   "source": [
    "<a name=\"label6\"></a>\n",
    "## Chapter 6: Fast Fourier Transform\n",
    "This chapter introduces several naive functions. The radix-2 FFT algorithm is written as a recursive function `fftx2` and the inverse FFT is written as `ifftx2`. The function `fasttoeplitz` computes the Toeplitz multiplication by padding out a Toeplitz matrix with zeros to make it circulant. And `bluestein` implements the Bluestein algorithm using fast Toeplitz multiplication.<a name=\\\"radix2fft\\\"></a>"
   ]
  },
  {
   "cell_type": "code",
   "execution_count": null,
   "metadata": {
    "collapsed": true
   },
   "outputs": [],
   "source": [
    "function fftx2(c)\n",
    "  n = length(c)\n",
    "  ω = exp(-2im*π/n)\n",
    "  if mod(n,2) == 0 \n",
    "    k = collect(0:n/2-1)\n",
    "    u = fftx2(c[1:2:n-1])\n",
    "    v = (ω.^k).*fftx2(c[2:2:n]) \n",
    "    return([u+v; u-v])\n",
    "  else \n",
    "    k = collect(0:n-1)\n",
    "    F = ω.^(k*k')\n",
    "    return(F*c)\n",
    "  end \n",
    "end"
   ]
  },
  {
   "cell_type": "code",
   "execution_count": null,
   "metadata": {
    "collapsed": true
   },
   "outputs": [],
   "source": [
    "ifftx2(y) = conj(fftx2(conj(y)))/length(y);"
   ]
  },
  {
   "cell_type": "code",
   "execution_count": null,
   "metadata": {
    "collapsed": true
   },
   "outputs": [],
   "source": [
    "function fasttoeplitz(c,r,x)\n",
    "  n = length(x)\n",
    "  Δ = nextpow(2,n) - n\n",
    "  x₁ = [c; zeros(Δ); r[end:-1:2]]\n",
    "  x₂ = [x; zeros(Δ+n-1)]\n",
    "  ifftx2(fftx2(x₁).*fftx2(x₂))[1:n]\n",
    "end"
   ]
  },
  {
   "cell_type": "code",
   "execution_count": null,
   "metadata": {
    "collapsed": true
   },
   "outputs": [],
   "source": [
    "using FFTW, Primes, Plots\n",
    "N = 10000\n",
    "smooth(n,N) = (1:N)[all.(x->x<=n,factor.(Set,1:N))]\n",
    "t₁ = [(x = randn(n); (n,@elapsed(fft(x)))) for n∈primes(N)]\n",
    "t₂ = [(x = randn(n); (n,@elapsed(fft(x)))) for n∈smooth(5,N)]\n",
    "plot(t₁,label=\"prime\"); plot!(t₂,label=\"5-smooth\")\n",
    "plot!(ylims=(0,t₁[end][2]*3))"
   ]
  },
  {
   "cell_type": "code",
   "execution_count": null,
   "metadata": {
    "collapsed": true
   },
   "outputs": [],
   "source": [
    "function bluestein(x)\n",
    "  n = length(x)\n",
    "  ω = exp.((1im*π/n)*(0:n-1).^2)\n",
    "  ω.*fasttoeplitz(conj(ω),conj(ω),ω.*x)\n",
    "end"
   ]
  },
  {
   "cell_type": "code",
   "execution_count": null,
   "metadata": {
    "collapsed": true
   },
   "outputs": [],
   "source": [
    "using Primes\n",
    "function primitiveroot(n)\n",
    "  ϕ = n - 1\n",
    "  p = factor(Set,ϕ)\n",
    "  for r = 2:n-1\n",
    "    all([powermod(r, ϕ÷pᵢ, n) for pᵢ∈p].!=1) && return(r)\n",
    "  end\n",
    "end"
   ]
  },
  {
   "cell_type": "code",
   "execution_count": null,
   "metadata": {
    "collapsed": true
   },
   "outputs": [],
   "source": [
    "function rader_fft(x)\n",
    "  n = length(x)\n",
    "  r = primitiveroot(n)\n",
    "  P₊ = powermod.(r, 0:n-2, n)\n",
    "  P₋ = circshift(reverse(P₊),1)\n",
    "  ω = exp.((2im*π/n)*P₋)\n",
    "  c = x[1] .+ ifft(fft(ω).*fft(x[2:end][P₊]))\n",
    "  [sum(x); c[reverse(invperm(P₋))]]    \n",
    "end"
   ]
  },
  {
   "cell_type": "markdown",
   "metadata": {},
   "source": [
    "**Fast Poisson solver.** The following set of functions solves the Poisson equation using a naive fast Poisson solver."
   ]
  },
  {
   "cell_type": "code",
   "execution_count": null,
   "metadata": {
    "collapsed": true
   },
   "outputs": [],
   "source": [
    "using FFTW\n",
    "dst(x) = FFTW.r2r(x,FFTW.RODFT00)\n",
    "idst(x) = dst(x)/(2^ndims(x)*prod(size(x).+1))"
   ]
  },
  {
   "cell_type": "code",
   "execution_count": null,
   "metadata": {
    "collapsed": true
   },
   "outputs": [],
   "source": [
    "n = 50; x = (1:n)/(n+1); Δx = 1/(n+1) \n",
    "v = 2 .- 2cos.(x*π) \n",
    "λ = [v[i]+v[j]+v[k] for i∈1:n, j∈1:n, k∈1:n]./Δx^2\n",
    "f = [(x-x^2)*(y-y^2) + (x-x^2)*(z-z^2)+(y-y^2)*(z-z^2) \n",
    "    for x∈x,y∈x,z∈x]\n",
    "u = idst(dst(f)./λ);"
   ]
  },
  {
   "cell_type": "code",
   "execution_count": null,
   "metadata": {
    "collapsed": true
   },
   "outputs": [],
   "source": [
    "norm(u - [(x-x^2)*(y-y^2)*(z-z^2)/2 for x∈x,y∈x,z∈x])"
   ]
  },
  {
   "cell_type": "markdown",
   "metadata": {},
   "source": [
    "**Image compression.** Let's consider the following code that compresses a grayscale image `A` to a factor of `p` from its original size. "
   ]
  },
  {
   "cell_type": "code",
   "execution_count": null,
   "metadata": {
    "collapsed": true
   },
   "outputs": [],
   "source": [
    "using Images, FFTW\n",
    "function dctcompress(A,p)\n",
    "  m,n = size(A)  \n",
    "  mₚ,nₚ = Int.(floor.((m,n).*sqrt(p)))\n",
    "  Bₚ = dct(Float64.(A))[1:mₚ,1:nₚ]\n",
    "  Aₚ = idct([Bₚ zeros(mₚ,n-nₚ); zeros(m-mₚ,n)])\n",
    "  Gray.(clamp01!(Aₚ))\n",
    "end"
   ]
  },
  {
   "cell_type": "code",
   "execution_count": null,
   "metadata": {
    "collapsed": true
   },
   "outputs": [],
   "source": [
    "using Images\n",
    "bucket= \"https://nmfsc.s3.amazonaws.com/\"\n",
    "A = Gray.(load(download(bucket*\"laura.png\")))\n",
    "[A dctcompress(A,0.05)]"
   ]
  },
  {
   "cell_type": "markdown",
   "metadata": {},
   "source": [
    "<a name=\"label7\"></a>\n",
    "# Part 2: Numerical Methods for Analysis\n",
    "<a name=\"label8\"></a>\n",
    "## Chapter 7: Preliminaries\n",
    "Let's start with a function that returns a double-precision floating-point representation as a string of bits."
   ]
  },
  {
   "cell_type": "code",
   "execution_count": null,
   "metadata": {
    "collapsed": true
   },
   "outputs": [],
   "source": [
    "bitstring(Float64(π))"
   ]
  },
  {
   "cell_type": "markdown",
   "metadata": {},
   "source": [
    "**Rumpf's catastrophic cancellation.**"
   ]
  },
  {
   "cell_type": "code",
   "execution_count": null,
   "metadata": {
    "collapsed": true
   },
   "outputs": [],
   "source": [
    "a = 77617; b = 33096\n",
    "333.75*b^6+a^2*(11*a^2*b^2-b^6-121*b^4-2)+5.5*b^8+a/(2*b)"
   ]
  },
  {
   "cell_type": "markdown",
   "metadata": {},
   "source": [
    "`NaN` can be used to lift \"pen off paper\" when plotting a series of connected points."
   ]
  },
  {
   "cell_type": "code",
   "execution_count": null,
   "metadata": {
    "collapsed": true
   },
   "outputs": [],
   "source": [
    "plot([1,2,2,2,3],[1,2,NaN,1,2])"
   ]
  },
  {
   "cell_type": "markdown",
   "metadata": {},
   "source": [
    "<a name=\"label9\"></a>\n",
    "## Chapter 8: Solutions to Nonlinear Equations\n",
    "We start with simple implementation of the bisection method."
   ]
  },
  {
   "cell_type": "code",
   "execution_count": null,
   "metadata": {
    "collapsed": true
   },
   "outputs": [],
   "source": [
    "function bisection(f,a,b,tolerance)\n",
    "  while abs(b-a) > tolerance\n",
    "    c = (a+b)/2\n",
    "    sign(f(c)) == sign(f(a)) ? a = c : b = c\n",
    "  end\n",
    "  (a+b)/2\n",
    "end"
   ]
  },
  {
   "cell_type": "code",
   "execution_count": null,
   "metadata": {
    "collapsed": true
   },
   "outputs": [],
   "source": [
    "bisection(x->sin(x),2,4,1e-14)"
   ]
  },
  {
   "cell_type": "markdown",
   "metadata": {},
   "source": [
    "**The Mandelbrot set**. The following function takes the array `bb` for the lower-left and upper-right corners of the bounding box; `xpix` for the number of horizontal pixels; `n` for the maximum number of iterations; and `s` for the starting value $z^{(0)}$, which for the Mandelbrot set is 0. The function returns a two-dimensional array `M` that counts the number of iterations `k` to escape: $|z^{(k)}|>2$. We'll then use this function to generate an image."
   ]
  },
  {
   "cell_type": "code",
   "execution_count": null,
   "metadata": {
    "collapsed": true
   },
   "outputs": [],
   "source": [
    "function mandelbrot(bb,xpix,n,s)\n",
    "  ypix = round(Int,xpix*(bb[4]-bb[2])/(bb[3]-bb[1]))\n",
    "  M = zeros(Int,ypix,xpix)\n",
    "  z = float(s)*ones(Complex,ypix,xpix)\n",
    "  c = LinRange(bb[1],bb[3],xpix)' .+\n",
    "    im*LinRange(bb[4],bb[2],ypix)\n",
    "  for k in 1:n\n",
    "    mask = (abs.(z) .< 2)\n",
    "    M[mask] = M[mask] .+ 1\n",
    "    z[mask] = z[mask].^2 .+ c[mask]\n",
    "  end\n",
    "  return(M)\n",
    "end"
   ]
  },
  {
   "cell_type": "code",
   "execution_count": null,
   "metadata": {
    "collapsed": true
   },
   "outputs": [],
   "source": [
    "using Images\n",
    "M = mandelbrot([-0.172, 1.0228, -0.1494, 1.0443],800,200,0)\n",
    "save(\"mandelbrot.png\",1 .- M./maximum(M))\n",
    "load(\"mandelbrot.png\")"
   ]
  },
  {
   "cell_type": "markdown",
   "metadata": {},
   "source": [
    "Imaging the Julia set uses almost identical code. The Mandelbrot set lives in the $c$-domain with a given value $z^{(0)}=0$, and the Julia set lives in the $z$-domain with a given value $c$. So the code for the Julia set requires only swapping the initializations for variables `z` and `c` in the code."
   ]
  },
  {
   "cell_type": "code",
   "execution_count": null,
   "metadata": {
    "collapsed": true
   },
   "outputs": [],
   "source": [
    "function julia(bb,xpix,n,s)\n",
    "  ypix = round(Int,xpix*(bb[4]-bb[2])/(bb[3]-bb[1]))\n",
    "  M = zeros(Int,ypix,xpix)\n",
    "  z = float(s)*ones(Complex,ypix,xpix)\n",
    "  c = LinRange(bb[1],bb[3],xpix)' .+\n",
    "    im*LinRange(bb[4],bb[2],ypix)\n",
    " ((c,z)=(z,c))\n",
    "  for k in 1:n\n",
    "    mask = (abs.(z) .< 2)\n",
    "    M[mask] = M[mask] .+ 1\n",
    "    z[mask] = z[mask].^2 .+ c[mask]\n",
    "  end\n",
    "  return(M)\n",
    "end"
   ]
  },
  {
   "cell_type": "code",
   "execution_count": null,
   "metadata": {
    "collapsed": true
   },
   "outputs": [],
   "source": [
    "J = julia([-2 -1 2 1],800,100,-1+0.3im)\n",
    "save(\"julia.png\",1 .- J./maximum(J))\n",
    "load(\"julia.png\")"
   ]
  },
  {
   "cell_type": "markdown",
   "metadata": {},
   "source": [
    "**Homotopy continuation**. The following snippet of code finds a root of $$x^3-3xy^2-1 =0$$\n",
    "$$y^3-3x^2y = 0$$ with an initial guess $(x,y) = (1,1)$ using homotopy continuation: "
   ]
  },
  {
   "cell_type": "code",
   "execution_count": null,
   "metadata": {
    "collapsed": true
   },
   "outputs": [],
   "source": [
    "using DifferentialEquations\n",
    "f = z -> ((x,y)=tuple(z...);\n",
    "  [x^3-3x*y^2-1; y^3-3x^2*y])\n",
    "df = (z,p,_) -> ((x,y)=tuple(z...);\n",
    "  -[3x^2-3y^2 -6x*y; -6x*y 3y^2-3x^2]\\p)\n",
    "z₀ = [1,1]\n",
    "sol = solve(ODEProblem(df,z₀,(0,1),f(z₀)))\n",
    "sol.u[end]"
   ]
  },
  {
   "cell_type": "markdown",
   "metadata": {},
   "source": [
    "<a name=\"label10\"></a>\n",
    "## Chapter 9: Interpolation\n",
    " **Splines.** The function `spline_natural` computes the coefficients `m` of a cubic spline with natural boundary conditions through the nodes given by the arrays `x` and `y`. The function `evaluate_spline` returns a set of `n` points along the spline. The final code snippet tests these functions with several randomly selected points.<a name=\\\"spline_natural\\\"></n>"
   ]
  },
  {
   "cell_type": "code",
   "execution_count": null,
   "metadata": {
    "collapsed": true
   },
   "outputs": [],
   "source": [
    "function spline_natural(xᵢ,yᵢ)\n",
    "  h = diff(xᵢ)\n",
    "  γ = 6*diff(diff(yᵢ)./h)\n",
    "  α = h[2:end-1]\n",
    "  β = 2(h[1:end-1]+h[2:end])\n",
    "  [0;SymTridiagonal(β,α)\\γ;0]\n",
    "end"
   ]
  },
  {
   "cell_type": "code",
   "execution_count": null,
   "metadata": {
    "collapsed": true
   },
   "outputs": [],
   "source": [
    "function evaluate_spline(xᵢ,yᵢ,m,n)\n",
    "  h = diff(xᵢ)\n",
    "  B = yᵢ[1:end-1] .- m[1:end-1].*h.^2/6\n",
    "  A = diff(yᵢ)./h - h./6 .*diff(m)\n",
    "  x = range(minimum(xᵢ),maximum(xᵢ),length=n+1)\n",
    "  i = sum(xᵢ' .≤ x,dims=2)\n",
    "  i[end] = length(xᵢ)-1 \n",
    "  y = @. (m[i]*(xᵢ[i+1]-x)^3 + m[i+1]*(x-xᵢ[i])^3)/(6h[i]) +\n",
    "     A[i]*(x-xᵢ[i]) + B[i]\n",
    "  return(x,y)\n",
    "end"
   ]
  },
  {
   "cell_type": "code",
   "execution_count": null,
   "metadata": {
    "collapsed": true
   },
   "outputs": [],
   "source": [
    "x = LinRange(0,1,8); y = rand(8)\n",
    "m = spline_natural(x,y)\n",
    "X,Y = evaluate_spline(x,y,m,100)\n",
    "scatter(x,y); plot!(X,Y)"
   ]
  },
  {
   "cell_type": "markdown",
   "metadata": {},
   "source": [
    "The Julia Dierckx.jl package provides a wrapper of the dierckx Fortran library developed by Paul Dierckx.  This package provides an easy interface to building splines. Let's create a function and select some knots."
   ]
  },
  {
   "cell_type": "code",
   "execution_count": null,
   "metadata": {
    "collapsed": true
   },
   "outputs": [],
   "source": [
    "g = x-> @. max(1-abs(3-x),0)\n",
    "xᵢ = 0:5; yᵢ = g(xᵢ)\n",
    "x = LinRange(0,5,101);"
   ]
  },
  {
   "cell_type": "code",
   "execution_count": null,
   "metadata": {
    "collapsed": true
   },
   "outputs": [],
   "source": [
    "using Dierckx, Plots\n",
    "spline = Spline1D(xᵢ,yᵢ)\n",
    "plot(x,spline(x)); plot!(x,g(x)); scatter!(xᵢ,yᵢ)"
   ]
  },
  {
   "cell_type": "markdown",
   "metadata": {},
   "source": [
    "The Interpolations.jl package, which is still under development, can be used to evaluate up through third-order B-splines, but the nodes must be equally spaced. Let's fit a spline through the knots that we generated earlier."
   ]
  },
  {
   "cell_type": "code",
   "execution_count": null,
   "metadata": {
    "collapsed": true
   },
   "outputs": [],
   "source": [
    "using Interpolations\n",
    "method = BSpline(Cubic(Natural(OnGrid())))\n",
    "spline =  scale(interpolate(yᵢ, method), xᵢ)\n",
    "plot(x,spline(x)); plot!(x,g(x)); scatter!(xᵢ,yᵢ)"
   ]
  },
  {
   "cell_type": "code",
   "execution_count": null,
   "metadata": {
    "collapsed": true
   },
   "outputs": [],
   "source": [
    "bernstein(n,t) = @. binomial(n,0:n)'*t^(0:n)'*(1-t)^(n:-1:0)'"
   ]
  },
  {
   "cell_type": "code",
   "execution_count": null,
   "metadata": {
    "collapsed": true
   },
   "outputs": [],
   "source": [
    "n = 3\n",
    "t = LinRange(0,1,100)\n",
    "p = rand(n+1,2)\n",
    "z = bernstein(n,t)*p\n",
    "plot(p[:,1],p[:,2],marker=:o,opacity=0.3); \n",
    "plot!(z[:,1],z[:,2],legend=:none)"
   ]
  },
  {
   "cell_type": "markdown",
   "metadata": {},
   "source": [
    "**Bézier cirves.** The following function builds a Bernstein matrix. We'll then test the function on a set of points to create a cubic Bézier curve with a set of four randomly selected control points. "
   ]
  },
  {
   "cell_type": "markdown",
   "metadata": {},
   "source": [
    "<a name=\"label11\"></a>\n",
    "## Chapter 10: Approximating Functions\n",
    " **Legendre ploynomials** We can evaluate a Legendre polynomial of order $n$ using Bonnet's recursion formula."
   ]
  },
  {
   "cell_type": "code",
   "execution_count": null,
   "metadata": {
    "collapsed": true
   },
   "outputs": [],
   "source": [
    "function legendre(x,n)\n",
    "  n==0 && return(one.(x))\n",
    "  n==1 && return(x)\n",
    "  x.*legendre(x,n-1) .- (n-1)^2/(4(n-1)^2-1)*legendre(x,n-2)\n",
    "end"
   ]
  },
  {
   "cell_type": "code",
   "execution_count": null,
   "metadata": {
    "collapsed": true
   },
   "outputs": [],
   "source": [
    "x = LinRange(-1,1,100)\n",
    "plot()\n",
    "for n in 0:4\n",
    "    plot!(x,legendre(x,n)) \n",
    "end\n",
    "current()"
   ]
  },
  {
   "cell_type": "markdown",
   "metadata": {},
   "source": [
    "**Wavelets**. The function `scaling` returns the scaling function (father wavelet). We can use it to generate the wavelet function (mother wavelet). As an example, we will plot the Daubechies $D_4$ with $c_k = (1+\\sqrt{3},3+\\sqrt{3},3-\\sqrt{3},1-\\sqrt{3}])/4$ and $\\phi(k) = (0,1+\\sqrt{3},1-\\sqrt{3},0)/2$."
   ]
  },
  {
   "cell_type": "code",
   "execution_count": null,
   "metadata": {
    "collapsed": true
   },
   "outputs": [],
   "source": [
    "using OffsetArrays\n",
    "function scaling(c,ϕₖ,n)\n",
    "  m = length(c)-1; ℓ = 2^n\n",
    "  ϕ = OffsetVector(zeros(3*m*ℓ),-m*ℓ) \n",
    "  k = (0:m)*ℓ\n",
    "  ϕ[k] = ϕₖ\n",
    "  for j = 1:n\n",
    "    for i = 1:m*2^(j-1)\n",
    "      x = (2i-1)*2^(n-j)            \n",
    "      ϕ[x] = c ⋅ ϕ[2x .- k]\n",
    "    end\n",
    "  end\n",
    "  ((0:m*ℓ-1)/ℓ, ϕ[0:m*ℓ-1])\n",
    "end"
   ]
  },
  {
   "cell_type": "code",
   "execution_count": null,
   "metadata": {
    "collapsed": true
   },
   "outputs": [],
   "source": [
    "c = [1+√3,3+√3,3-√3,1-√3]/4\n",
    "z = [0,1+√3,1-√3,0]/2\n",
    "(x,ϕ) = scaling(c, z, 8)\n",
    "plot(x,ϕ)"
   ]
  },
  {
   "cell_type": "code",
   "execution_count": null,
   "metadata": {
    "collapsed": true
   },
   "outputs": [],
   "source": [
    "ψ = zero(ϕ); n = length(c)-1; ℓ = length(ψ)÷2n\n",
    "for k∈0:n\n",
    "  ψ[(k*ℓ+1):(k+n)*ℓ] += (-1)^k*c[n-k+1]*ϕ[1:2:end]\n",
    "end\n",
    "plot(x,ψ)"
   ]
  },
  {
   "cell_type": "markdown",
   "metadata": {},
   "source": [
    "**Nonlinear least squares approximation**. The function `gauss_newton` solves a nonlinear least squares problem where the Jacobian is approximated numerically using function `jacobian`. The solver is then used to find the parameters for a model logistic regression problem.<a name=\"jacobian\"></a>"
   ]
  },
  {
   "cell_type": "code",
   "execution_count": null,
   "metadata": {
    "collapsed": true
   },
   "outputs": [],
   "source": [
    "function gauss_newton(x,y,c,f)\n",
    "  r = y - f(c,x) \n",
    "  for j in 1:50\n",
    "    c += jacobian(f,c,x)\\r\n",
    "    norm(r-(r=y-f(c,x))) < 1e-12 && return(c)\n",
    "  end\n",
    "  print(\"Gauss-Newton did not converge.\")\n",
    "end"
   ]
  },
  {
   "cell_type": "code",
   "execution_count": null,
   "metadata": {
    "collapsed": true
   },
   "outputs": [],
   "source": [
    "function jacobian(f,c,x)\n",
    "  J = zeros(length(x),length(c))\n",
    "  for k in (n = 1:length(c))\n",
    "    J[:,k] .= imag(f(c+1e-8im*(k .== n),x))/1e-8\n",
    "  end\n",
    "  return(J)\n",
    "end"
   ]
  },
  {
   "cell_type": "code",
   "execution_count": null,
   "metadata": {
    "collapsed": true
   },
   "outputs": [],
   "source": [
    "x = [randn(10);randn(10) .+ 1]\n",
    "y = [zeros(10);ones(10)]\n",
    "f = (c,x) -> @. 1/(exp(-c[1]*(x-c[2]))+1)\n",
    "c = gauss_newton(x,y,[1;2],f)"
   ]
  },
  {
   "cell_type": "code",
   "execution_count": null,
   "metadata": {
    "collapsed": true
   },
   "outputs": [],
   "source": [
    "X = LinRange(-4,6,100)\n",
    "scatter(x,y,opacity=0.6);\n",
    "plot!(X,f(c,X),legend=:none)"
   ]
  },
  {
   "cell_type": "markdown",
   "metadata": {},
   "source": [
    "<a name=\"label12\"></a>\n",
    "## Chapter 11: Differentiation and Integration\n",
    " Let's compute the coefficients to the third-order approximation to $f'(x)$ using nodes at $x-h$, $x$, $x+h$ and $x+2h$. "
   ]
  },
  {
   "cell_type": "code",
   "execution_count": null,
   "metadata": {
    "collapsed": true
   },
   "outputs": [],
   "source": [
    "d = [-1,0,1,2]\n",
    "n = length(d)\n",
    "V = d.^(0:n-1)' .// factorial.(0:n-1)'\n",
    "C = inv(V)"
   ]
  },
  {
   "cell_type": "markdown",
   "metadata": {},
   "source": [
    "**Richardson extrapolation**. $D(\\phi(x))$ of a finite difference operator $\\phi(x)$.<a name=\"richardson_extrapolation\"></a>"
   ]
  },
  {
   "cell_type": "code",
   "execution_count": null,
   "metadata": {
    "collapsed": true
   },
   "outputs": [],
   "source": [
    "function richardson(f,x,m,n=m)\n",
    "  n > 0 ? \n",
    "  (4^n*richardson(f,x,m,n-1) - richardson(f,x,m-1,n-1))/(4^n-1) :\n",
    "  ϕ(f,x,2^m)  \n",
    "end"
   ]
  },
  {
   "cell_type": "code",
   "execution_count": null,
   "metadata": {
    "collapsed": true
   },
   "outputs": [],
   "source": [
    "ϕ = (f,x,n) -> (f(x+1/n) - f(x-1/n))/(2/n)"
   ]
  },
  {
   "cell_type": "code",
   "execution_count": null,
   "metadata": {
    "collapsed": true
   },
   "outputs": [],
   "source": [
    "richardson(x->sin(x),0,4)"
   ]
  },
  {
   "cell_type": "markdown",
   "metadata": {},
   "source": [
    "**Automatic differentiation**. <a name=\"dualclass\"></a> We can build a minimal working example of a forward accumulation automatic differentiation by defining a class and overloading the base operators.  We'll verify the code using the funtion $x + \\sin x$. "
   ]
  },
  {
   "cell_type": "code",
   "execution_count": null,
   "metadata": {
    "collapsed": true
   },
   "outputs": [],
   "source": [
    "struct Dual\n",
    "  value\n",
    "  deriv\n",
    "end"
   ]
  },
  {
   "cell_type": "code",
   "execution_count": null,
   "metadata": {
    "collapsed": true
   },
   "outputs": [],
   "source": [
    "Dual(x) = Dual(x,1)\n",
    "value(x) = x isa Dual ? x.value : x\n",
    "deriv(x) = x isa Dual ? x.deriv : 0"
   ]
  },
  {
   "cell_type": "code",
   "execution_count": null,
   "metadata": {
    "collapsed": true
   },
   "outputs": [],
   "source": [
    "Base.:+(u, v) = Dual(value(u)+value(v), deriv(u)+deriv(v))\n",
    "Base.:-(u, v) = Dual(value(u)-value(v), deriv(u)-deriv(v))\n",
    "Base.:*(u, v) = Dual(value(u)*value(v), \n",
    "   value(u)*deriv(v)+value(v)*deriv(u))\n",
    "Base.:sin(u)  =  Dual(sin(value(u)), cos(value(u))*deriv(u))"
   ]
  },
  {
   "cell_type": "code",
   "execution_count": null,
   "metadata": {
    "collapsed": true
   },
   "outputs": [],
   "source": [
    "x = Dual(0)\n",
    "y = x + sin(x)"
   ]
  },
  {
   "cell_type": "markdown",
   "metadata": {},
   "source": [
    "Now, let's apply the code above to compute the Jacobian of the system $$y_1 = x_1x_2 + \\sin x_2$$$$y_2 = x_1x_2 - \\sin x_2$$ evaluated at $(x_1,x_2) = (2,\\pi)$."
   ]
  },
  {
   "cell_type": "code",
   "execution_count": null,
   "metadata": {
    "collapsed": true
   },
   "outputs": [],
   "source": [
    "x₁ = Dual(2,[1 0])\n",
    "x₂ = Dual(π,[0 1])\n",
    "y₁ = x₁*x₂ + sin(x₂)\n",
    "y₂ = x₁*x₂ - sin(x₂)\n",
    "value(y₁),value(y₁),deriv(y₁),deriv(y₂)"
   ]
  },
  {
   "cell_type": "markdown",
   "metadata": {},
   "source": [
    "**Romberg method**. We can use the following trapezoidal quadrature  to make a Romberg method using Richardson extrapolation. We first define the function `trapezoidal` for composite trapezoidal quadrature. By redefine `phi` to equal `trapezoidal` we can simply apply the function `D` that we used to define Richardson extrapolation. We'll verify the code by integrating $\\sin x$ from $0$ to $\\pi/2$."
   ]
  },
  {
   "cell_type": "code",
   "execution_count": null,
   "metadata": {
    "collapsed": true
   },
   "outputs": [],
   "source": [
    "function trapezoidal(f,x,n) \n",
    "  F = f.(LinRange(x[1],x[2],n+1))\n",
    "  (F[1]/2 + sum(F[2:end-1]) + F[end]/2)*(x[2]-x[1])/n\n",
    "end"
   ]
  },
  {
   "cell_type": "code",
   "execution_count": null,
   "metadata": {
    "collapsed": true
   },
   "outputs": [],
   "source": [
    "ϕ = (f,x,n) -> trapezoidal(f,x,n)"
   ]
  },
  {
   "cell_type": "code",
   "execution_count": null,
   "metadata": {
    "collapsed": true
   },
   "outputs": [],
   "source": [
    "richardson(x->sin(x),[0,π/2],4)"
   ]
  },
  {
   "cell_type": "markdown",
   "metadata": {},
   "source": [
    "**Composite trapezoidal method**. Let's examine the convergence rate for the composite trapezoidal rule applied to the function $f(x) = x + (x - x^2)^p$ over the interval $[0,2]$ with $p = 1,2,\\dots,7$. We can do this by finding the loglog slope of the error as a function of subintervals $n$. We find that the error of the trapezoidal rule is $O(n^2)$ when $p=1$, $O(n^4)$ when $p$ is 2 or 3, $O(n^6)$ when $p$ is 4 or 5, and so on."
   ]
  },
  {
   "cell_type": "code",
   "execution_count": null,
   "metadata": {
    "collapsed": true
   },
   "outputs": [],
   "source": [
    "n = [floor(Int,10^y) for y in LinRange(1, 2, 10)]\n",
    "error = zeros(10,7)\n",
    "f = (x,p) -> x + x.^p.*(2-x).^p\n",
    "for p ∈ 1:7,\n",
    "  S = trapezoidal(x->f(x,p),[0,2],10^6)\n",
    "  for i ∈ 1:length(n)\n",
    "    Sₙ = trapezoidal(x->f(x,p),[0,2],n[i])\n",
    "    error[i,p] =  abs(Sₙ - S)/S\n",
    "  end\n",
    "end\n",
    "slope = ([log.(n) one.(n)]\\log.(error))[1,:]\n",
    "info = .*(string.((1:7)'),\": slope=\",string.(round.(slope')))\n",
    "plot(n,error, xaxis=:log, yaxis=:log, labels = info)"
   ]
  },
  {
   "cell_type": "markdown",
   "metadata": {},
   "source": [
    "**Clenshaw-Curtis quadrature**. applies the trapezoidal rule to a discrete cosine transform (type-1) as a means of numerically evaluating the integral $\\int_{-1}^{1} f(x) \\,\\mathrm{d}x.$  We'll test the integral on the function $f(x) = 8 \\cos x^2$, with an integral of approximately 0.566566"
   ]
  },
  {
   "cell_type": "code",
   "execution_count": null,
   "metadata": {
    "collapsed": true
   },
   "outputs": [],
   "source": [
    "using FFTW, LinearAlgebra\n",
    "function clenshaw_curtis(f,n)\n",
    "  x = cos.(π*(0:n)'/n)\n",
    "  w = zeros(n+1,1); w[1:2:n+1] = 2 ./ (1 .- (0:2:n).^2)\n",
    "  1/n * dctI(f.(x)) ⋅ w\n",
    "end"
   ]
  },
  {
   "cell_type": "code",
   "execution_count": null,
   "metadata": {
    "collapsed": true
   },
   "outputs": [],
   "source": [
    "function dctI(f) \n",
    "  g = FFTW.r2r!([f...],FFTW.REDFT00)\n",
    "  [g[1]/2; g[2:end-1]; g[end]/2]  \n",
    "end"
   ]
  },
  {
   "cell_type": "code",
   "execution_count": null,
   "metadata": {
    "collapsed": true
   },
   "outputs": [],
   "source": [
    "clenshaw_curtis(x -> cos(8x^2),20)"
   ]
  },
  {
   "cell_type": "markdown",
   "metadata": {},
   "source": [
    "A mathematical comment: we could have also  defined a type-1 DCT explicitly in terms of its underlying FFTs if we wanted to crack the black box open just a wee bit more."
   ]
  },
  {
   "cell_type": "code",
   "execution_count": null,
   "metadata": {
    "collapsed": true
   },
   "outputs": [],
   "source": [
    "function dctI(f)\n",
    "  n = length(f)\n",
    "  g = real(fft(f[[1:n; n-1:-1:2]]))\n",
    "  [g[1]/2; g[2:n-1]; g[n]/2]  \n",
    "end"
   ]
  },
  {
   "cell_type": "markdown",
   "metadata": {},
   "source": [
    "**Gauss–Legendre quadrature.** We first compute the Legendre weights and nodes and then apply Gauss–Legendre quadrature to compute $$\\int_{-1}^{1} \\cos x \\cdot \\mathrm{e}^{-x^2} \\,\\mathrm{d}x$$ using a nominal number of nodes $n=8$. "
   ]
  },
  {
   "cell_type": "code",
   "execution_count": null,
   "metadata": {
    "collapsed": true
   },
   "outputs": [],
   "source": [
    "function gauss_legendre(n)\n",
    "  a = zeros(n)  \n",
    "  b = (1:n-1).^2 ./ (4*(1:n-1).^2 .- 1)\n",
    "  𝟙² = 2\n",
    "  λ, v = eigen(SymTridiagonal(a, sqrt.(b))) \n",
    "  (λ, 𝟙²*v[1,:].^2)\n",
    "end"
   ]
  },
  {
   "cell_type": "code",
   "execution_count": null,
   "metadata": {
    "collapsed": true
   },
   "outputs": [],
   "source": [
    "n = 8\n",
    "f(x) = cos(x)*exp(-x^2);\n",
    "nodes, weights = gauss_legendre(n)\n",
    "f.(nodes) ⋅ weights"
   ]
  },
  {
   "cell_type": "markdown",
   "metadata": {},
   "source": [
    "Alternatively, the Julia library FastGaussQuadrature.jl gives a fast, accurate method of computing the nodes and weights"
   ]
  },
  {
   "cell_type": "code",
   "execution_count": null,
   "metadata": {
    "collapsed": true
   },
   "outputs": [],
   "source": [
    "using FastGaussQuadrature\n",
    "nodes, weights = gausslegendre(n)\n",
    "f.(nodes) ⋅ weights"
   ]
  },
  {
   "cell_type": "markdown",
   "metadata": {},
   "source": [
    "<a name=\"label13\"></a>\n",
    "# Part 3: Numerical Partial Differential Equations\n",
    "<a name=\"label14\"></a>\n",
    "## Chapter 12: Ordinary Differential Equations\n",
    " Let's plot the boundary of the region of absolute stability for BDF2: $$z = \\frac{\\frac{3}{2} r^2 - 2 r + \\frac{1}{2}}{r^2}$$"
   ]
  },
  {
   "cell_type": "code",
   "execution_count": null,
   "metadata": {
    "collapsed": true
   },
   "outputs": [],
   "source": [
    "r = exp.(2im*π*(0:.01:1))\n",
    "plot(@. (1.5r^2 - 2r + 0.5)/r^2)"
   ]
  },
  {
   "cell_type": "markdown",
   "metadata": {},
   "source": [
    "**Multistep coefficients**. The function `multistepcoeffs` determines the multistep coefficients for stencil given by `m` and `n`. The function `plotstability` uses these coefficients to plot boundary of the region of absolute stability. We'll test it on the Adams–Moulton method with input `m = [1]` and `n = [0 1 2]`.<a name=\"multistepcoeffs\"></a>"
   ]
  },
  {
   "cell_type": "code",
   "execution_count": null,
   "metadata": {
    "collapsed": true
   },
   "outputs": [],
   "source": [
    "function multistepcoeffs(m,n)\n",
    "  s = length(m) + length(n)\n",
    "  A = (m.+1).^(0:s-1)\n",
    "  B = (0:s-1).*(n.+1).^(0:s-1).//(n.+1)\n",
    "  c = -[A B]\\ones(Int64,s)\n",
    "  [1;c[1:length(m)]], c[(length(m)+1):end] \n",
    "end"
   ]
  },
  {
   "cell_type": "code",
   "execution_count": null,
   "metadata": {
    "collapsed": true
   },
   "outputs": [],
   "source": [
    "function plotstability(a,b)\n",
    "  λk(r) = (a ⋅ r.^(0:length(a)-1)) ./ (b ⋅ r.^(0:length(b)-1))\n",
    "  r = exp.(im*LinRange(0,2π,200))\n",
    "  plot(λk.(r),label=\"\",aspect_ratio=:equal)\n",
    "end"
   ]
  },
  {
   "cell_type": "code",
   "execution_count": null,
   "metadata": {
    "collapsed": true
   },
   "outputs": [],
   "source": [
    "a,b = multistepcoeffs([1],[0 1 2])\n",
    "plotstability(a,b)"
   ]
  },
  {
   "cell_type": "markdown",
   "metadata": {},
   "source": [
    "**Recipe for solving an ODE**. The general recipe for solving an ODE is to\n",
    "1. Load the module\n",
    "1. Set up the parameters\n",
    "1. Define the problem\n",
    "1. Choose the method\n",
    "1. Solve the problem\n",
    "1. Present the solution\n",
    "\n",
    "Let's apply this recipe to solve the pendulum problem $u'' = \\sin u$ with initial conditions $u(0) = \\pi/9$ and $u'(0) = 0$ over $t\\in[0,8\\pi]$."
   ]
  },
  {
   "cell_type": "code",
   "execution_count": null,
   "metadata": {
    "collapsed": true
   },
   "outputs": [],
   "source": [
    "using DifferentialEquations, Plots\n",
    "pendulum(u,p,t) = [u[2]; -sin(u[1])]\n",
    "u₀ = [8π/9,0]; tspan = [0,8π]\n",
    "problem = ODEProblem(pendulum, u₀, tspan)\n",
    "method = Trapezoid()\n",
    "solution = solve(problem,method)\n",
    "plot(solution, xaxis=\"t\", label=[\"θ\" \"ω\"])"
   ]
  },
  {
   "cell_type": "markdown",
   "metadata": {},
   "source": [
    "<a name=\"label15\"></a>\n",
    "## Chapter 13: Parabolic Equations\n",
    "**Heat equation using the backward Euler method**. Let's solve the heat equation using the backward Euler method with initial conditions given by a rectangular function and absorbing boundary conditions."
   ]
  },
  {
   "cell_type": "code",
   "execution_count": null,
   "metadata": {
    "collapsed": true
   },
   "outputs": [],
   "source": [
    "Δx = .01; Δt = .01; L = 2; λ = Δt/Δx^2; uₗ = 0; uᵣ = 0;\n",
    "x = collect(-L:Δx:L); n = length(x) \n",
    "u = (abs.(x).<1)\n",
    "u[1] += 2λ*uₗ; u[n] += 2λ*uᵣ \n",
    "D = Tridiagonal(ones(n-1), -2ones(n), ones(n-1))\n",
    "D[1,2] = 0; D[n,n-1] = 0\n",
    "A = I - λ*D \n",
    "for i in 1:20\n",
    "  u = A\\u\n",
    "end\n",
    "plot(x,u)"
   ]
  },
  {
   "cell_type": "markdown",
   "metadata": {},
   "source": [
    "**Heat equation using the Crank–Nicolson method**. Let's solve the heat equation again using the Crank–Nicolson method with initial conditions given by a rectangular function. This time we'll use reflecting boundary conditions. Notice how the high-frequency information does not decay as it did when using the backward Euler method."
   ]
  },
  {
   "cell_type": "code",
   "execution_count": null,
   "metadata": {
    "collapsed": true
   },
   "outputs": [],
   "source": [
    "Δx = .01; Δt = .01; L = 2; λ = Δt/Δx^2\n",
    "x = collect(-L:Δx:L); n = length(x) \n",
    "u = (abs.(x).<1)\n",
    "D = Tridiagonal(ones(n-1), -2ones(n), ones(n-1))\n",
    "D[1,2] = 2; D[n,n-1] = 2\n",
    "A = 2I + λ*D \n",
    "B = 2I - λ*D \n",
    "anim = @animate for i in 1:20\n",
    "  plot(x,u, legend=:none, ylims=(0,1))\n",
    "  u = B\\(A*u)\n",
    "end\n",
    "gif(anim, \"heat.gif\", fps = 5)"
   ]
  },
  {
   "cell_type": "markdown",
   "metadata": {},
   "source": [
    "**Porous medium equation**. We'll now solve the porous medium equation $u_t = (u^2u_x)_x$ using an adaptive-step BDF routine."
   ]
  },
  {
   "cell_type": "code",
   "execution_count": null,
   "metadata": {
    "collapsed": true
   },
   "outputs": [],
   "source": [
    "using Sundials\n",
    "n = 400; L = 2; x = LinRange(-L,L,n); Δx = x[2]-x[1]\n",
    "m = (u -> u.^2)\n",
    "Du(u,Δx,t) = [0;diff(m((u[1:end-1]+u[2:end])/2).*diff(u))/Δx^2;0]\n",
    "u₀ = (abs.(x).<1)\n",
    "problem = ODEProblem(Du,u₀,(0,2),Δx)\n",
    "method = CVODE_BDF(linear_solver=:Band, jac_lower=1, jac_upper=1)\n",
    "solution = solve(problem, method);"
   ]
  },
  {
   "cell_type": "code",
   "execution_count": null,
   "metadata": {
    "collapsed": true
   },
   "outputs": [],
   "source": [
    "anim = @animate for t in LinRange(0,2,200)\n",
    "  plot(x,solution(t),legend=:none,fill=(0,0.4,:red),ylims=(0,1))\n",
    "end\n",
    "gif(anim, \"porous.gif\", fps = 15)"
   ]
  },
  {
   "cell_type": "code",
   "execution_count": null,
   "metadata": {
    "collapsed": true
   },
   "outputs": [],
   "source": [
    "using Interact\n",
    "@manipulate for t∈slider(0:0.01:2; value=0, label=\"time\")\n",
    "  plot(x,sol(t),  fill = (0, 0.4, :red))\n",
    "  plot!(ylims=(0,1),legend=:none)\n",
    "end"
   ]
  },
  {
   "cell_type": "markdown",
   "metadata": {},
   "source": [
    "<a name=\"label16\"></a>\n",
    "## Chapter 16: Fourier Spectral Methods\n",
    "**Incompressible Navier–Stokes equation**. Let's solve the heat equation using the backward Euler method with initial conditions given by a rectangular function and absorbing boundary conditions."
   ]
  },
  {
   "cell_type": "code",
   "execution_count": null,
   "metadata": {
    "collapsed": true
   },
   "outputs": [],
   "source": [
    "Δᵒ(Q,step=1) = Q - circshift(Q,(step,0))\n",
    "flux(Q,c) = c.*Δᵒ(Q) - 0.5c.*(1 .- c).*(Δᵒ(Q,1)+Δᵒ(Q,-1))\n",
    "Hₒ(u,v,iξ₁,iξ₂) = -iξ₁.*fft(ifft(u).^2) - iξ₂.*fft(ifft(u).*ifft(v))"
   ]
  },
  {
   "cell_type": "code",
   "execution_count": null,
   "metadata": {
    "collapsed": true
   },
   "outputs": [],
   "source": [
    "using FFTW, Plots\n",
    "ℓ = 2; n = 128; ϵ = 0.001; Δt = 0.001; Δx = ℓ/n\n",
    "x = LinRange(Δx,L,n)'; y = x'\n",
    "Q = (@. 0.5(1+tanh(10(1-abs(ℓ/2 - y)/(ℓ/4))))).*ones(1,n)\n",
    "uⁿ = Q .* (1 .+ 0.5sin.(ℓ*π*x))\n",
    "vⁿ = zeros(n,n) \n",
    "(uⁿ,vⁿ) = (fft(uⁿ),fft(vⁿ)) \n",
    "(uᵒ,vᵒ) = (uⁿ,vⁿ)\n",
    "iξ₁ = im*fftfreq(n,n)'*(2π/ℓ)\n",
    "iξ₂ = transpose(iξ₁)\n",
    "ξ² = iξ₁.^2 .+ iξ₂.^2\n",
    "(H₁ⁿ, H₂ⁿ) = (Hₒ(uⁿ,vⁿ,iξ₁,iξ₂),  Hₒ(vⁿ,uⁿ,iξ₂,iξ₁))\n",
    "M₊ = (1/Δt .+ (ϵ/2)*ξ²)\n",
    "M₋ = (1/Δt .- (ϵ/2)*ξ²);"
   ]
  },
  {
   "cell_type": "code",
   "execution_count": null,
   "metadata": {
    "collapsed": true
   },
   "outputs": [],
   "source": [
    "for i = 1:1200\n",
    "  Q -= flux(Q,(Δt/Δx).*real(ifft(vⁿ))) +\n",
    "       flux(Q',(Δt/Δx).*real(ifft(uⁿ))')'\n",
    "  (H₁ⁿ⁻¹, H₂ⁿ⁻¹) = (H₁ⁿ, H₂ⁿ)  \n",
    "  (H₁ⁿ, H₂ⁿ) = (Hₒ(uⁿ,vⁿ,iξ₁,iξ₂),  Hₒ(vⁿ,uⁿ,iξ₂,iξ₁))\n",
    "  uᵒ = uⁿ - uᵒ + (1.5H₁ⁿ - 0.5H₁ⁿ⁻¹ + M₊.*uⁿ)./M₋\n",
    "  vᵒ = vⁿ - vᵒ + (1.5H₂ⁿ - 0.5H₂ⁿ⁻¹ + M₊.*vⁿ)./M₋\n",
    "  ϕ = (iξ₁.*uᵒ + iξ₂.*vᵒ)./(ξ² .+ (ξ².≈ 0)) \n",
    "  (uⁿ, vⁿ) = (uᵒ - iξ₁.*ϕ, vᵒ - iξ₂.*ϕ)\n",
    "end\n",
    "contour(x',y, Q,fill=true,levels=1,legend=:none)"
   ]
  },
  {
   "cell_type": "markdown",
   "metadata": {},
   "source": [
    "<a name=\"label17\"></a>\n",
    "# Part 4: Solutions\n",
    "<a name=\"label18\"></a>\n",
    "## Numerical Linear Algebra\n",
    "**1.4. Invertibility of random (0,1) matrices.** The number of invertible $n\\times n$ (0,1) matrices is known for $n$ up to 8. . (See the [On-Line Encyclopedia of Integer Sequences](http://oeis.org/A055165).) We'll approximate the ratio of invertible matrices by checking the determinants of randomly drawn ones. Let's also plot the known ration for $n=1,2,\\dots,8$."
   ]
  },
  {
   "cell_type": "code",
   "execution_count": null,
   "metadata": {
    "collapsed": true
   },
   "outputs": [],
   "source": [
    "using Random, LinearAlgebra, Plots\n",
    "N = 10000;\n",
    "n = [sum([!(det(bitrand((d,d)))≈0) \n",
    " for i in 1:N]) for d in 1:20]\n",
    "plot(n/N,marker=:o)\n",
    "p = [1,6,174,22560,12514320,28836612000,270345669985440,10160459763342013440]\n",
    "r = @. 2^(log2(p)-(1:8)^2)\n",
    "plot!(r,marker=:square,opacity=0.5)"
   ]
  },
  {
   "cell_type": "markdown",
   "metadata": {},
   "source": [
    "**2.4. Naive algorithm for the determinant**"
   ]
  },
  {
   "cell_type": "code",
   "execution_count": null,
   "metadata": {
    "collapsed": true
   },
   "outputs": [],
   "source": [
    "function detx(A)\n",
    "  L,U,P = lu(A)\n",
    "  s = 1\n",
    "  for i in 1:length(P)\n",
    "    m = findfirst(x->x==i,P)\n",
    "    if i!=m \n",
    "       s *= -1; P[[m,i]]=P[[i,m]]\n",
    "    end\n",
    "  end\n",
    "  s * prod(diag(U))\n",
    "end"
   ]
  },
  {
   "cell_type": "code",
   "execution_count": null,
   "metadata": {
    "collapsed": true
   },
   "outputs": [],
   "source": [
    "A = rand(20,20)\n",
    "detx(A) ≈ det(A)"
   ]
  },
  {
   "cell_type": "markdown",
   "metadata": {},
   "source": [
    "**2.5. Reverse Cuthill–McKee algorithm.** The following function implements a naive reverse Cuthill–McKee algorithm  for symmetric matrices. We'll verify the algorithm by applying it to a sparse, random (0,1) matrix."
   ]
  },
  {
   "cell_type": "code",
   "execution_count": null,
   "metadata": {
    "collapsed": true
   },
   "outputs": [],
   "source": [
    "function rcuthillmckee(A)\n",
    "  r = sortperm(vec(sum(A.!=0,dims=2)))\n",
    "  p = Int64[]\n",
    "  while ~isempty(r)\n",
    "    q = [popfirst!(r)]\n",
    "    while ~isempty(q)\n",
    "      q₁ = popfirst!(q)\n",
    "      append!(p,q₁)  \n",
    "      k = findall(!iszero, A[q₁,r])\n",
    "      append!(q,splice!(r,k))\n",
    "    end\n",
    "  end\n",
    "  reverse(p)\n",
    "end"
   ]
  },
  {
   "cell_type": "code",
   "execution_count": null,
   "metadata": {
    "collapsed": true
   },
   "outputs": [],
   "source": [
    "using SparseArrays, LinearAlgebra, Plots\n",
    "A = Symmetric(sprand(1000,1000,0.003))\n",
    "p = rcuthillmckee(A)\n",
    "plot(spy(A), spy(A[p,p]),colorbar = false)"
   ]
  },
  {
   "cell_type": "markdown",
   "metadata": {},
   "source": [
    "**3.4. NIST Filippelli problem.** The Filippelli dataset was contrived by NIST to benchmark linear regression software. The Filippelli problem consists of fitting an 10th degree polynomial to the data set⁠—a rather ill-conditioned problem. We first need to download the data. Then we'll define three methods for solving the Vandermonde problem: normal equations, QR decomposition, and pseudo-inverse."
   ]
  },
  {
   "cell_type": "code",
   "execution_count": null,
   "metadata": {
    "collapsed": true
   },
   "outputs": [],
   "source": [
    "vandermonde(t,n) = vec(t).^(0:n-1)'\n",
    "build_poly(c,X) = vandermonde(X,length(c))*c"
   ]
  },
  {
   "cell_type": "code",
   "execution_count": null,
   "metadata": {
    "collapsed": true
   },
   "outputs": [],
   "source": [
    "function solve_filip(x,y,n)\n",
    "  V = vandermonde(x, n)\n",
    "  c = Array{Float64}(undef, 3, n)\n",
    "  c[1,:] = (V'*V)\\(V'*y)\n",
    "  Q,R = qr(V)\n",
    "  c[2,:] = R\\(Matrix(Q)'*y)\n",
    "  c[3,:] = pinv(V,1e-9)*y\n",
    "  r = [norm(V*c[i,:]-y) for i in 1:3]\n",
    "  return(c,r)\n",
    "end"
   ]
  },
  {
   "cell_type": "markdown",
   "metadata": {},
   "source": [
    "Now, let's solve the problem and plot the results. Let's also list the coefficients from each method alongside the official NIST coefficients. What do you notice about the coefficients? What method performs the best?"
   ]
  },
  {
   "cell_type": "code",
   "execution_count": null,
   "metadata": {
    "collapsed": true
   },
   "outputs": [],
   "source": [
    "using DelimitedFiles, LinearAlgebra, Plots\n",
    "bucket = \"https://nmfsc.s3.amazonaws.com/\"\n",
    "data = readdlm(download(bucket*\"filip.csv\"),',',Float64)\n",
    "coef = readdlm(download(bucket*\"filip-coeffs.csv\"),',')\n",
    "(x,y) = (data[:,2],data[:,1])\n",
    "β,r = solve_filip(x, y, 11)\n",
    "X = LinRange(minimum(x),maximum(x),200)\n",
    "Y = [build_poly(β[i,:],X) for i in 1:3]\n",
    "plot(X,Y); scatter!(x,y,opacity=0.5)\n",
    "[coef β']"
   ]
  },
  {
   "cell_type": "markdown",
   "metadata": {},
   "source": [
    "What makes the Filippelli problem a difficult problem is that the condition number of the system is huge. We can reduce the condition number by first standardizing the data before using it⁠—i.e., subtracting the mean and dividing by the standard deviation. Look at the difference in condition numbers of the Vandermonde matrix before and after standardizing the data."
   ]
  },
  {
   "cell_type": "code",
   "execution_count": null,
   "metadata": {
    "collapsed": true
   },
   "outputs": [],
   "source": [
    "using Statistics\n",
    "zscore(X,x=X) = (X .- mean(x))/std(x)\n",
    "c,r = solve_filip(zscore(x), zscore(y), 11)\n",
    "Y = [build_poly(c[i,:],zscore(X,x))*std(y).+mean(y) for i in 1:3]\n",
    "plot(X,Y); scatter!(x,y,opacity=0.5)"
   ]
  },
  {
   "cell_type": "markdown",
   "metadata": {},
   "source": [
    "**3.5. Modeling daily temperatures** We'll use $u(t) = c_1 \\sin(2\\pi t) + c_2 \\cos(2\\pi t) + c_3$ to model the daily temperatures using data recorded in Washington, DC. between 1967 and 1971."
   ]
  },
  {
   "cell_type": "code",
   "execution_count": null,
   "metadata": {
    "collapsed": true
   },
   "outputs": [],
   "source": [
    "using CSV, DataFrames, Dates\n",
    "bucket = \"https://nmfsc.s3.amazonaws.com/\"\n",
    "data = download(bucket*\"dailytemps.csv\")\n",
    "df = DataFrame(CSV.File(data))\n",
    "t = Dates.value.(df[:,:date] .- df[1,:date])/365\n",
    "u = df[:,:temperature]\n",
    "model(t) = [sin.(2π*t) cos.(2π*t) one.(t)]\n",
    "c = model(t)\\u\n",
    "scatter(df[:,:date],u,alpha=0.3)\n",
    "plot!(df[:,:date],model(t)*c)"
   ]
  },
  {
   "cell_type": "markdown",
   "metadata": {},
   "source": [
    "**3.6. Image recognition** We'll practice  identifying handwritten digits using the EMNIST database.  The [NIST website](https://www.nist.gov/itl/products-and-services/emnist-dataset) provides a version formatted as a Matlab MAT-file. The full container from the NIST website is quite large (around 700MB) and we only need a smaller 20MB set, so I've put a copy of the just the emnist-nist file on GitHub at this [link](https://github.com/kylenovak29/data/raw/master/emnist-mnist.mat)."
   ]
  },
  {
   "cell_type": "code",
   "execution_count": null,
   "metadata": {
    "collapsed": true
   },
   "outputs": [],
   "source": [
    "using MAT, Arpack, Images\n",
    "bucket = \"https://github.com/kylenovak29/data/raw/master/\"\n",
    "data = matread(download(bucket*\"emnist-mnist.mat\"))\n",
    "train_images = data[\"dataset\"][\"train\"][\"images\"]\n",
    "train_labels = data[\"dataset\"][\"train\"][\"labels\"][:]\n",
    "V = zeros(12,784,10)\n",
    "for i in 0:9\n",
    "  D = train_images[train_labels.==i,:]\n",
    "  S = svds(D,nsv=12)[1]\n",
    "  V[:,:,i+1] = S.Vt  \n",
    "end\n",
    "pix = reshape(V[1:10,:,10]',28,28*10)\n",
    "pix = (pix.-minimum(pix))./(maximum(pix)-minimum(pix))\n",
    "Gray.(pix)"
   ]
  },
  {
   "cell_type": "code",
   "execution_count": null,
   "metadata": {
    "collapsed": true
   },
   "outputs": [],
   "source": [
    "test_images = data[\"dataset\"][\"test\"][\"images\"]'\n",
    "test_labels = data[\"dataset\"][\"test\"][\"labels\"][:]\n",
    "r = zeros(10,10000)\n",
    "for i in 1:10\n",
    "  q = V[:,:,i]'*(V[:,:,i]*test_images) .- test_images\n",
    "  r[i,:]  = sum(q.^2,dims=1)\n",
    "end\n",
    "guess = first.(Tuple.(argmin(r,dims=1))) .- 1\n",
    "confusion = zeros(Int,10,10)\n",
    "for i in 0:9 \n",
    "  x = guess[test_labels .== i] \n",
    "  confusion[i+1,:] = [sum(x .== j) for j in 0:9]\n",
    "end\n",
    "confusion"
   ]
  },
  {
   "cell_type": "markdown",
   "metadata": {},
   "source": [
    "**4.2. Girko's circular law** Let's plot out the eigenvalues of a few thousand normal random matrices of size $n$ to get a probability distribution in the complex plane.  What do you notice?"
   ]
  },
  {
   "cell_type": "code",
   "execution_count": null,
   "metadata": {
    "collapsed": true
   },
   "outputs": [],
   "source": [
    "n = 8\n",
    "E = collect(Iterators.flatten([eigvals(randn(n,n)) for i∈1:2000]))\n",
    "scatter(E,mc=:black,ma=0.05,legend=nothing,aspect_ratio=:equal)"
   ]
  },
  {
   "cell_type": "markdown",
   "metadata": {},
   "source": [
    "**4.4. Rayleigh quotient iteration** Let's define a function that finds an eigenvalue $\\lambda$ and eigenvector $\\mathbf{x}$ of a matrix. We'll pick a random initial guess for $\\mathbf{x}$ unless one is given. We'll then verify the algorithm on a symmetric matrix. Rayleigh quotient iteration works on general classes of matrices, but often has difficulty converging when matrices get large or far from symmetric⁠—i.e., when eigenvectors get closer together."
   ]
  },
  {
   "cell_type": "code",
   "execution_count": null,
   "metadata": {
    "collapsed": true
   },
   "outputs": [],
   "source": [
    "using LinearAlgebra\n",
    "function rayleigh(A)\n",
    "  x = randn(size(A,1),1)\n",
    "  while true\n",
    "    x = x/norm(x) \n",
    "    rho = (x'*A*x)[1]\n",
    "    M = A - rho*I\n",
    "    abs(cond(M, 1)) < 1e12 ? x = M\\x : return(rho,x)\n",
    "  end\n",
    "end\n",
    "A = [2 3 6 4; 3 0 3 1; 6 3 8 8; 4 1 8 2]\n",
    "rayleigh(A)"
   ]
  },
  {
   "cell_type": "markdown",
   "metadata": {},
   "source": [
    "**4.5. Implicit QR method** We'll define a function that computes all the eigenvalues of a matrix using the implicit QR method. We'll then verify the algorithm on a matrix with known eigenvalues."
   ]
  },
  {
   "cell_type": "code",
   "execution_count": null,
   "metadata": {
    "collapsed": true
   },
   "outputs": [],
   "source": [
    "function implicitqr(A)\n",
    "  n = size(A,1)\n",
    "  tolerance = 1E-12\n",
    "  H = Matrix(hessenberg(A).H)\n",
    "  while true\n",
    "    if abs(H[n,n-1])<tolerance\n",
    "      if (n-=1)<2;  return(diag(H)); end\n",
    "    end\n",
    "    Q = givens([H[1,1]-H[n,n];H[2,1]],1,2)[1]\n",
    "    H[1:2,1:n] = Q*H[1:2,1:n]\n",
    "    H[1:n,1:2] = H[1:n,1:2]*Q'\n",
    "    for i = 2:n-1\n",
    "      Q = givens([H[i,i-1];H[i+1,i-1]],1,2)[1]\n",
    "      H[i:i+1,1:n] = Q*H[i:i+1,1:n]\n",
    "      H[1:n,i:i+1] = H[1:n,i:i+1]*Q'\n",
    "    end\n",
    "  end\n",
    "end\n",
    "n = 20; S = randn(n,n)\n",
    "D = Diagonal(1:n); A = S*D*inv(S)\n",
    "implicitqr(A)"
   ]
  },
  {
   "cell_type": "markdown",
   "metadata": {},
   "source": [
    "**4.6. Randomized SVD** We define a method that implements randomized SVD. The idea is to start with a set of $k$ random vectors and perform a few steps of the simple QR method to generate a $k$-dimensional subspace that is closer to the space of dominant singular values. Then, we perform SVD on that subspace. We may not get the exact singular values, but it we just need a good guess and the matrix is huge, this method can be significantly faster than SVD or sparse SVD."
   ]
  },
  {
   "cell_type": "code",
   "execution_count": null,
   "metadata": {
    "collapsed": true
   },
   "outputs": [],
   "source": [
    "function randomizedsvd(A,k)\n",
    "  Z = rand(size(A,2),k);\n",
    "  Q = Matrix(qr(A*Z).Q)\n",
    "  for i in  1:3\n",
    "    Q = Matrix(qr(A'*Q).Q)\n",
    "    Q = Matrix(qr(A*Q).Q)\n",
    "  end\n",
    "  W = svd(Q'*A)\n",
    "  return((Q*W.U,W.S,W.V))  \n",
    "end"
   ]
  },
  {
   "cell_type": "code",
   "execution_count": null,
   "metadata": {
    "collapsed": true
   },
   "outputs": [],
   "source": [
    "using FileIO, Images\n",
    "bucket = \"https://nmfsc.s3.amazonaws.com/\"\n",
    "img = load(download(bucket*\"red-fox.jpg\"))\n",
    "A = Float64.(Gray.(img))\n",
    "U,S,V = randomizedsvd(A,10)\n",
    "Gray.([A U*Diagonal(S)*V])"
   ]
  },
  {
   "cell_type": "code",
   "execution_count": null,
   "metadata": {
    "collapsed": true
   },
   "outputs": [],
   "source": [
    "using Arpack\n",
    "@time randomizedsvd(A,10)\n",
    "@time svds(A, nsv=10)\n",
    "@time svd(A);"
   ]
  },
  {
   "cell_type": "markdown",
   "metadata": {},
   "source": [
    "**6.1. Radix-3 FFT** The radix-3 FFT is similar to the [radix-2 FFT](#radix2FFT). We'll verify that the code is correct by comparing it with a built-in FFT"
   ]
  },
  {
   "cell_type": "code",
   "execution_count": null,
   "metadata": {
    "collapsed": true
   },
   "outputs": [],
   "source": [
    "function fftx3(c)\n",
    "  n = length(c)\n",
    "  ω = exp(-2im*π/n)\n",
    "  if mod(n,3) == 0 \n",
    "    k = collect(0:n/3-1)\n",
    "    u = [transpose(fftx3(c[1:3:n-2]));\n",
    "         transpose((ω.^k).*fftx3(c[2:3:n-1]));\n",
    "         transpose((ω.^2k).*fftx3(c[3:3:n]))]  \n",
    "    F = exp(-2im*π/3).^([0;1;2]*[0;1;2]')\n",
    "    return(reshape(transpose(F*u),:,1))\n",
    "  else \n",
    "    F =  ω.^(collect(0:n-1)*collect(0:n-1)')\n",
    "    return(F*c)\n",
    "  end \n",
    "end"
   ]
  },
  {
   "cell_type": "code",
   "execution_count": null,
   "metadata": {
    "collapsed": true
   },
   "outputs": [],
   "source": [
    "using FFTW\n",
    "v = rand(24,1)\n",
    "[fft(v) fftx3(v)]"
   ]
  },
  {
   "cell_type": "markdown",
   "metadata": {},
   "source": [
    "**6.2. Fast multiplication** The following function uses FFTs to multiply two large integers (inputted as strings). We'll verify that the algorithm works by multplying the [RSA-129 factors](https://en.wikipedia.org/wiki/RSA_numbers#RSA-129). "
   ]
  },
  {
   "cell_type": "code",
   "execution_count": null,
   "metadata": {
    "collapsed": true
   },
   "outputs": [],
   "source": [
    "using FFTW\n",
    "function multiply(p_,q_)\n",
    "  p = [parse.(Int,split(reverse(p_),\"\"));zeros(length(q_),1)]\n",
    "  q = [parse.(Int,split(reverse(q_),\"\"));zeros(length(p_),1)]\n",
    "  pq = Int.(round.(real.(ifft(fft(p).*fft(q)))))\n",
    "  carry = pq .÷ 10\n",
    "  while any(carry.>0)\n",
    "    pq -= carry*10 - [0;carry[1:end-1]]\n",
    "    carry = pq .÷ 10\n",
    "  end\n",
    "  n = findlast(x->x>0, pq)\n",
    "  return(reverse(join(pq[1:n[1]])))\n",
    "end"
   ]
  },
  {
   "cell_type": "code",
   "execution_count": null,
   "metadata": {
    "collapsed": true
   },
   "outputs": [],
   "source": [
    "p = \"32769132993266709549961988190834461413177642967992942539798288533\"\n",
    "q = \"3490529510847650949147849619903898133417764638493387843990820577\"\n",
    "multiply(p,q), parse(BigInt, p)*parse(BigInt, q)"
   ]
  },
  {
   "cell_type": "code",
   "execution_count": null,
   "metadata": {
    "collapsed": true
   },
   "outputs": [],
   "source": [
    "using Random\n",
    "p = randstring('0':'9', 100000)\n",
    "q = randstring('0':'9', 100000)\n",
    "@time multiply(p,q)\n",
    "@time parse(BigInt, p)*parse(BigInt, q);"
   ]
  },
  {
   "cell_type": "markdown",
   "metadata": {},
   "source": [
    "**6.3. Fast discrete cosine transform**"
   ]
  },
  {
   "cell_type": "code",
   "execution_count": null,
   "metadata": {
    "collapsed": true
   },
   "outputs": [],
   "source": [
    "fft1(f) = hcat([fft(f[:,i]) for i in 1:size(f,2)]...)\n",
    "ifft1(f) = hcat([ifft(f[:,i]) for i in 1:size(f,2)]...)"
   ]
  },
  {
   "cell_type": "code",
   "execution_count": null,
   "metadata": {
    "collapsed": true
   },
   "outputs": [],
   "source": [
    "function dctII(f)\n",
    "  n = size(f,1)\n",
    "  ω = exp.(-0.5im*π*(0:n-1)/n)\n",
    "  return(real(ω.*fft1(f[[1:2:n; n-mod(n,2):-2:2],:])))\n",
    "end"
   ]
  },
  {
   "cell_type": "code",
   "execution_count": null,
   "metadata": {
    "collapsed": true
   },
   "outputs": [],
   "source": [
    "function idctII(f)\n",
    "  n = size(f,1)\n",
    "  ω = exp.(-0.5im*π*(0:n-1)/n)\n",
    "  f[1,:] = f[1,:]/2\n",
    "  f[[1:2:n; n-mod(n,2):-2:2],:] = 2*real(ifft1(f./ω))\n",
    "  return(f)\n",
    "end"
   ]
  },
  {
   "cell_type": "code",
   "execution_count": null,
   "metadata": {
    "collapsed": true
   },
   "outputs": [],
   "source": [
    "dct2(f) = dctII(dctII(f')')\n",
    "idct2(f) = idctII(idctII(f')')"
   ]
  },
  {
   "cell_type": "code",
   "execution_count": null,
   "metadata": {
    "collapsed": true
   },
   "outputs": [],
   "source": [
    "using FileIO, FFTW, Images\n",
    "bucket = \"https://nmfsc.s3.amazonaws.com/\"\n",
    "img = load(download(bucket*\"red-fox.jpg\"))\n",
    "f = dct2(Float64.(Gray.(img)))\n",
    "f[51:end,:] .= 0; f[:,51:end] .= 0\n",
    "f = idct2(f)\n",
    "[Gray.(img) Gray.(f)]"
   ]
  },
  {
   "cell_type": "markdown",
   "metadata": {},
   "source": [
    "<a name=\"label19\"></a>\n",
    "## Numerical Analysis\n",
    "**8.9. Solving a nonlinear system.** We'll solve $$(x^2+y^2)^2 - 2 (x^2 - y^2) =0$$ $$(x^2+y^2 -1)^3-x^2y^3 = 0$$ using homotopy continuation and Newton's method."
   ]
  },
  {
   "cell_type": "code",
   "execution_count": null,
   "metadata": {
    "collapsed": true
   },
   "outputs": [],
   "source": [
    "using DifferentialEquations\n",
    "function homotopy(f,df,x)\n",
    "  dxdt(x,p,t) = -df(x)\\p\n",
    "  sol = solve(ODEProblem(dxdt,x,(0.0,1.0),f(x)))\n",
    "  sol.u[end]\n",
    "end"
   ]
  },
  {
   "cell_type": "code",
   "execution_count": null,
   "metadata": {
    "collapsed": true
   },
   "outputs": [],
   "source": [
    "function newton(f,df,x)\n",
    "  for i in 1:100\n",
    "    Δx = -df(x)\\f(x)\n",
    "    norm(Δx) > 1e-8 ? x += Δx : return(x)\n",
    "  end\n",
    "end"
   ]
  },
  {
   "cell_type": "code",
   "execution_count": null,
   "metadata": {
    "collapsed": true
   },
   "outputs": [],
   "source": [
    "f = z -> ((x,y)=tuple(z...);\n",
    "  [(x^2+y^2)^2-2(x^2-y^2); (x^2+y^2-1)^3-x^2*y^3])\n",
    "df = z -> ((x,y)=tuple(z...);\n",
    "  [4x*(x^2+y^2-1)  4y*(x^2+y^2+1);\n",
    "   6x*(x^2+y^2-1)^2-2x*y^3  6y*(x^2+y^2-1)^2-3x^2*y^2])"
   ]
  },
  {
   "cell_type": "code",
   "execution_count": null,
   "metadata": {
    "collapsed": true
   },
   "outputs": [],
   "source": [
    "display(homotopy(f,df,[1,1]))\n",
    "display(newton(f,df,[1,1]))"
   ]
  },
  {
   "cell_type": "markdown",
   "metadata": {},
   "source": [
    "**9.2. Periodic parametric splines.** We modify the code [`spline_natural`](#spline_natural) (above) to  make a generate a spine with periodic boundary conditions. The function `evaluate_spline` is duplicated from the code above."
   ]
  },
  {
   "cell_type": "code",
   "execution_count": null,
   "metadata": {
    "collapsed": true
   },
   "outputs": [],
   "source": [
    "function spline_periodic(x,y)\n",
    "  h = diff(x) \n",
    "  d = 6*diff(diff([y[end-1];y])./[h[end];h])\n",
    "  α = h[1:end-1]\n",
    "  β = 2*(h+circshift(h,1))\n",
    "  C = Matrix(SymTridiagonal(β,α))\n",
    "  C[1,end]=h[end]; C[end,1]=h[end] \n",
    "  m = C\\d\n",
    "  return([m;m[1]])\n",
    "end"
   ]
  },
  {
   "cell_type": "code",
   "execution_count": null,
   "metadata": {
    "collapsed": true
   },
   "outputs": [],
   "source": [
    "function evaluate_spline(xᵢ,yᵢ,m,n)\n",
    "  h = diff(xᵢ)\n",
    "  B = yᵢ[1:end-1] .- m[1:end-1].*h.^2/6\n",
    "  A = diff(yᵢ)./h - h./6 .*diff(m)\n",
    "  x = range(minimum(xᵢ),maximum(xᵢ),length=n+1)\n",
    "  i = sum(xᵢ' .≤ x,dims=2)\n",
    "  i[end] = length(xᵢ)-1 \n",
    "  y = @. (m[i]*(xᵢ[i+1]-x)^3 + m[i+1]*(x-xᵢ[i])^3)/(6h[i]) +\n",
    "     A[i]*(x-xᵢ[i]) + B[i]\n",
    "  return(x,y)\n",
    "end"
   ]
  },
  {
   "cell_type": "code",
   "execution_count": null,
   "metadata": {
    "collapsed": true
   },
   "outputs": [],
   "source": [
    "n = 5; nx = 30\n",
    "x = rand(n); y = rand(n)\n",
    "x = [x;x[1]]; y = [y;y[1]]\n",
    "t = [0;cumsum(sqrt.(diff(x).^2 + diff(y).^2))]\n",
    "X = evaluate_spline(t,x,spline_periodic(t,x),nx*n)\n",
    "Y = evaluate_spline(t,y,spline_periodic(t,y),nx*n)\n",
    "scatter(x,y); plot!(X[2],Y[2],legend=false)"
   ]
  },
  {
   "cell_type": "markdown",
   "metadata": {},
   "source": [
    "**9.3. Radial basis functions.** Let's examine how a polynomial $y(x) = \\sum_{i=0}^n c_i x^i$ compares with Gaussian and cubic radial basis functions $y(x) = \\sum_{i=0}^n c_i \\phi(x-x_i)$ taking $\\phi(x)= \\exp(-20x^2)$ and $\\phi(x) = |x|^3$ an interpolant of the Heaviside function."
   ]
  },
  {
   "cell_type": "code",
   "execution_count": null,
   "metadata": {
    "collapsed": true
   },
   "outputs": [],
   "source": [
    "using LinearAlgebra, Plots\n",
    "n = 20; N = 200\n",
    "x = collect(LinRange(-1,1,n))\n",
    "y = float(x .> 0);"
   ]
  },
  {
   "cell_type": "code",
   "execution_count": null,
   "metadata": {
    "collapsed": true
   },
   "outputs": [],
   "source": [
    "ϕ₁(x,a) = abs.(x.-a).^3\n",
    "ϕ₂(x,a) = exp.(-20(x.-a).^2)\n",
    "ϕ₃(x,a) = x.^a"
   ]
  },
  {
   "cell_type": "code",
   "execution_count": null,
   "metadata": {
    "collapsed": true
   },
   "outputs": [],
   "source": [
    "X = collect(LinRange(-1,1,N))\n",
    "interp(ϕ,a)  = ϕ(X,a')*(ϕ(x,a')\\y)\n",
    "Y₁ = interp(ϕ₁,x)\n",
    "Y₂ = interp(ϕ₂,x)\n",
    "Y₃ = interp(ϕ₃,(0:n-1))\n",
    "plot(x,y,seriestype = :scatter, marker = :dot, legend = :none)\n",
    "plot!(X,[Y₁,Y₂,Y₃])\n",
    "ylims!((-0.5,1.5))"
   ]
  },
  {
   "cell_type": "markdown",
   "metadata": {},
   "source": [
    "**9.4. Collocation.** We'll use collocation to solve Bessel's equation.  We first define a function to solve general linear boundary value problems. And, then we define a function to interpolate between collocation points."
   ]
  },
  {
   "cell_type": "code",
   "execution_count": null,
   "metadata": {
    "collapsed": true
   },
   "outputs": [],
   "source": [
    "function collocation_solve(L,f,bc,x)\n",
    "  h = x[2]-x[1]\n",
    "  S = L(x)*([1 -1/2 1/6; -2 0 2/3; 1 1/2 1/6]./[h^2 h 1])'\n",
    "  d = [bc[1]; f(x); bc[2]]\n",
    "  A = Matrix(Tridiagonal([S[:,1];0], [0;S[:,2];0], [0;S[:,3]]))\n",
    "  A[1,1:3], A[end,end-2:end] = [1 4 1]/6, [1 4 1]/6 \n",
    "  return(A\\d)\n",
    "end"
   ]
  },
  {
   "cell_type": "code",
   "execution_count": null,
   "metadata": {
    "collapsed": true
   },
   "outputs": [],
   "source": [
    "function collocation_build(c,x,N)\n",
    "  X = LinRange(x[1],x[end],N)\n",
    "  h = x[2] - x[1]\n",
    "  i = Int32.(X .÷ h .+ 1); i[N] = i[N-1]\n",
    "  C = [c[i] c[i.+1] c[i.+2] c[i.+3]]'\n",
    "  B = (x->[(1-x).^3;4-3*(2-x).*x.^2;4-3*(1+x).*(1-x).^2;x.^3]/6)\n",
    "  Y = sum(C.*hcat(B.((X.-x[i])/h)...),dims=1)\n",
    "  return(Array(X),reshape(Y,(:,1)))\n",
    "end"
   ]
  },
  {
   "cell_type": "markdown",
   "metadata": {},
   "source": [
    "Now, we can solve the Bessel equation $xu''+u'+xu =0$ with boundary conditions $u(0)=1$ and $u(b)=0$."
   ]
  },
  {
   "cell_type": "code",
   "execution_count": null,
   "metadata": {
    "collapsed": true
   },
   "outputs": [],
   "source": [
    "using Roots, SpecialFunctions\n",
    "n = 20; N = 141\n",
    "L = (x -> [x one.(x) x])\n",
    "f = (x -> zero.(x) )\n",
    "b = fzero(besselj0, 11)\n",
    "x = range(0,b,length=n)\n",
    "c = collocation_solve(L,f,[1,0],x)\n",
    "X,Y = collocation_build(c,x,70)\n",
    "plot(X,[Y besselj0.(X)])"
   ]
  },
  {
   "cell_type": "markdown",
   "metadata": {},
   "source": [
    "Finally, we'll examine the error and convergence rate."
   ]
  },
  {
   "cell_type": "code",
   "execution_count": null,
   "metadata": {
    "collapsed": true
   },
   "outputs": [],
   "source": [
    "N = 10*2 .^(1:7); ϵ = []\n",
    "for n in N\n",
    "  x = LinRange(0,b,n) \n",
    "  c = collocation_solve(L,f,[1,0],x)\n",
    "  X,Y = collocation_build(c,x,n)\n",
    "  append!(ϵ, norm(Y-besselj0.(X)) / n)\n",
    "end\n",
    "slope = ([log.(N) one.(N)]\\log.(ϵ))[1]\n",
    "s = \"slope = \"*string.(round.(slope,digits=2))\n",
    "plot(N, ϵ, xaxis=:log, yaxis=:log, marker=:o, label=s)"
   ]
  },
  {
   "cell_type": "markdown",
   "metadata": {},
   "source": [
    "**10.3. Fractional derivatives.** We'll plot the fractional derivatives for a function."
   ]
  },
  {
   "cell_type": "code",
   "execution_count": null,
   "metadata": {
    "collapsed": true
   },
   "outputs": [],
   "source": [
    "using FFTW\n",
    "n =256; ℓ = 2\n",
    "x = (0:n-1)/n*ℓ .- ℓ/2\n",
    "ξ = [0:(n/2-1); (-n/2):-1]*(2π/ℓ)\n",
    "f₁ = exp.(-16*x.^2)\n",
    "f₂ = sin.(π*x)\n",
    "f₃ = x.*(1 .- abs.(x))\n",
    "deriv(f,p) = real(ifft((im*ξ).^p.*fft(f)))"
   ]
  },
  {
   "cell_type": "code",
   "execution_count": null,
   "metadata": {
    "collapsed": true
   },
   "outputs": [],
   "source": [
    "using Interact\n",
    "func = Dict(\"Gaussian\"=>f₁,\"sine\"=>f₂,\"spline\"=>f₃)\n",
    "@manipulate for f in togglebuttons(func; label=\"function\"), \n",
    "  p in slider(0:0.01:2; value=0, label=\"derivative\")\n",
    "  plot(x,deriv(f,p),legend=:none)\n",
    "end"
   ]
  },
  {
   "cell_type": "markdown",
   "metadata": {},
   "source": [
    "**10.4. Levenberg–Marquardt method.** We find parameters for a nonlinear function that best fits our data. We'll first define a function `gauss_newton` and duplicate the function [`jacobian`](#jacobian) from above. If the Gauss–Newton method converges, then we can plot the results."
   ]
  },
  {
   "cell_type": "code",
   "execution_count": null,
   "metadata": {
    "collapsed": true
   },
   "outputs": [],
   "source": [
    "function gauss_newton(x,y,c,f)\n",
    " r = y - f(c,x) \n",
    " for j = 1:100\n",
    "   G = jacobian(f,c,x)\n",
    "   M = G'*G\n",
    "   c += (M+Diagonal(M))\\(G'*r)\n",
    "   norm(r-(r=y-f(c,x))) < 1e-12 && return(c)\n",
    "  end\n",
    "  print(\"'Gauss-Newton did not converge.\")\n",
    "end"
   ]
  },
  {
   "cell_type": "code",
   "execution_count": null,
   "metadata": {
    "collapsed": true
   },
   "outputs": [],
   "source": [
    "function jacobian(f,c,x)\n",
    "  J = zeros(length(x),length(c))\n",
    "  for k in (n = 1:length(c))\n",
    "    J[:,k] .= imag(f(c+1e-8im*(k .== n),x))/1e-8\n",
    "  end\n",
    "  return(J)\n",
    "end"
   ]
  },
  {
   "cell_type": "code",
   "execution_count": null,
   "metadata": {
    "collapsed": true
   },
   "outputs": [],
   "source": [
    "f = (c,x) -> @. c[1]*exp(-c[2]*(x-c[3])^2) +\n",
    "         c[4]*exp(-c[5]*(x-c[6])^2)\n",
    "x = 8*rand(100)\n",
    "y = f([1 3 3 2 3 6],x) + 0.1*randn(100)\n",
    "c₀ = [2 0.3 2 1 0.3 7]'\n",
    "c = gauss_newton(x,y,c₀,f)"
   ]
  },
  {
   "cell_type": "code",
   "execution_count": null,
   "metadata": {
    "collapsed": true
   },
   "outputs": [],
   "source": [
    "X = LinRange(0,8,200)\n",
    "scatter(x,y,opacity=0.5)\n",
    "plot!(X,f(c,X))"
   ]
  },
  {
   "cell_type": "markdown",
   "metadata": {},
   "source": [
    "**11.1. Finite difference approximation.**  Let's find coefficients to the third-order approximation of $f'(x)$ for nodes at $x$, $x+h$, $x+2h$ and $x+3h$. The second row of the solution will tell us the coefficients (first four columns) and the coefficient of truncation (last column)."
   ]
  },
  {
   "cell_type": "code",
   "execution_count": null,
   "metadata": {
    "collapsed": true
   },
   "outputs": [],
   "source": [
    "d = [0,1,2,3]; n = length(d)\n",
    "C = inv( d.^(0:n-1)' .// factorial.(0:n-1)' )\n",
    "[C C*d.^n/factorial(n)]"
   ]
  },
  {
   "cell_type": "markdown",
   "metadata": {},
   "source": [
    "**11.2. Richardson extrapolation.** The following code is an iterative version of the recursive [`richardson`](#richardson_extrapolation) function above:"
   ]
  },
  {
   "cell_type": "code",
   "execution_count": null,
   "metadata": {
    "collapsed": true
   },
   "outputs": [],
   "source": [
    "function richardson(f,x,m)\n",
    "  D = []\n",
    "  for i in 1:m\n",
    "    append!(D, ϕ(f,x,2^i))\n",
    "    for j in i-1:-1:1 \n",
    "      D[j] = (4^(i-j)*D[j+1] - D[j])/(4^(i-j) - 1)\n",
    "    end\n",
    "  end\n",
    "  D[1]\n",
    "end"
   ]
  },
  {
   "cell_type": "code",
   "execution_count": null,
   "metadata": {
    "collapsed": true
   },
   "outputs": [],
   "source": [
    "ϕ = (f,x,n) -> (f(x+1/n) - f(x-1/n))/(2/n)\n",
    "richardson(x->sin(x),0,4)"
   ]
  },
  {
   "cell_type": "markdown",
   "metadata": {},
   "source": [
    "**11.3. Automatic differentiation.** Let's extend the [`Dual class`](#dualclass) above by adding methods for division, cosine, and square root to the class definition. We'll also add a few more help functions. I've copied the cells from earlier to the one below."
   ]
  },
  {
   "cell_type": "code",
   "execution_count": null,
   "metadata": {
    "collapsed": true
   },
   "outputs": [],
   "source": [
    "struct Dual\n",
    "  value\n",
    "  deriv\n",
    "end\n",
    "\n",
    "Dual(x) = Dual(x,1)\n",
    "value(x) = x isa Dual ? x.value : x\n",
    "deriv(x) = x isa Dual ? x.deriv : 0\n",
    "\n",
    "Base.:+(u, v) = Dual(value(u)+value(v), deriv(u)+deriv(v))\n",
    "Base.:-(u, v) = Dual(value(u)-value(v), deriv(u)-deriv(v))\n",
    "Base.:*(u, v) = Dual(value(u)*value(v), \n",
    "   value(u)*deriv(v)+value(v)*deriv(u))\n",
    "Base.:sin(u)  =  Dual(sin(value(u)), cos(value(u))*deriv(u))"
   ]
  },
  {
   "cell_type": "code",
   "execution_count": null,
   "metadata": {
    "collapsed": true
   },
   "outputs": [],
   "source": [
    "Base.:sqrt(u) = Dual(sqrt(value(u)), deriv(u) / 2sqrt(value(u)))\n",
    "Base.:/(u, v) = Dual(value(u)/value(v), \n",
    "  (value(u)*deriv(v)-value(v)*deriv(u))/(value(v)*value(v)))\n",
    "Base.:cos(u)  = Dual(cos(value(u)), -sin(value(u))*deriv(u))"
   ]
  },
  {
   "cell_type": "code",
   "execution_count": null,
   "metadata": {
    "collapsed": true
   },
   "outputs": [],
   "source": [
    "function get_zero(f,x)\n",
    "  ϵ = 1e-12; δ = 1\n",
    "  while abs(δ)>ϵ\n",
    "    fx = f(Dual(x))\n",
    "    δ = value(fx)/deriv(fx)\n",
    "    x -= δ\n",
    "  end\n",
    "  return(x)\n",
    "end"
   ]
  },
  {
   "cell_type": "markdown",
   "metadata": {},
   "source": [
    "Now, we'll can define Newton's method using this new Dual class and use it to find the zero of $4\\sin x + \\sqrt{x}$."
   ]
  },
  {
   "cell_type": "code",
   "execution_count": null,
   "metadata": {
    "collapsed": true
   },
   "outputs": [],
   "source": [
    "get_zero(x->4sin(x)+sqrt(x),4)"
   ]
  },
  {
   "cell_type": "markdown",
   "metadata": {},
   "source": [
    "We can find a minimum or maximum of $4\\sin x + \\sqrt{x}$ by modifying Newton's method."
   ]
  },
  {
   "cell_type": "code",
   "execution_count": null,
   "metadata": {
    "collapsed": true
   },
   "outputs": [],
   "source": [
    "function get_extremum(f,x)\n",
    "  ϵ = 1e-12; δ = 1\n",
    "  while abs(δ)>ϵ\n",
    "    fx = f(Dual(Dual(x)))\n",
    "    δ = deriv(value(fx))/deriv(deriv(fx))\n",
    "    x -= δ\n",
    "  end\n",
    "  return(x)\n",
    "end"
   ]
  },
  {
   "cell_type": "code",
   "execution_count": null,
   "metadata": {
    "collapsed": true
   },
   "outputs": [],
   "source": [
    "get_extremum(x->4sin(x)+sqrt(x),4)"
   ]
  },
  {
   "cell_type": "markdown",
   "metadata": {},
   "source": [
    "**11.4. Gauss–Legendre quadrature .** The following  function computes the nodes and weights for  Gauss–Legendre quadrature by using Newton's method to find the roots of $\\mathrm{P_n}(x)$. We'll verify the function on a toy problem."
   ]
  },
  {
   "cell_type": "code",
   "execution_count": null,
   "metadata": {
    "collapsed": true
   },
   "outputs": [],
   "source": [
    "function gauss_legendre(n)\n",
    "  x = -cos.((4*(1:n).-1)*π/(4n+2))\n",
    "  Δ = one.(x)\n",
    "  dPₙ = 0\n",
    "  while(maximum(abs.(Δ))>1e-16)\n",
    "    Pₙ, Pₙ₋₁ = x, one.(x)\n",
    "    for k∈2:n\n",
    "      Pₙ, Pₙ₋₁ = ((2k - 1)*x.*Pₙ-(k-1)*Pₙ₋₁)/k, Pₙ \n",
    "    end\n",
    "    dPₙ = @. n*(x*Pₙ - Pₙ₋₁)/(x^2-1)\n",
    "    Δ =  Pₙ ./ dPₙ \n",
    "    x -= Δ\n",
    "  end\n",
    "  return(x, @. 2/((1-x^2)*dPₙ^2))\n",
    "end"
   ]
  },
  {
   "cell_type": "code",
   "execution_count": null,
   "metadata": {
    "collapsed": true
   },
   "outputs": [],
   "source": [
    "f = (x-> 2sqrt(1-x^2))\n",
    "x,w = gauss_legendre(10)\n",
    "w ⋅ f.(x)"
   ]
  },
  {
   "cell_type": "markdown",
   "metadata": {},
   "source": [
    "**11.6. Monte Carlo integration .** The following  function the volume of an $d$-dimensional sphere using $n$ samples and $m$ trials. We'll use it to verify that error of Monte Carlo integretion is $O(1/\\sqrt{n})$."
   ]
  },
  {
   "cell_type": "code",
   "execution_count": null,
   "metadata": {
    "collapsed": true
   },
   "outputs": [],
   "source": [
    "mc_π(n) = sum(sum(rand(2,n).^2,dims=1).<1)/n*4"
   ]
  },
  {
   "cell_type": "code",
   "execution_count": null,
   "metadata": {
    "collapsed": true
   },
   "outputs": [],
   "source": [
    "m = 20; d = []; N = 2 .^ (1:20)\n",
    "for n ∈ N\n",
    "  append!(d,sum([abs(π - mc_π(n)) for i∈1:m])/m)\n",
    "end\n",
    "s = log.(N.^[0 1])\\log.(d)\n",
    "scatter(N,d,xaxis=:log, yaxis=:log) \n",
    "plot!(N,exp(s[1]).*N.^s[2])"
   ]
  },
  {
   "cell_type": "markdown",
   "metadata": {},
   "source": [
    "<a name=\"label20\"></a>\n",
    "## Numerical Partial Differential Equations\n",
    "**12.4. Runge–Kutta  stability** The following code plots the region of absolute stability for a Runge–Kutta method with tableau `A` and `b`."
   ]
  },
  {
   "cell_type": "code",
   "execution_count": null,
   "metadata": {
    "collapsed": true
   },
   "outputs": [],
   "source": [
    "A = [0    0    0    0    0; \n",
    "     1/3  0    0    0    0; \n",
    "     1/6  1/6  0    0    0;\n",
    "     1/8  0    3/8  0    0;\n",
    "     1/2  0   -3/2  2    0];\n",
    "b = [1/6  0    0    2/3  1/6];"
   ]
  },
  {
   "cell_type": "code",
   "execution_count": null,
   "metadata": {
    "collapsed": true
   },
   "outputs": [],
   "source": [
    "using LinearAlgebra, Plots\n",
    "function rk_stability_plot(A,b)\n",
    "  E = ones(length(b),1)\n",
    "  r(λk) = abs.(1 .+ λk * b*((I - λk*A)\\E))\n",
    "  x,y = LinRange(-4,4,100),LinRange(-4,4,100)\n",
    "  s = reshape(vcat(r.(x'.+im*y)...),(100,100))\n",
    "  contour(x,y,s,levels=[1],legend=false)\n",
    "end\n",
    "rk_stability_plot(A,b)"
   ]
  },
  {
   "cell_type": "markdown",
   "metadata": {},
   "source": [
    "**12.8. Third-order IMEX coefficients.** We can determine the coefficients of a third-order IMEX method by inverting a system of linear equations."
   ]
  },
  {
   "cell_type": "code",
   "execution_count": null,
   "metadata": {
    "collapsed": true
   },
   "outputs": [],
   "source": [
    "i = 0:3\n",
    "a = ((-i)'.^i.//factorial.(i))\\[0;1;0;0]\n",
    "b = ((-(i.+1))'.^i.//factorial.(i))\\[1;0;0;0]\n",
    "[a b]"
   ]
  },
  {
   "cell_type": "markdown",
   "metadata": {},
   "source": [
    "**Predictor-corrector stability.** We'll use the  [`multistepcoeffs`](#multistepcoeffs) introduced earlier. The following function provides the orbit of points in the complex plane for an $n$th order  Adams–Bashforth–Moulton PE(CE)$^m$."
   ]
  },
  {
   "cell_type": "code",
   "execution_count": null,
   "metadata": {
    "collapsed": true
   },
   "outputs": [],
   "source": [
    "function multistepcoeffs(m,n)\n",
    "  s = length(m) + length(n)\n",
    "  A = (m.+1).^(0:s-1)\n",
    "  B = (0:s-1).*(n.+1).^(0:s-1).//(n.+1)\n",
    "  c = -[A B]\\ones(Int64,s)\n",
    "  [1;c[1:length(m)]], c[(length(m)+1):end] \n",
    "end"
   ]
  },
  {
   "cell_type": "code",
   "execution_count": null,
   "metadata": {
    "collapsed": true
   },
   "outputs": [],
   "source": [
    "using Polynomials\n",
    "function PECE(n,m)\n",
    "  _,a = multistepcoeffs(1,hcat(1:n...))\n",
    "  _,b = multistepcoeffs(1,hcat(0:n...))\n",
    "  α(r) = a ⋅ r.^(1:n)/b[1]\n",
    "  β(r) = b[2:end] ⋅ r.^(1:n)/b[1]\n",
    "  z = [(c = [r-1; repeat([r + β(r)],m); α(r)];\n",
    "    Polynomials.roots(Polynomial(c)))\n",
    "    for r in exp.(im*LinRange(0,2π,200))]\n",
    "  hcat(z/b[1]...)\n",
    "end"
   ]
  },
  {
   "cell_type": "code",
   "execution_count": null,
   "metadata": {
    "collapsed": true
   },
   "outputs": [],
   "source": [
    "z = vcat([PECE(1,i)[:] for i in 0:4]...)\n",
    "scatter(z,label=\"\",markersize=.5,aspect_ratio=:equal)"
   ]
  },
  {
   "cell_type": "markdown",
   "metadata": {},
   "source": [
    "**12.14. SIR solution.** We solve the susceptible-infected-recovered (SIR) model for infectious diseases using a general ODE solver."
   ]
  },
  {
   "cell_type": "code",
   "execution_count": null,
   "metadata": {
    "collapsed": true
   },
   "outputs": [],
   "source": [
    "function SIR!(du,u,p,t)\n",
    "  S,I,R = u\n",
    "  β,γ = p\n",
    "  du[1] = dS = -β*S*I\n",
    "  du[2] = dI = +β*S*I - γ*I\n",
    "  du[3] = dR = +γ*I\n",
    "end"
   ]
  },
  {
   "cell_type": "code",
   "execution_count": null,
   "metadata": {
    "collapsed": true
   },
   "outputs": [],
   "source": [
    "using DifferentialEquations, Plots\n",
    "u₀ = [0.99; 0.01; 0]\n",
    "tspan = (0.0,15.0)\n",
    "p = (2.0,0.4)\n",
    "problem = ODEProblem(SIR!,u₀,tspan,p)\n",
    "solution = solve(problem)\n",
    "plot(solution,labels=[\"susceptible\" \"infected\" \"recovered\"])"
   ]
  },
  {
   "cell_type": "markdown",
   "metadata": {},
   "source": [
    "**12.15. Duffing equation.** We'll use a high-order, explicit ODE solver for the Duffing equation."
   ]
  },
  {
   "cell_type": "code",
   "execution_count": null,
   "metadata": {
    "collapsed": true
   },
   "outputs": [],
   "source": [
    "using DifferentialEquations, Plots\n",
    "function duff!(dx,x,γ,t) \n",
    "    dx[1] = x[2]\n",
    "    dx[2] = -γ*x[2]+x[1]-x[1]^3+0.3*cos(t)\n",
    "end\n",
    "problem = ODEProblem(duff!,[1.0,0.0],(0.0,200.0),0.37)\n",
    "solution = solve(problem,Vern7())\n",
    "plot(solution,vars=(1,2))"
   ]
  },
  {
   "cell_type": "markdown",
   "metadata": {},
   "source": [
    "**12.16. Shooting method.** We'll solve the Airy equation $y'' - xy = 0$ using the shooting method that incorporates an initial value solver along into a nonlinear root finder."
   ]
  },
  {
   "cell_type": "code",
   "execution_count": null,
   "metadata": {
    "collapsed": true
   },
   "outputs": [],
   "source": [
    "function solveIVP(f,u0,tspan)\n",
    "  sol = solve(ODEProblem(f,u0,tspan))\n",
    "  return(sol.u[end][1]) \n",
    "end"
   ]
  },
  {
   "cell_type": "code",
   "execution_count": null,
   "metadata": {
    "collapsed": true
   },
   "outputs": [],
   "source": [
    "using DifferentialEquations, Roots\n",
    "airy(y,p,x) = [y[2];x*y[1]]\n",
    "domain = (-12.0,0.0);  bc = (1.0,1.0);  guess = 5\n",
    "shoot_airy = (guess -> solveIVP(airy,[bc[1];guess],domain)-bc[2])\n",
    "v = find_zero(shoot_airy, guess)"
   ]
  },
  {
   "cell_type": "markdown",
   "metadata": {},
   "source": [
    "Once we have our second initial value, we can plot the solution:"
   ]
  },
  {
   "cell_type": "code",
   "execution_count": null,
   "metadata": {
    "collapsed": true
   },
   "outputs": [],
   "source": [
    "sol = solve(ODEProblem(airy,[bc[1],v],domain))\n",
    "plot(sol)"
   ]
  },
  {
   "cell_type": "markdown",
   "metadata": {},
   "source": [
    "**13.3. Dufort–Frankel method.** We'll use the Dufort–Frankel method to solve the heat equation. While this method is unconditionally stable, it generates the wrong solution. Notice that while the long-term behavior is dissipative, the solution is largely oscillatory and the dynamics are more characteristic of a viscous fluid than heat propagation."
   ]
  },
  {
   "cell_type": "code",
   "execution_count": null,
   "metadata": {
    "collapsed": true
   },
   "outputs": [],
   "source": [
    "Δx = 0.01; Δt = 0.01\n",
    "ℓ = 1; x = -ℓ:Δx:ℓ; m = length(x)\n",
    "Uⁿ = exp.(-8*x.^2); Uⁿ⁻¹ = Uⁿ  \n",
    "ν = Δt/Δx^2; α = 0.5 + ν; γ = 0.5 - ν\n",
    "B = ν*Tridiagonal(ones(m-1),zeros(m),ones(m-1))\n",
    "B[1,2] *=2; B[end,end-1] *=2\n",
    "@gif for i = 1:300\n",
    "  Uⁿ, Uⁿ⁻¹ = (B*Uⁿ+γ*Uⁿ⁻¹)/α, Uⁿ\n",
    "  plot(x,Uⁿ,ylim=(0,1),label=:none,fill=(0, 0.3, :red))\n",
    "end"
   ]
  },
  {
   "cell_type": "markdown",
   "metadata": {},
   "source": [
    "**13.5. Schrödinger equation.** We solve the Schrödinger equation for harmonic potential using the Strang splitting Crank-Nicolson and confirm that the method is $O(h^2,k^2)$."
   ]
  },
  {
   "cell_type": "code",
   "execution_count": null,
   "metadata": {
    "collapsed": true
   },
   "outputs": [],
   "source": [
    "function schroedinger(nₓ,nₜ,ε)\n",
    "    x = LinRange(-4,4,nₓ); Δx = x[2]-x[1]; Δt = 2π/nₜ; V = x.^2/2\n",
    "    ψ = exp.(-(x.-1).^2/2ε)/(π*ε)^(1/4)\n",
    "    diags = 0.5im*ε*[1 -2 1]/Δx^2 .- im/ε*[0 1 0].*V\n",
    "    D = Tridiagonal(diags[2:end,1], diags[:,2], diags[1:end-1,3])\n",
    "    D[1,2] *= 2; D[end,end-1] *= 2\n",
    "    A = I + 0.5Δt*D \n",
    "    B = I - 0.5Δt*D \n",
    "    for i ∈ 1:nₜ \n",
    "      ψ = B\\(A*ψ)\n",
    "    end\n",
    "    return ψ\n",
    "end"
   ]
  },
  {
   "cell_type": "markdown",
   "metadata": {},
   "source": [
    "We'll loop over several values for time steps and mesh sizes and plot the error. This may take a while. Go get a snack."
   ]
  },
  {
   "cell_type": "code",
   "execution_count": null,
   "metadata": {
    "collapsed": true
   },
   "outputs": [],
   "source": [
    "ε = 0.3; m = 20000; eₓ=[]; eₜ=[]\n",
    "N = floor.(Int,exp10.(LinRange(2,3.7,6)))\n",
    "x = LinRange(-4,4,m)\n",
    "ψₘ = -exp.(-(x.-1).^2/2ε)/(π*ε)^(1/4);\n",
    "for n ∈ N\n",
    "  x = LinRange(-4,4,n)\n",
    "  ψₙ = -exp.(-(x.-1).^2/2ε)/(π*ε)^(1/4)\n",
    "  append!(eₜ,norm(ψₘ - schroedinger(m,n,ε))/m)\n",
    "  append!(eₓ,norm(ψₙ - schroedinger(n,m,ε))/n)\n",
    "end\n",
    "plot(2π./N,eₜ,marker=:dot, xaxis=:log, yaxis=:log)\n",
    "plot!(8 ./N,eₓ,marker=:dot)"
   ]
  },
  {
   "cell_type": "markdown",
   "metadata": {},
   "source": [
    "**13.6. Polar heat equation.** We'll solve a radially symmetric heat equation. Although we divide by zero at $r=0$ when constructing the Laplacian operator, the resulting term `inf` is overwritten when we apply the boundary condition."
   ]
  },
  {
   "cell_type": "code",
   "execution_count": null,
   "metadata": {
    "collapsed": true
   },
   "outputs": [],
   "source": [
    "t = 0.5; nₜ=100; n = 100\n",
    "r = LinRange(0,2,n); Δr = r[2]-r[1]; Δt = t/nₜ;\n",
    "u₀ = @. tanh(32(1 - r)); u = u₀\n",
    "d = @. [1 -2 1]/Δr^2  + (1/r)*[-1 0 1]/2Δr\n",
    "D = Tridiagonal(d[2:end,1],d[:,2],d[1:end-1,3])\n",
    "D[1,1:2] = [-4 4]/Δr^2; D[end,end-1:end] = [2 -2]/Δr^2 \n",
    "A = I - 0.5Δt*D \n",
    "B = I + 0.5Δt*D  \n",
    "for i = 1:nₜ\n",
    " u = A\\(B*u)\n",
    "end\n",
    "plot(r, u,label=:none,fill=(-1, 0.3, :red))"
   ]
  },
  {
   "cell_type": "code",
   "execution_count": null,
   "metadata": {
    "collapsed": true
   },
   "outputs": [],
   "source": [
    "using Sundials\n",
    "problem = ODEProblem((u,p,t)->D*u,u₀,(0,t))\n",
    "method = CVODE_BDF(linear_solver=:Band,jac_upper=1,jac_lower=1)\n",
    "solution = solve(problem,method)\n",
    "plot(r, solution(t),label=:none,fill=(-1, 0.3, :red))"
   ]
  },
  {
   "cell_type": "markdown",
   "metadata": {},
   "source": [
    "**13.7. Open boundaries.** We can approximate open boundaries by spacing the grid points using a sigmoid function such as $arctanh x$. We start by defining a function `logitspace` which is the logit analogue to `np.linspace`. Then we define a Laplacian operator using arbitrary grid spacing. Finally, we solve the heat equation using the Crank–Nicolson using both equally spaced gridpoints and logit spaced gridpoints."
   ]
  },
  {
   "cell_type": "code",
   "execution_count": 313,
   "metadata": {},
   "outputs": [
    {
     "data": {
      "text/plain": [
       "logitspace (generic function with 1 method)"
      ]
     },
     "execution_count": 313,
     "metadata": {},
     "output_type": "execute_result"
    }
   ],
   "source": [
    "logitspace(x,n,p) = x*atanh.(LinRange(-p,p,n))/atanh(p)"
   ]
  },
  {
   "cell_type": "code",
   "execution_count": 314,
   "metadata": {},
   "outputs": [
    {
     "data": {
      "text/plain": [
       "laplacian (generic function with 1 method)"
      ]
     },
     "execution_count": 314,
     "metadata": {},
     "output_type": "execute_result"
    }
   ],
   "source": [
    "function laplacian(x)\n",
    "  Δx = diff(x); Δx₁ = Δx[1:end-1]; Δx₂ = Δx[2:end]\n",
    "  d₋ = @.  2/[Δx₁*(Δx₁+Δx₂); Δx₁[1]^2]\n",
    "  d₀ = @. -2/[Δx₂[end].^2; Δx₁*Δx₂; Δx₁[1].^2]  \n",
    "  d₊ = @.  2/[Δx₂[end].^2; Δx₂*(Δx₁+Δx₂) ]\n",
    "  return(Tridiagonal(d₋,d₀,d₊))\n",
    "end"
   ]
  },
  {
   "cell_type": "code",
   "execution_count": 339,
   "metadata": {},
   "outputs": [
    {
     "data": {
      "text/plain": [
       "40×40 Tridiagonal{Float64,Array{Float64,1}}:\n",
       " -0.0182188   0.0182188    ⋅         …    ⋅           ⋅           ⋅ \n",
       "  0.0154611  -0.102144    0.0866826       ⋅           ⋅           ⋅ \n",
       "   ⋅          0.356815   -0.946643        ⋅           ⋅           ⋅ \n",
       "   ⋅           ⋅          0.903806        ⋅           ⋅           ⋅ \n",
       "   ⋅           ⋅           ⋅              ⋅           ⋅           ⋅ \n",
       "   ⋅           ⋅           ⋅         …    ⋅           ⋅           ⋅ \n",
       "   ⋅           ⋅           ⋅              ⋅           ⋅           ⋅ \n",
       "   ⋅           ⋅           ⋅              ⋅           ⋅           ⋅ \n",
       "   ⋅           ⋅           ⋅              ⋅           ⋅           ⋅ \n",
       "   ⋅           ⋅           ⋅              ⋅           ⋅           ⋅ \n",
       "   ⋅           ⋅           ⋅         …    ⋅           ⋅           ⋅ \n",
       "   ⋅           ⋅           ⋅              ⋅           ⋅           ⋅ \n",
       "   ⋅           ⋅           ⋅              ⋅           ⋅           ⋅ \n",
       "  ⋮                                  ⋱                          \n",
       "   ⋅           ⋅           ⋅              ⋅           ⋅           ⋅ \n",
       "   ⋅           ⋅           ⋅              ⋅           ⋅           ⋅ \n",
       "   ⋅           ⋅           ⋅         …    ⋅           ⋅           ⋅ \n",
       "   ⋅           ⋅           ⋅              ⋅           ⋅           ⋅ \n",
       "   ⋅           ⋅           ⋅              ⋅           ⋅           ⋅ \n",
       "   ⋅           ⋅           ⋅              ⋅           ⋅           ⋅ \n",
       "   ⋅           ⋅           ⋅              ⋅           ⋅           ⋅ \n",
       "   ⋅           ⋅           ⋅         …    ⋅           ⋅           ⋅ \n",
       "   ⋅           ⋅           ⋅             0.903806     ⋅           ⋅ \n",
       "   ⋅           ⋅           ⋅            -0.946643    0.356815     ⋅ \n",
       "   ⋅           ⋅           ⋅             0.0866826  -0.102144    0.0154611\n",
       "   ⋅           ⋅           ⋅              ⋅          0.0182188  -0.0182188"
      ]
     },
     "execution_count": 339,
     "metadata": {},
     "output_type": "execute_result"
    }
   ],
   "source": [
    "ϕ = (x,t,s) -> exp.(-s*x.^2/(1+4*s*t))/sqrt(1+4*s*t)\n",
    "function heat_equation(x,t,nₜ,u)\n",
    "  Δt = t/nₜ\n",
    "  D² = laplacian(x)\n",
    "  A = I - 0.5Δt*D²\n",
    "  B = I + 0.5Δt*D²\n",
    "  for i ∈ 1:nₜ\n",
    "    u = A\\(B*u)\n",
    "  end\n",
    "  return u\n",
    "end\n",
    "\n",
    "n = 40\n",
    "x = LinRange(-20,20,n)\n",
    "plot(x,ϕ(x,t,10),label=\"exact\",width=3)\n",
    "u₁ = heat_equation(x,15,n,ϕ(x,0,10))\n",
    "plot!(x,u₁,mark=:dot,label=\"equal\")\n",
    "x = logitspace(20,n,.999)\n",
    "u₂ = heat_equation(x,15,n,ϕ(x,0,10))\n",
    "plot!(x,u₂,mark=:dot,label=\"logit\")\n",
    "laplacian(x)"
   ]
  },
  {
   "cell_type": "code",
   "execution_count": null,
   "metadata": {
    "collapsed": true
   },
   "outputs": [],
   "source": [
    "using Pkg\n",
    "pkg\"activate .\""
   ]
  },
  {
   "cell_type": "markdown",
   "metadata": {},
   "source": [
    "Alternatively, we could use a BDF method:"
   ]
  },
  {
   "cell_type": "code",
   "execution_count": 316,
   "metadata": {},
   "outputs": [
    {
     "data": {
      "image/svg+xml": [
       "<?xml version=\"1.0\" encoding=\"utf-8\"?>\n",
       "<svg xmlns=\"http://www.w3.org/2000/svg\" xmlns:xlink=\"http://www.w3.org/1999/xlink\" width=\"600\" height=\"400\" viewBox=\"0 0 2400 1600\">\n",
       "<defs>\n",
       "  <clipPath id=\"clip060\">\n",
       "    <rect x=\"0\" y=\"0\" width=\"2400\" height=\"1600\"/>\n",
       "  </clipPath>\n",
       "</defs>\n",
       "<path clip-path=\"url(#clip060)\" d=\"\n",
       "M0 1600 L2400 1600 L2400 0 L0 0  Z\n",
       "  \" fill=\"#ffffff\" fill-rule=\"evenodd\" fill-opacity=\"1\"/>\n",
       "<defs>\n",
       "  <clipPath id=\"clip061\">\n",
       "    <rect x=\"480\" y=\"0\" width=\"1681\" height=\"1600\"/>\n",
       "  </clipPath>\n",
       "</defs>\n",
       "<path clip-path=\"url(#clip060)\" d=\"\n",
       "M175.348 1486.45 L2352.76 1486.45 L2352.76 47.2441 L175.348 47.2441  Z\n",
       "  \" fill=\"#ffffff\" fill-rule=\"evenodd\" fill-opacity=\"1\"/>\n",
       "<defs>\n",
       "  <clipPath id=\"clip062\">\n",
       "    <rect x=\"175\" y=\"47\" width=\"2178\" height=\"1440\"/>\n",
       "  </clipPath>\n",
       "</defs>\n",
       "<polyline clip-path=\"url(#clip062)\" style=\"stroke:#000000; stroke-width:2; stroke-opacity:0.1; fill:none\" points=\"\n",
       "  236.973,1486.45 236.973,47.2441 \n",
       "  \"/>\n",
       "<polyline clip-path=\"url(#clip062)\" style=\"stroke:#000000; stroke-width:2; stroke-opacity:0.1; fill:none\" points=\"\n",
       "  750.512,1486.45 750.512,47.2441 \n",
       "  \"/>\n",
       "<polyline clip-path=\"url(#clip062)\" style=\"stroke:#000000; stroke-width:2; stroke-opacity:0.1; fill:none\" points=\"\n",
       "  1264.05,1486.45 1264.05,47.2441 \n",
       "  \"/>\n",
       "<polyline clip-path=\"url(#clip062)\" style=\"stroke:#000000; stroke-width:2; stroke-opacity:0.1; fill:none\" points=\"\n",
       "  1777.59,1486.45 1777.59,47.2441 \n",
       "  \"/>\n",
       "<polyline clip-path=\"url(#clip062)\" style=\"stroke:#000000; stroke-width:2; stroke-opacity:0.1; fill:none\" points=\"\n",
       "  2291.13,1486.45 2291.13,47.2441 \n",
       "  \"/>\n",
       "<polyline clip-path=\"url(#clip062)\" style=\"stroke:#000000; stroke-width:2; stroke-opacity:0.1; fill:none\" points=\"\n",
       "  175.348,1447.47 2352.76,1447.47 \n",
       "  \"/>\n",
       "<polyline clip-path=\"url(#clip062)\" style=\"stroke:#000000; stroke-width:2; stroke-opacity:0.1; fill:none\" points=\"\n",
       "  175.348,1113.72 2352.76,1113.72 \n",
       "  \"/>\n",
       "<polyline clip-path=\"url(#clip062)\" style=\"stroke:#000000; stroke-width:2; stroke-opacity:0.1; fill:none\" points=\"\n",
       "  175.348,779.968 2352.76,779.968 \n",
       "  \"/>\n",
       "<polyline clip-path=\"url(#clip062)\" style=\"stroke:#000000; stroke-width:2; stroke-opacity:0.1; fill:none\" points=\"\n",
       "  175.348,446.219 2352.76,446.219 \n",
       "  \"/>\n",
       "<polyline clip-path=\"url(#clip062)\" style=\"stroke:#000000; stroke-width:2; stroke-opacity:0.1; fill:none\" points=\"\n",
       "  175.348,112.469 2352.76,112.469 \n",
       "  \"/>\n",
       "<polyline clip-path=\"url(#clip060)\" style=\"stroke:#000000; stroke-width:4; stroke-opacity:1; fill:none\" points=\"\n",
       "  175.348,1486.45 2352.76,1486.45 \n",
       "  \"/>\n",
       "<polyline clip-path=\"url(#clip060)\" style=\"stroke:#000000; stroke-width:4; stroke-opacity:1; fill:none\" points=\"\n",
       "  175.348,1486.45 175.348,47.2441 \n",
       "  \"/>\n",
       "<polyline clip-path=\"url(#clip060)\" style=\"stroke:#000000; stroke-width:4; stroke-opacity:1; fill:none\" points=\"\n",
       "  236.973,1486.45 236.973,1469.18 \n",
       "  \"/>\n",
       "<polyline clip-path=\"url(#clip060)\" style=\"stroke:#000000; stroke-width:4; stroke-opacity:1; fill:none\" points=\"\n",
       "  750.512,1486.45 750.512,1469.18 \n",
       "  \"/>\n",
       "<polyline clip-path=\"url(#clip060)\" style=\"stroke:#000000; stroke-width:4; stroke-opacity:1; fill:none\" points=\"\n",
       "  1264.05,1486.45 1264.05,1469.18 \n",
       "  \"/>\n",
       "<polyline clip-path=\"url(#clip060)\" style=\"stroke:#000000; stroke-width:4; stroke-opacity:1; fill:none\" points=\"\n",
       "  1777.59,1486.45 1777.59,1469.18 \n",
       "  \"/>\n",
       "<polyline clip-path=\"url(#clip060)\" style=\"stroke:#000000; stroke-width:4; stroke-opacity:1; fill:none\" points=\"\n",
       "  2291.13,1486.45 2291.13,1469.18 \n",
       "  \"/>\n",
       "<polyline clip-path=\"url(#clip060)\" style=\"stroke:#000000; stroke-width:4; stroke-opacity:1; fill:none\" points=\"\n",
       "  175.348,1447.47 201.477,1447.47 \n",
       "  \"/>\n",
       "<polyline clip-path=\"url(#clip060)\" style=\"stroke:#000000; stroke-width:4; stroke-opacity:1; fill:none\" points=\"\n",
       "  175.348,1113.72 201.477,1113.72 \n",
       "  \"/>\n",
       "<polyline clip-path=\"url(#clip060)\" style=\"stroke:#000000; stroke-width:4; stroke-opacity:1; fill:none\" points=\"\n",
       "  175.348,779.968 201.477,779.968 \n",
       "  \"/>\n",
       "<polyline clip-path=\"url(#clip060)\" style=\"stroke:#000000; stroke-width:4; stroke-opacity:1; fill:none\" points=\"\n",
       "  175.348,446.219 201.477,446.219 \n",
       "  \"/>\n",
       "<polyline clip-path=\"url(#clip060)\" style=\"stroke:#000000; stroke-width:4; stroke-opacity:1; fill:none\" points=\"\n",
       "  175.348,112.469 201.477,112.469 \n",
       "  \"/>\n",
       "<path clip-path=\"url(#clip060)\" d=\"M 0 0 M204.519 1525.04 L216.996 1525.04 L216.996 1528.83 L204.519 1528.83 L204.519 1525.04 Z\" fill=\"#000000\" fill-rule=\"evenodd\" fill-opacity=\"1\" /><path clip-path=\"url(#clip060)\" d=\"M 0 0 M226.093 1535.98 L242.413 1535.98 L242.413 1539.92 L220.468 1539.92 L220.468 1535.98 Q223.13 1533.23 227.714 1528.6 Q232.32 1523.95 233.501 1522.61 Q235.746 1520.08 236.626 1518.35 Q237.528 1516.59 237.528 1514.9 Q237.528 1512.14 235.584 1510.41 Q233.663 1508.67 230.561 1508.67 Q228.362 1508.67 225.908 1509.43 Q223.478 1510.2 220.7 1511.75 L220.7 1507.03 Q223.524 1505.89 225.978 1505.31 Q228.431 1504.73 230.468 1504.73 Q235.839 1504.73 239.033 1507.42 Q242.227 1510.11 242.227 1514.6 Q242.227 1516.73 241.417 1518.65 Q240.63 1520.54 238.524 1523.14 Q237.945 1523.81 234.843 1527.03 Q231.741 1530.22 226.093 1535.98 Z\" fill=\"#000000\" fill-rule=\"evenodd\" fill-opacity=\"1\" /><path clip-path=\"url(#clip060)\" d=\"M 0 0 M257.482 1508.44 Q253.871 1508.44 252.042 1512 Q250.237 1515.55 250.237 1522.67 Q250.237 1529.78 252.042 1533.35 Q253.871 1536.89 257.482 1536.89 Q261.116 1536.89 262.922 1533.35 Q264.751 1529.78 264.751 1522.67 Q264.751 1515.55 262.922 1512 Q261.116 1508.44 257.482 1508.44 M257.482 1504.73 Q263.292 1504.73 266.348 1509.34 Q269.426 1513.92 269.426 1522.67 Q269.426 1531.4 266.348 1536.01 Q263.292 1540.59 257.482 1540.59 Q251.672 1540.59 248.593 1536.01 Q245.538 1531.4 245.538 1522.67 Q245.538 1513.92 248.593 1509.34 Q251.672 1504.73 257.482 1504.73 Z\" fill=\"#000000\" fill-rule=\"evenodd\" fill-opacity=\"1\" /><path clip-path=\"url(#clip060)\" d=\"M 0 0 M717.874 1525.04 L730.351 1525.04 L730.351 1528.83 L717.874 1528.83 L717.874 1525.04 Z\" fill=\"#000000\" fill-rule=\"evenodd\" fill-opacity=\"1\" /><path clip-path=\"url(#clip060)\" d=\"M 0 0 M736.23 1535.98 L743.869 1535.98 L743.869 1509.62 L735.559 1511.29 L735.559 1507.03 L743.823 1505.36 L748.499 1505.36 L748.499 1535.98 L756.137 1535.98 L756.137 1539.92 L736.23 1539.92 L736.23 1535.98 Z\" fill=\"#000000\" fill-rule=\"evenodd\" fill-opacity=\"1\" /><path clip-path=\"url(#clip060)\" d=\"M 0 0 M771.207 1508.44 Q767.596 1508.44 765.767 1512 Q763.961 1515.55 763.961 1522.67 Q763.961 1529.78 765.767 1533.35 Q767.596 1536.89 771.207 1536.89 Q774.841 1536.89 776.647 1533.35 Q778.475 1529.78 778.475 1522.67 Q778.475 1515.55 776.647 1512 Q774.841 1508.44 771.207 1508.44 M771.207 1504.73 Q777.017 1504.73 780.072 1509.34 Q783.151 1513.92 783.151 1522.67 Q783.151 1531.4 780.072 1536.01 Q777.017 1540.59 771.207 1540.59 Q765.397 1540.59 762.318 1536.01 Q759.262 1531.4 759.262 1522.67 Q759.262 1513.92 762.318 1509.34 Q765.397 1504.73 771.207 1504.73 Z\" fill=\"#000000\" fill-rule=\"evenodd\" fill-opacity=\"1\" /><path clip-path=\"url(#clip060)\" d=\"M 0 0 M1264.05 1508.44 Q1260.44 1508.44 1258.61 1512 Q1256.81 1515.55 1256.81 1522.67 Q1256.81 1529.78 1258.61 1533.35 Q1260.44 1536.89 1264.05 1536.89 Q1267.69 1536.89 1269.49 1533.35 Q1271.32 1529.78 1271.32 1522.67 Q1271.32 1515.55 1269.49 1512 Q1267.69 1508.44 1264.05 1508.44 M1264.05 1504.73 Q1269.86 1504.73 1272.92 1509.34 Q1276 1513.92 1276 1522.67 Q1276 1531.4 1272.92 1536.01 Q1269.86 1540.59 1264.05 1540.59 Q1258.24 1540.59 1255.16 1536.01 Q1252.11 1531.4 1252.11 1522.67 Q1252.11 1513.92 1255.16 1509.34 Q1258.24 1504.73 1264.05 1504.73 Z\" fill=\"#000000\" fill-rule=\"evenodd\" fill-opacity=\"1\" /><path clip-path=\"url(#clip060)\" d=\"M 0 0 M1754.47 1535.98 L1762.11 1535.98 L1762.11 1509.62 L1753.8 1511.29 L1753.8 1507.03 L1762.06 1505.36 L1766.74 1505.36 L1766.74 1535.98 L1774.37 1535.98 L1774.37 1539.92 L1754.47 1539.92 L1754.47 1535.98 Z\" fill=\"#000000\" fill-rule=\"evenodd\" fill-opacity=\"1\" /><path clip-path=\"url(#clip060)\" d=\"M 0 0 M1789.44 1508.44 Q1785.83 1508.44 1784 1512 Q1782.2 1515.55 1782.2 1522.67 Q1782.2 1529.78 1784 1533.35 Q1785.83 1536.89 1789.44 1536.89 Q1793.08 1536.89 1794.88 1533.35 Q1796.71 1529.78 1796.71 1522.67 Q1796.71 1515.55 1794.88 1512 Q1793.08 1508.44 1789.44 1508.44 M1789.44 1504.73 Q1795.25 1504.73 1798.31 1509.34 Q1801.39 1513.92 1801.39 1522.67 Q1801.39 1531.4 1798.31 1536.01 Q1795.25 1540.59 1789.44 1540.59 Q1783.63 1540.59 1780.55 1536.01 Q1777.5 1531.4 1777.5 1522.67 Q1777.5 1513.92 1780.55 1509.34 Q1783.63 1504.73 1789.44 1504.73 Z\" fill=\"#000000\" fill-rule=\"evenodd\" fill-opacity=\"1\" /><path clip-path=\"url(#clip060)\" d=\"M 0 0 M2272.28 1535.98 L2288.6 1535.98 L2288.6 1539.92 L2266.65 1539.92 L2266.65 1535.98 Q2269.31 1533.23 2273.9 1528.6 Q2278.5 1523.95 2279.68 1522.61 Q2281.93 1520.08 2282.81 1518.35 Q2283.71 1516.59 2283.71 1514.9 Q2283.71 1512.14 2281.77 1510.41 Q2279.85 1508.67 2276.74 1508.67 Q2274.55 1508.67 2272.09 1509.43 Q2269.66 1510.2 2266.88 1511.75 L2266.88 1507.03 Q2269.71 1505.89 2272.16 1505.31 Q2274.62 1504.73 2276.65 1504.73 Q2282.02 1504.73 2285.22 1507.42 Q2288.41 1510.11 2288.41 1514.6 Q2288.41 1516.73 2287.6 1518.65 Q2286.81 1520.54 2284.71 1523.14 Q2284.13 1523.81 2281.03 1527.03 Q2277.93 1530.22 2272.28 1535.98 Z\" fill=\"#000000\" fill-rule=\"evenodd\" fill-opacity=\"1\" /><path clip-path=\"url(#clip060)\" d=\"M 0 0 M2303.67 1508.44 Q2300.05 1508.44 2298.23 1512 Q2296.42 1515.55 2296.42 1522.67 Q2296.42 1529.78 2298.23 1533.35 Q2300.05 1536.89 2303.67 1536.89 Q2307.3 1536.89 2309.11 1533.35 Q2310.93 1529.78 2310.93 1522.67 Q2310.93 1515.55 2309.11 1512 Q2307.3 1508.44 2303.67 1508.44 M2303.67 1504.73 Q2309.48 1504.73 2312.53 1509.34 Q2315.61 1513.92 2315.61 1522.67 Q2315.61 1531.4 2312.53 1536.01 Q2309.48 1540.59 2303.67 1540.59 Q2297.86 1540.59 2294.78 1536.01 Q2291.72 1531.4 2291.72 1522.67 Q2291.72 1513.92 2294.78 1509.34 Q2297.86 1504.73 2303.67 1504.73 Z\" fill=\"#000000\" fill-rule=\"evenodd\" fill-opacity=\"1\" /><path clip-path=\"url(#clip060)\" d=\"M 0 0 M75.4226 1433.27 Q71.8115 1433.27 69.9828 1436.83 Q68.1773 1440.37 68.1773 1447.5 Q68.1773 1454.61 69.9828 1458.17 Q71.8115 1461.72 75.4226 1461.72 Q79.0569 1461.72 80.8624 1458.17 Q82.6911 1454.61 82.6911 1447.5 Q82.6911 1440.37 80.8624 1436.83 Q79.0569 1433.27 75.4226 1433.27 M75.4226 1429.56 Q81.2328 1429.56 84.2883 1434.17 Q87.367 1438.75 87.367 1447.5 Q87.367 1456.23 84.2883 1460.84 Q81.2328 1465.42 75.4226 1465.42 Q69.6125 1465.42 66.5338 1460.84 Q63.4782 1456.23 63.4782 1447.5 Q63.4782 1438.75 66.5338 1434.17 Q69.6125 1429.56 75.4226 1429.56 Z\" fill=\"#000000\" fill-rule=\"evenodd\" fill-opacity=\"1\" /><path clip-path=\"url(#clip060)\" d=\"M 0 0 M92.4364 1458.87 L97.3206 1458.87 L97.3206 1464.75 L92.4364 1464.75 L92.4364 1458.87 Z\" fill=\"#000000\" fill-rule=\"evenodd\" fill-opacity=\"1\" /><path clip-path=\"url(#clip060)\" d=\"M 0 0 M112.39 1433.27 Q108.779 1433.27 106.95 1436.83 Q105.145 1440.37 105.145 1447.5 Q105.145 1454.61 106.95 1458.17 Q108.779 1461.72 112.39 1461.72 Q116.024 1461.72 117.83 1458.17 Q119.658 1454.61 119.658 1447.5 Q119.658 1440.37 117.83 1436.83 Q116.024 1433.27 112.39 1433.27 M112.39 1429.56 Q118.2 1429.56 121.256 1434.17 Q124.334 1438.75 124.334 1447.5 Q124.334 1456.23 121.256 1460.84 Q118.2 1465.42 112.39 1465.42 Q106.58 1465.42 103.501 1460.84 Q100.446 1456.23 100.446 1447.5 Q100.446 1438.75 103.501 1434.17 Q106.58 1429.56 112.39 1429.56 Z\" fill=\"#000000\" fill-rule=\"evenodd\" fill-opacity=\"1\" /><path clip-path=\"url(#clip060)\" d=\"M 0 0 M139.404 1433.27 Q135.793 1433.27 133.964 1436.83 Q132.158 1440.37 132.158 1447.5 Q132.158 1454.61 133.964 1458.17 Q135.793 1461.72 139.404 1461.72 Q143.038 1461.72 144.844 1458.17 Q146.672 1454.61 146.672 1447.5 Q146.672 1440.37 144.844 1436.83 Q143.038 1433.27 139.404 1433.27 M139.404 1429.56 Q145.214 1429.56 148.269 1434.17 Q151.348 1438.75 151.348 1447.5 Q151.348 1456.23 148.269 1460.84 Q145.214 1465.42 139.404 1465.42 Q133.594 1465.42 130.515 1460.84 Q127.459 1456.23 127.459 1447.5 Q127.459 1438.75 130.515 1434.17 Q133.594 1429.56 139.404 1429.56 Z\" fill=\"#000000\" fill-rule=\"evenodd\" fill-opacity=\"1\" /><path clip-path=\"url(#clip060)\" d=\"M 0 0 M76.6495 1099.52 Q73.0384 1099.52 71.2097 1103.08 Q69.4041 1106.62 69.4041 1113.75 Q69.4041 1120.86 71.2097 1124.42 Q73.0384 1127.97 76.6495 1127.97 Q80.2837 1127.97 82.0892 1124.42 Q83.9179 1120.86 83.9179 1113.75 Q83.9179 1106.62 82.0892 1103.08 Q80.2837 1099.52 76.6495 1099.52 M76.6495 1095.81 Q82.4596 1095.81 85.5152 1100.42 Q88.5938 1105 88.5938 1113.75 Q88.5938 1122.48 85.5152 1127.09 Q82.4596 1131.67 76.6495 1131.67 Q70.8393 1131.67 67.7606 1127.09 Q64.7051 1122.48 64.7051 1113.75 Q64.7051 1105 67.7606 1100.42 Q70.8393 1095.81 76.6495 1095.81 Z\" fill=\"#000000\" fill-rule=\"evenodd\" fill-opacity=\"1\" /><path clip-path=\"url(#clip060)\" d=\"M 0 0 M93.6633 1125.12 L98.5475 1125.12 L98.5475 1131 L93.6633 1131 L93.6633 1125.12 Z\" fill=\"#000000\" fill-rule=\"evenodd\" fill-opacity=\"1\" /><path clip-path=\"url(#clip060)\" d=\"M 0 0 M113.617 1099.52 Q110.006 1099.52 108.177 1103.08 Q106.372 1106.62 106.372 1113.75 Q106.372 1120.86 108.177 1124.42 Q110.006 1127.97 113.617 1127.97 Q117.251 1127.97 119.057 1124.42 Q120.885 1120.86 120.885 1113.75 Q120.885 1106.62 119.057 1103.08 Q117.251 1099.52 113.617 1099.52 M113.617 1095.81 Q119.427 1095.81 122.483 1100.42 Q125.561 1105 125.561 1113.75 Q125.561 1122.48 122.483 1127.09 Q119.427 1131.67 113.617 1131.67 Q107.807 1131.67 104.728 1127.09 Q101.672 1122.48 101.672 1113.75 Q101.672 1105 104.728 1100.42 Q107.807 1095.81 113.617 1095.81 Z\" fill=\"#000000\" fill-rule=\"evenodd\" fill-opacity=\"1\" /><path clip-path=\"url(#clip060)\" d=\"M 0 0 M131.441 1127.06 L139.08 1127.06 L139.08 1100.7 L130.77 1102.36 L130.77 1098.1 L139.033 1096.44 L143.709 1096.44 L143.709 1127.06 L151.348 1127.06 L151.348 1131 L131.441 1131 L131.441 1127.06 Z\" fill=\"#000000\" fill-rule=\"evenodd\" fill-opacity=\"1\" /><path clip-path=\"url(#clip060)\" d=\"M 0 0 M77.0198 765.767 Q73.4087 765.767 71.58 769.332 Q69.7745 772.873 69.7745 780.003 Q69.7745 787.109 71.58 790.674 Q73.4087 794.216 77.0198 794.216 Q80.6541 794.216 82.4596 790.674 Q84.2883 787.109 84.2883 780.003 Q84.2883 772.873 82.4596 769.332 Q80.6541 765.767 77.0198 765.767 M77.0198 762.063 Q82.83 762.063 85.8855 766.67 Q88.9642 771.253 88.9642 780.003 Q88.9642 788.73 85.8855 793.336 Q82.83 797.92 77.0198 797.92 Q71.2097 797.92 68.131 793.336 Q65.0754 788.73 65.0754 780.003 Q65.0754 771.253 68.131 766.67 Q71.2097 762.063 77.0198 762.063 Z\" fill=\"#000000\" fill-rule=\"evenodd\" fill-opacity=\"1\" /><path clip-path=\"url(#clip060)\" d=\"M 0 0 M94.0336 791.369 L98.9179 791.369 L98.9179 797.248 L94.0336 797.248 L94.0336 791.369 Z\" fill=\"#000000\" fill-rule=\"evenodd\" fill-opacity=\"1\" /><path clip-path=\"url(#clip060)\" d=\"M 0 0 M113.987 765.767 Q110.376 765.767 108.547 769.332 Q106.742 772.873 106.742 780.003 Q106.742 787.109 108.547 790.674 Q110.376 794.216 113.987 794.216 Q117.621 794.216 119.427 790.674 Q121.256 787.109 121.256 780.003 Q121.256 772.873 119.427 769.332 Q117.621 765.767 113.987 765.767 M113.987 762.063 Q119.797 762.063 122.853 766.67 Q125.932 771.253 125.932 780.003 Q125.932 788.73 122.853 793.336 Q119.797 797.92 113.987 797.92 Q108.177 797.92 105.098 793.336 Q102.043 788.73 102.043 780.003 Q102.043 771.253 105.098 766.67 Q108.177 762.063 113.987 762.063 Z\" fill=\"#000000\" fill-rule=\"evenodd\" fill-opacity=\"1\" /><path clip-path=\"url(#clip060)\" d=\"M 0 0 M135.029 793.313 L151.348 793.313 L151.348 797.248 L129.404 797.248 L129.404 793.313 Q132.066 790.559 136.649 785.929 Q141.256 781.276 142.436 779.934 Q144.682 777.41 145.561 775.674 Q146.464 773.915 146.464 772.225 Q146.464 769.471 144.519 767.735 Q142.598 765.998 139.496 765.998 Q137.297 765.998 134.844 766.762 Q132.413 767.526 129.635 769.077 L129.635 764.355 Q132.459 763.221 134.913 762.642 Q137.367 762.063 139.404 762.063 Q144.774 762.063 147.969 764.749 Q151.163 767.434 151.163 771.924 Q151.163 774.054 150.353 775.975 Q149.566 777.873 147.459 780.466 Q146.881 781.137 143.779 784.355 Q140.677 787.549 135.029 793.313 Z\" fill=\"#000000\" fill-rule=\"evenodd\" fill-opacity=\"1\" /><path clip-path=\"url(#clip060)\" d=\"M 0 0 M76.0708 432.017 Q72.4597 432.017 70.631 435.582 Q68.8254 439.124 68.8254 446.253 Q68.8254 453.36 70.631 456.925 Q72.4597 460.466 76.0708 460.466 Q79.705 460.466 81.5105 456.925 Q83.3392 453.36 83.3392 446.253 Q83.3392 439.124 81.5105 435.582 Q79.705 432.017 76.0708 432.017 M76.0708 428.314 Q81.8809 428.314 84.9365 432.92 Q88.0151 437.503 88.0151 446.253 Q88.0151 454.98 84.9365 459.587 Q81.8809 464.17 76.0708 464.17 Q70.2606 464.17 67.1819 459.587 Q64.1264 454.98 64.1264 446.253 Q64.1264 437.503 67.1819 432.92 Q70.2606 428.314 76.0708 428.314 Z\" fill=\"#000000\" fill-rule=\"evenodd\" fill-opacity=\"1\" /><path clip-path=\"url(#clip060)\" d=\"M 0 0 M93.0846 457.619 L97.9688 457.619 L97.9688 463.499 L93.0846 463.499 L93.0846 457.619 Z\" fill=\"#000000\" fill-rule=\"evenodd\" fill-opacity=\"1\" /><path clip-path=\"url(#clip060)\" d=\"M 0 0 M113.038 432.017 Q109.427 432.017 107.598 435.582 Q105.793 439.124 105.793 446.253 Q105.793 453.36 107.598 456.925 Q109.427 460.466 113.038 460.466 Q116.672 460.466 118.478 456.925 Q120.307 453.36 120.307 446.253 Q120.307 439.124 118.478 435.582 Q116.672 432.017 113.038 432.017 M113.038 428.314 Q118.848 428.314 121.904 432.92 Q124.983 437.503 124.983 446.253 Q124.983 454.98 121.904 459.587 Q118.848 464.17 113.038 464.17 Q107.228 464.17 104.149 459.587 Q101.094 454.98 101.094 446.253 Q101.094 437.503 104.149 432.92 Q107.228 428.314 113.038 428.314 Z\" fill=\"#000000\" fill-rule=\"evenodd\" fill-opacity=\"1\" /><path clip-path=\"url(#clip060)\" d=\"M 0 0 M144.219 444.865 Q147.575 445.582 149.45 447.851 Q151.348 450.119 151.348 453.452 Q151.348 458.568 147.83 461.369 Q144.311 464.17 137.83 464.17 Q135.654 464.17 133.339 463.73 Q131.047 463.314 128.594 462.457 L128.594 457.943 Q130.538 459.077 132.853 459.656 Q135.168 460.235 137.691 460.235 Q142.089 460.235 144.381 458.499 Q146.695 456.763 146.695 453.452 Q146.695 450.397 144.543 448.684 Q142.413 446.948 138.594 446.948 L134.566 446.948 L134.566 443.105 L138.779 443.105 Q142.228 443.105 144.057 441.74 Q145.885 440.351 145.885 437.758 Q145.885 435.096 143.987 433.684 Q142.112 432.249 138.594 432.249 Q136.672 432.249 134.473 432.666 Q132.274 433.082 129.635 433.962 L129.635 429.795 Q132.297 429.054 134.612 428.684 Q136.95 428.314 139.01 428.314 Q144.334 428.314 147.436 430.744 Q150.538 433.152 150.538 437.272 Q150.538 440.142 148.894 442.133 Q147.251 444.101 144.219 444.865 Z\" fill=\"#000000\" fill-rule=\"evenodd\" fill-opacity=\"1\" /><path clip-path=\"url(#clip060)\" d=\"M 0 0 M74.9365 98.2678 Q71.3254 98.2678 69.4967 101.833 Q67.6912 105.374 67.6912 112.504 Q67.6912 119.61 69.4967 123.175 Q71.3254 126.717 74.9365 126.717 Q78.5707 126.717 80.3763 123.175 Q82.205 119.61 82.205 112.504 Q82.205 105.374 80.3763 101.833 Q78.5707 98.2678 74.9365 98.2678 M74.9365 94.5641 Q80.7467 94.5641 83.8022 99.1705 Q86.8809 103.754 86.8809 112.504 Q86.8809 121.231 83.8022 125.837 Q80.7467 130.42 74.9365 130.42 Q69.1264 130.42 66.0477 125.837 Q62.9921 121.231 62.9921 112.504 Q62.9921 103.754 66.0477 99.1705 Q69.1264 94.5641 74.9365 94.5641 Z\" fill=\"#000000\" fill-rule=\"evenodd\" fill-opacity=\"1\" /><path clip-path=\"url(#clip060)\" d=\"M 0 0 M91.9503 123.869 L96.8345 123.869 L96.8345 129.749 L91.9503 129.749 L91.9503 123.869 Z\" fill=\"#000000\" fill-rule=\"evenodd\" fill-opacity=\"1\" /><path clip-path=\"url(#clip060)\" d=\"M 0 0 M111.904 98.2678 Q108.293 98.2678 106.464 101.833 Q104.659 105.374 104.659 112.504 Q104.659 119.61 106.464 123.175 Q108.293 126.717 111.904 126.717 Q115.538 126.717 117.344 123.175 Q119.172 119.61 119.172 112.504 Q119.172 105.374 117.344 101.833 Q115.538 98.2678 111.904 98.2678 M111.904 94.5641 Q117.714 94.5641 120.77 99.1705 Q123.848 103.754 123.848 112.504 Q123.848 121.231 120.77 125.837 Q117.714 130.42 111.904 130.42 Q106.094 130.42 103.015 125.837 Q99.9595 121.231 99.9595 112.504 Q99.9595 103.754 103.015 99.1705 Q106.094 94.5641 111.904 94.5641 Z\" fill=\"#000000\" fill-rule=\"evenodd\" fill-opacity=\"1\" /><path clip-path=\"url(#clip060)\" d=\"M 0 0 M141.765 99.2631 L129.959 117.712 L141.765 117.712 L141.765 99.2631 M140.538 95.1891 L146.418 95.1891 L146.418 117.712 L151.348 117.712 L151.348 121.601 L146.418 121.601 L146.418 129.749 L141.765 129.749 L141.765 121.601 L126.163 121.601 L126.163 117.087 L140.538 95.1891 Z\" fill=\"#000000\" fill-rule=\"evenodd\" fill-opacity=\"1\" /><polyline clip-path=\"url(#clip062)\" style=\"stroke:#009af9; stroke-width:4; stroke-opacity:1; fill:none\" points=\"\n",
       "  236.973,1444.17 266.743,1443.95 296.514,1443.27 326.284,1442.07 356.055,1440.25 385.825,1437.66 415.595,1434.11 445.366,1429.37 475.136,1423.13 504.907,1415.06 \n",
       "  534.677,1404.73 564.448,1391.71 594.218,1375.49 623.988,1355.56 653.759,1331.38 683.529,1302.42 713.3,1268.2 743.07,1228.33 772.84,1182.52 802.611,1130.64 \n",
       "  832.381,1072.77 862.152,1009.21 891.922,940.536 921.692,867.593 951.463,791.518 981.233,713.715 1011,635.823 1040.77,559.669 1070.54,487.199 1100.31,420.401 \n",
       "  1130.09,361.211 1159.86,311.421 1189.63,272.592 1219.4,245.977 1249.17,232.448 1278.94,232.449 1308.71,245.979 1338.48,272.595 1368.25,311.424 1398.02,361.214 \n",
       "  1427.79,420.404 1457.56,487.202 1487.33,559.671 1517.1,635.825 1546.87,713.716 1576.64,791.519 1606.41,867.594 1636.18,940.536 1665.95,1009.21 1695.72,1072.77 \n",
       "  1725.49,1130.64 1755.26,1182.52 1785.03,1228.33 1814.8,1268.2 1844.57,1302.42 1874.35,1331.38 1904.12,1355.56 1933.89,1375.5 1963.66,1391.71 1993.43,1404.73 \n",
       "  2023.2,1415.06 2052.97,1423.13 2082.74,1429.37 2112.51,1434.11 2142.28,1437.66 2172.05,1440.25 2201.82,1442.07 2231.59,1443.27 2261.36,1443.95 2291.13,1444.17 \n",
       "  \n",
       "  \"/>\n",
       "<circle clip-path=\"url(#clip062)\" cx=\"236.973\" cy=\"1444.17\" r=\"14\" fill=\"#009af9\" fill-rule=\"evenodd\" fill-opacity=\"1\" stroke=\"#000000\" stroke-opacity=\"1\" stroke-width=\"3.2\"/>\n",
       "<circle clip-path=\"url(#clip062)\" cx=\"266.743\" cy=\"1443.95\" r=\"14\" fill=\"#009af9\" fill-rule=\"evenodd\" fill-opacity=\"1\" stroke=\"#000000\" stroke-opacity=\"1\" stroke-width=\"3.2\"/>\n",
       "<circle clip-path=\"url(#clip062)\" cx=\"296.514\" cy=\"1443.27\" r=\"14\" fill=\"#009af9\" fill-rule=\"evenodd\" fill-opacity=\"1\" stroke=\"#000000\" stroke-opacity=\"1\" stroke-width=\"3.2\"/>\n",
       "<circle clip-path=\"url(#clip062)\" cx=\"326.284\" cy=\"1442.07\" r=\"14\" fill=\"#009af9\" fill-rule=\"evenodd\" fill-opacity=\"1\" stroke=\"#000000\" stroke-opacity=\"1\" stroke-width=\"3.2\"/>\n",
       "<circle clip-path=\"url(#clip062)\" cx=\"356.055\" cy=\"1440.25\" r=\"14\" fill=\"#009af9\" fill-rule=\"evenodd\" fill-opacity=\"1\" stroke=\"#000000\" stroke-opacity=\"1\" stroke-width=\"3.2\"/>\n",
       "<circle clip-path=\"url(#clip062)\" cx=\"385.825\" cy=\"1437.66\" r=\"14\" fill=\"#009af9\" fill-rule=\"evenodd\" fill-opacity=\"1\" stroke=\"#000000\" stroke-opacity=\"1\" stroke-width=\"3.2\"/>\n",
       "<circle clip-path=\"url(#clip062)\" cx=\"415.595\" cy=\"1434.11\" r=\"14\" fill=\"#009af9\" fill-rule=\"evenodd\" fill-opacity=\"1\" stroke=\"#000000\" stroke-opacity=\"1\" stroke-width=\"3.2\"/>\n",
       "<circle clip-path=\"url(#clip062)\" cx=\"445.366\" cy=\"1429.37\" r=\"14\" fill=\"#009af9\" fill-rule=\"evenodd\" fill-opacity=\"1\" stroke=\"#000000\" stroke-opacity=\"1\" stroke-width=\"3.2\"/>\n",
       "<circle clip-path=\"url(#clip062)\" cx=\"475.136\" cy=\"1423.13\" r=\"14\" fill=\"#009af9\" fill-rule=\"evenodd\" fill-opacity=\"1\" stroke=\"#000000\" stroke-opacity=\"1\" stroke-width=\"3.2\"/>\n",
       "<circle clip-path=\"url(#clip062)\" cx=\"504.907\" cy=\"1415.06\" r=\"14\" fill=\"#009af9\" fill-rule=\"evenodd\" fill-opacity=\"1\" stroke=\"#000000\" stroke-opacity=\"1\" stroke-width=\"3.2\"/>\n",
       "<circle clip-path=\"url(#clip062)\" cx=\"534.677\" cy=\"1404.73\" r=\"14\" fill=\"#009af9\" fill-rule=\"evenodd\" fill-opacity=\"1\" stroke=\"#000000\" stroke-opacity=\"1\" stroke-width=\"3.2\"/>\n",
       "<circle clip-path=\"url(#clip062)\" cx=\"564.448\" cy=\"1391.71\" r=\"14\" fill=\"#009af9\" fill-rule=\"evenodd\" fill-opacity=\"1\" stroke=\"#000000\" stroke-opacity=\"1\" stroke-width=\"3.2\"/>\n",
       "<circle clip-path=\"url(#clip062)\" cx=\"594.218\" cy=\"1375.49\" r=\"14\" fill=\"#009af9\" fill-rule=\"evenodd\" fill-opacity=\"1\" stroke=\"#000000\" stroke-opacity=\"1\" stroke-width=\"3.2\"/>\n",
       "<circle clip-path=\"url(#clip062)\" cx=\"623.988\" cy=\"1355.56\" r=\"14\" fill=\"#009af9\" fill-rule=\"evenodd\" fill-opacity=\"1\" stroke=\"#000000\" stroke-opacity=\"1\" stroke-width=\"3.2\"/>\n",
       "<circle clip-path=\"url(#clip062)\" cx=\"653.759\" cy=\"1331.38\" r=\"14\" fill=\"#009af9\" fill-rule=\"evenodd\" fill-opacity=\"1\" stroke=\"#000000\" stroke-opacity=\"1\" stroke-width=\"3.2\"/>\n",
       "<circle clip-path=\"url(#clip062)\" cx=\"683.529\" cy=\"1302.42\" r=\"14\" fill=\"#009af9\" fill-rule=\"evenodd\" fill-opacity=\"1\" stroke=\"#000000\" stroke-opacity=\"1\" stroke-width=\"3.2\"/>\n",
       "<circle clip-path=\"url(#clip062)\" cx=\"713.3\" cy=\"1268.2\" r=\"14\" fill=\"#009af9\" fill-rule=\"evenodd\" fill-opacity=\"1\" stroke=\"#000000\" stroke-opacity=\"1\" stroke-width=\"3.2\"/>\n",
       "<circle clip-path=\"url(#clip062)\" cx=\"743.07\" cy=\"1228.33\" r=\"14\" fill=\"#009af9\" fill-rule=\"evenodd\" fill-opacity=\"1\" stroke=\"#000000\" stroke-opacity=\"1\" stroke-width=\"3.2\"/>\n",
       "<circle clip-path=\"url(#clip062)\" cx=\"772.84\" cy=\"1182.52\" r=\"14\" fill=\"#009af9\" fill-rule=\"evenodd\" fill-opacity=\"1\" stroke=\"#000000\" stroke-opacity=\"1\" stroke-width=\"3.2\"/>\n",
       "<circle clip-path=\"url(#clip062)\" cx=\"802.611\" cy=\"1130.64\" r=\"14\" fill=\"#009af9\" fill-rule=\"evenodd\" fill-opacity=\"1\" stroke=\"#000000\" stroke-opacity=\"1\" stroke-width=\"3.2\"/>\n",
       "<circle clip-path=\"url(#clip062)\" cx=\"832.381\" cy=\"1072.77\" r=\"14\" fill=\"#009af9\" fill-rule=\"evenodd\" fill-opacity=\"1\" stroke=\"#000000\" stroke-opacity=\"1\" stroke-width=\"3.2\"/>\n",
       "<circle clip-path=\"url(#clip062)\" cx=\"862.152\" cy=\"1009.21\" r=\"14\" fill=\"#009af9\" fill-rule=\"evenodd\" fill-opacity=\"1\" stroke=\"#000000\" stroke-opacity=\"1\" stroke-width=\"3.2\"/>\n",
       "<circle clip-path=\"url(#clip062)\" cx=\"891.922\" cy=\"940.536\" r=\"14\" fill=\"#009af9\" fill-rule=\"evenodd\" fill-opacity=\"1\" stroke=\"#000000\" stroke-opacity=\"1\" stroke-width=\"3.2\"/>\n",
       "<circle clip-path=\"url(#clip062)\" cx=\"921.692\" cy=\"867.593\" r=\"14\" fill=\"#009af9\" fill-rule=\"evenodd\" fill-opacity=\"1\" stroke=\"#000000\" stroke-opacity=\"1\" stroke-width=\"3.2\"/>\n",
       "<circle clip-path=\"url(#clip062)\" cx=\"951.463\" cy=\"791.518\" r=\"14\" fill=\"#009af9\" fill-rule=\"evenodd\" fill-opacity=\"1\" stroke=\"#000000\" stroke-opacity=\"1\" stroke-width=\"3.2\"/>\n",
       "<circle clip-path=\"url(#clip062)\" cx=\"981.233\" cy=\"713.715\" r=\"14\" fill=\"#009af9\" fill-rule=\"evenodd\" fill-opacity=\"1\" stroke=\"#000000\" stroke-opacity=\"1\" stroke-width=\"3.2\"/>\n",
       "<circle clip-path=\"url(#clip062)\" cx=\"1011\" cy=\"635.823\" r=\"14\" fill=\"#009af9\" fill-rule=\"evenodd\" fill-opacity=\"1\" stroke=\"#000000\" stroke-opacity=\"1\" stroke-width=\"3.2\"/>\n",
       "<circle clip-path=\"url(#clip062)\" cx=\"1040.77\" cy=\"559.669\" r=\"14\" fill=\"#009af9\" fill-rule=\"evenodd\" fill-opacity=\"1\" stroke=\"#000000\" stroke-opacity=\"1\" stroke-width=\"3.2\"/>\n",
       "<circle clip-path=\"url(#clip062)\" cx=\"1070.54\" cy=\"487.199\" r=\"14\" fill=\"#009af9\" fill-rule=\"evenodd\" fill-opacity=\"1\" stroke=\"#000000\" stroke-opacity=\"1\" stroke-width=\"3.2\"/>\n",
       "<circle clip-path=\"url(#clip062)\" cx=\"1100.31\" cy=\"420.401\" r=\"14\" fill=\"#009af9\" fill-rule=\"evenodd\" fill-opacity=\"1\" stroke=\"#000000\" stroke-opacity=\"1\" stroke-width=\"3.2\"/>\n",
       "<circle clip-path=\"url(#clip062)\" cx=\"1130.09\" cy=\"361.211\" r=\"14\" fill=\"#009af9\" fill-rule=\"evenodd\" fill-opacity=\"1\" stroke=\"#000000\" stroke-opacity=\"1\" stroke-width=\"3.2\"/>\n",
       "<circle clip-path=\"url(#clip062)\" cx=\"1159.86\" cy=\"311.421\" r=\"14\" fill=\"#009af9\" fill-rule=\"evenodd\" fill-opacity=\"1\" stroke=\"#000000\" stroke-opacity=\"1\" stroke-width=\"3.2\"/>\n",
       "<circle clip-path=\"url(#clip062)\" cx=\"1189.63\" cy=\"272.592\" r=\"14\" fill=\"#009af9\" fill-rule=\"evenodd\" fill-opacity=\"1\" stroke=\"#000000\" stroke-opacity=\"1\" stroke-width=\"3.2\"/>\n",
       "<circle clip-path=\"url(#clip062)\" cx=\"1219.4\" cy=\"245.977\" r=\"14\" fill=\"#009af9\" fill-rule=\"evenodd\" fill-opacity=\"1\" stroke=\"#000000\" stroke-opacity=\"1\" stroke-width=\"3.2\"/>\n",
       "<circle clip-path=\"url(#clip062)\" cx=\"1249.17\" cy=\"232.448\" r=\"14\" fill=\"#009af9\" fill-rule=\"evenodd\" fill-opacity=\"1\" stroke=\"#000000\" stroke-opacity=\"1\" stroke-width=\"3.2\"/>\n",
       "<circle clip-path=\"url(#clip062)\" cx=\"1278.94\" cy=\"232.449\" r=\"14\" fill=\"#009af9\" fill-rule=\"evenodd\" fill-opacity=\"1\" stroke=\"#000000\" stroke-opacity=\"1\" stroke-width=\"3.2\"/>\n",
       "<circle clip-path=\"url(#clip062)\" cx=\"1308.71\" cy=\"245.979\" r=\"14\" fill=\"#009af9\" fill-rule=\"evenodd\" fill-opacity=\"1\" stroke=\"#000000\" stroke-opacity=\"1\" stroke-width=\"3.2\"/>\n",
       "<circle clip-path=\"url(#clip062)\" cx=\"1338.48\" cy=\"272.595\" r=\"14\" fill=\"#009af9\" fill-rule=\"evenodd\" fill-opacity=\"1\" stroke=\"#000000\" stroke-opacity=\"1\" stroke-width=\"3.2\"/>\n",
       "<circle clip-path=\"url(#clip062)\" cx=\"1368.25\" cy=\"311.424\" r=\"14\" fill=\"#009af9\" fill-rule=\"evenodd\" fill-opacity=\"1\" stroke=\"#000000\" stroke-opacity=\"1\" stroke-width=\"3.2\"/>\n",
       "<circle clip-path=\"url(#clip062)\" cx=\"1398.02\" cy=\"361.214\" r=\"14\" fill=\"#009af9\" fill-rule=\"evenodd\" fill-opacity=\"1\" stroke=\"#000000\" stroke-opacity=\"1\" stroke-width=\"3.2\"/>\n",
       "<circle clip-path=\"url(#clip062)\" cx=\"1427.79\" cy=\"420.404\" r=\"14\" fill=\"#009af9\" fill-rule=\"evenodd\" fill-opacity=\"1\" stroke=\"#000000\" stroke-opacity=\"1\" stroke-width=\"3.2\"/>\n",
       "<circle clip-path=\"url(#clip062)\" cx=\"1457.56\" cy=\"487.202\" r=\"14\" fill=\"#009af9\" fill-rule=\"evenodd\" fill-opacity=\"1\" stroke=\"#000000\" stroke-opacity=\"1\" stroke-width=\"3.2\"/>\n",
       "<circle clip-path=\"url(#clip062)\" cx=\"1487.33\" cy=\"559.671\" r=\"14\" fill=\"#009af9\" fill-rule=\"evenodd\" fill-opacity=\"1\" stroke=\"#000000\" stroke-opacity=\"1\" stroke-width=\"3.2\"/>\n",
       "<circle clip-path=\"url(#clip062)\" cx=\"1517.1\" cy=\"635.825\" r=\"14\" fill=\"#009af9\" fill-rule=\"evenodd\" fill-opacity=\"1\" stroke=\"#000000\" stroke-opacity=\"1\" stroke-width=\"3.2\"/>\n",
       "<circle clip-path=\"url(#clip062)\" cx=\"1546.87\" cy=\"713.716\" r=\"14\" fill=\"#009af9\" fill-rule=\"evenodd\" fill-opacity=\"1\" stroke=\"#000000\" stroke-opacity=\"1\" stroke-width=\"3.2\"/>\n",
       "<circle clip-path=\"url(#clip062)\" cx=\"1576.64\" cy=\"791.519\" r=\"14\" fill=\"#009af9\" fill-rule=\"evenodd\" fill-opacity=\"1\" stroke=\"#000000\" stroke-opacity=\"1\" stroke-width=\"3.2\"/>\n",
       "<circle clip-path=\"url(#clip062)\" cx=\"1606.41\" cy=\"867.594\" r=\"14\" fill=\"#009af9\" fill-rule=\"evenodd\" fill-opacity=\"1\" stroke=\"#000000\" stroke-opacity=\"1\" stroke-width=\"3.2\"/>\n",
       "<circle clip-path=\"url(#clip062)\" cx=\"1636.18\" cy=\"940.536\" r=\"14\" fill=\"#009af9\" fill-rule=\"evenodd\" fill-opacity=\"1\" stroke=\"#000000\" stroke-opacity=\"1\" stroke-width=\"3.2\"/>\n",
       "<circle clip-path=\"url(#clip062)\" cx=\"1665.95\" cy=\"1009.21\" r=\"14\" fill=\"#009af9\" fill-rule=\"evenodd\" fill-opacity=\"1\" stroke=\"#000000\" stroke-opacity=\"1\" stroke-width=\"3.2\"/>\n",
       "<circle clip-path=\"url(#clip062)\" cx=\"1695.72\" cy=\"1072.77\" r=\"14\" fill=\"#009af9\" fill-rule=\"evenodd\" fill-opacity=\"1\" stroke=\"#000000\" stroke-opacity=\"1\" stroke-width=\"3.2\"/>\n",
       "<circle clip-path=\"url(#clip062)\" cx=\"1725.49\" cy=\"1130.64\" r=\"14\" fill=\"#009af9\" fill-rule=\"evenodd\" fill-opacity=\"1\" stroke=\"#000000\" stroke-opacity=\"1\" stroke-width=\"3.2\"/>\n",
       "<circle clip-path=\"url(#clip062)\" cx=\"1755.26\" cy=\"1182.52\" r=\"14\" fill=\"#009af9\" fill-rule=\"evenodd\" fill-opacity=\"1\" stroke=\"#000000\" stroke-opacity=\"1\" stroke-width=\"3.2\"/>\n",
       "<circle clip-path=\"url(#clip062)\" cx=\"1785.03\" cy=\"1228.33\" r=\"14\" fill=\"#009af9\" fill-rule=\"evenodd\" fill-opacity=\"1\" stroke=\"#000000\" stroke-opacity=\"1\" stroke-width=\"3.2\"/>\n",
       "<circle clip-path=\"url(#clip062)\" cx=\"1814.8\" cy=\"1268.2\" r=\"14\" fill=\"#009af9\" fill-rule=\"evenodd\" fill-opacity=\"1\" stroke=\"#000000\" stroke-opacity=\"1\" stroke-width=\"3.2\"/>\n",
       "<circle clip-path=\"url(#clip062)\" cx=\"1844.57\" cy=\"1302.42\" r=\"14\" fill=\"#009af9\" fill-rule=\"evenodd\" fill-opacity=\"1\" stroke=\"#000000\" stroke-opacity=\"1\" stroke-width=\"3.2\"/>\n",
       "<circle clip-path=\"url(#clip062)\" cx=\"1874.35\" cy=\"1331.38\" r=\"14\" fill=\"#009af9\" fill-rule=\"evenodd\" fill-opacity=\"1\" stroke=\"#000000\" stroke-opacity=\"1\" stroke-width=\"3.2\"/>\n",
       "<circle clip-path=\"url(#clip062)\" cx=\"1904.12\" cy=\"1355.56\" r=\"14\" fill=\"#009af9\" fill-rule=\"evenodd\" fill-opacity=\"1\" stroke=\"#000000\" stroke-opacity=\"1\" stroke-width=\"3.2\"/>\n",
       "<circle clip-path=\"url(#clip062)\" cx=\"1933.89\" cy=\"1375.5\" r=\"14\" fill=\"#009af9\" fill-rule=\"evenodd\" fill-opacity=\"1\" stroke=\"#000000\" stroke-opacity=\"1\" stroke-width=\"3.2\"/>\n",
       "<circle clip-path=\"url(#clip062)\" cx=\"1963.66\" cy=\"1391.71\" r=\"14\" fill=\"#009af9\" fill-rule=\"evenodd\" fill-opacity=\"1\" stroke=\"#000000\" stroke-opacity=\"1\" stroke-width=\"3.2\"/>\n",
       "<circle clip-path=\"url(#clip062)\" cx=\"1993.43\" cy=\"1404.73\" r=\"14\" fill=\"#009af9\" fill-rule=\"evenodd\" fill-opacity=\"1\" stroke=\"#000000\" stroke-opacity=\"1\" stroke-width=\"3.2\"/>\n",
       "<circle clip-path=\"url(#clip062)\" cx=\"2023.2\" cy=\"1415.06\" r=\"14\" fill=\"#009af9\" fill-rule=\"evenodd\" fill-opacity=\"1\" stroke=\"#000000\" stroke-opacity=\"1\" stroke-width=\"3.2\"/>\n",
       "<circle clip-path=\"url(#clip062)\" cx=\"2052.97\" cy=\"1423.13\" r=\"14\" fill=\"#009af9\" fill-rule=\"evenodd\" fill-opacity=\"1\" stroke=\"#000000\" stroke-opacity=\"1\" stroke-width=\"3.2\"/>\n",
       "<circle clip-path=\"url(#clip062)\" cx=\"2082.74\" cy=\"1429.37\" r=\"14\" fill=\"#009af9\" fill-rule=\"evenodd\" fill-opacity=\"1\" stroke=\"#000000\" stroke-opacity=\"1\" stroke-width=\"3.2\"/>\n",
       "<circle clip-path=\"url(#clip062)\" cx=\"2112.51\" cy=\"1434.11\" r=\"14\" fill=\"#009af9\" fill-rule=\"evenodd\" fill-opacity=\"1\" stroke=\"#000000\" stroke-opacity=\"1\" stroke-width=\"3.2\"/>\n",
       "<circle clip-path=\"url(#clip062)\" cx=\"2142.28\" cy=\"1437.66\" r=\"14\" fill=\"#009af9\" fill-rule=\"evenodd\" fill-opacity=\"1\" stroke=\"#000000\" stroke-opacity=\"1\" stroke-width=\"3.2\"/>\n",
       "<circle clip-path=\"url(#clip062)\" cx=\"2172.05\" cy=\"1440.25\" r=\"14\" fill=\"#009af9\" fill-rule=\"evenodd\" fill-opacity=\"1\" stroke=\"#000000\" stroke-opacity=\"1\" stroke-width=\"3.2\"/>\n",
       "<circle clip-path=\"url(#clip062)\" cx=\"2201.82\" cy=\"1442.07\" r=\"14\" fill=\"#009af9\" fill-rule=\"evenodd\" fill-opacity=\"1\" stroke=\"#000000\" stroke-opacity=\"1\" stroke-width=\"3.2\"/>\n",
       "<circle clip-path=\"url(#clip062)\" cx=\"2231.59\" cy=\"1443.27\" r=\"14\" fill=\"#009af9\" fill-rule=\"evenodd\" fill-opacity=\"1\" stroke=\"#000000\" stroke-opacity=\"1\" stroke-width=\"3.2\"/>\n",
       "<circle clip-path=\"url(#clip062)\" cx=\"2261.36\" cy=\"1443.95\" r=\"14\" fill=\"#009af9\" fill-rule=\"evenodd\" fill-opacity=\"1\" stroke=\"#000000\" stroke-opacity=\"1\" stroke-width=\"3.2\"/>\n",
       "<circle clip-path=\"url(#clip062)\" cx=\"2291.13\" cy=\"1444.17\" r=\"14\" fill=\"#009af9\" fill-rule=\"evenodd\" fill-opacity=\"1\" stroke=\"#000000\" stroke-opacity=\"1\" stroke-width=\"3.2\"/>\n",
       "<polyline clip-path=\"url(#clip062)\" style=\"stroke:#e26f46; stroke-width:4; stroke-opacity:1; fill:none\" points=\"\n",
       "  236.973,1445.72 266.743,1444.91 296.514,1443.76 326.284,1442.17 356.055,1439.97 385.825,1436.98 415.595,1432.96 445.366,1427.63 475.136,1420.64 504.907,1411.59 \n",
       "  534.677,1400.01 564.448,1385.4 594.218,1367.19 623.988,1344.8 653.759,1317.62 683.529,1285.08 713.3,1246.63 743.07,1201.85 772.84,1150.41 802.611,1092.21 \n",
       "  832.381,1027.32 862.152,956.112 891.922,879.222 921.692,797.608 951.463,712.538 981.233,625.575 1011,538.544 1040.77,453.476 1070.54,372.536 1100.31,297.932 \n",
       "  1130.09,231.821 1159.86,176.206 1189.63,132.831 1219.4,103.095 1249.17,87.9763 1278.94,87.9763 1308.71,103.095 1338.48,132.831 1368.25,176.206 1398.02,231.821 \n",
       "  1427.79,297.932 1457.56,372.536 1487.33,453.476 1517.1,538.544 1546.87,625.575 1576.64,712.538 1606.41,797.608 1636.18,879.222 1665.95,956.112 1695.72,1027.32 \n",
       "  1725.49,1092.21 1755.26,1150.41 1785.03,1201.85 1814.8,1246.63 1844.57,1285.08 1874.35,1317.62 1904.12,1344.8 1933.89,1367.19 1963.66,1385.4 1993.43,1400.01 \n",
       "  2023.2,1411.59 2052.97,1420.64 2082.74,1427.63 2112.51,1432.96 2142.28,1436.98 2172.05,1439.97 2201.82,1442.17 2231.59,1443.76 2261.36,1444.91 2291.13,1445.72 \n",
       "  \n",
       "  \"/>\n",
       "<circle clip-path=\"url(#clip062)\" cx=\"236.973\" cy=\"1445.72\" r=\"14\" fill=\"#e26f46\" fill-rule=\"evenodd\" fill-opacity=\"1\" stroke=\"#000000\" stroke-opacity=\"1\" stroke-width=\"3.2\"/>\n",
       "<circle clip-path=\"url(#clip062)\" cx=\"266.743\" cy=\"1444.91\" r=\"14\" fill=\"#e26f46\" fill-rule=\"evenodd\" fill-opacity=\"1\" stroke=\"#000000\" stroke-opacity=\"1\" stroke-width=\"3.2\"/>\n",
       "<circle clip-path=\"url(#clip062)\" cx=\"296.514\" cy=\"1443.76\" r=\"14\" fill=\"#e26f46\" fill-rule=\"evenodd\" fill-opacity=\"1\" stroke=\"#000000\" stroke-opacity=\"1\" stroke-width=\"3.2\"/>\n",
       "<circle clip-path=\"url(#clip062)\" cx=\"326.284\" cy=\"1442.17\" r=\"14\" fill=\"#e26f46\" fill-rule=\"evenodd\" fill-opacity=\"1\" stroke=\"#000000\" stroke-opacity=\"1\" stroke-width=\"3.2\"/>\n",
       "<circle clip-path=\"url(#clip062)\" cx=\"356.055\" cy=\"1439.97\" r=\"14\" fill=\"#e26f46\" fill-rule=\"evenodd\" fill-opacity=\"1\" stroke=\"#000000\" stroke-opacity=\"1\" stroke-width=\"3.2\"/>\n",
       "<circle clip-path=\"url(#clip062)\" cx=\"385.825\" cy=\"1436.98\" r=\"14\" fill=\"#e26f46\" fill-rule=\"evenodd\" fill-opacity=\"1\" stroke=\"#000000\" stroke-opacity=\"1\" stroke-width=\"3.2\"/>\n",
       "<circle clip-path=\"url(#clip062)\" cx=\"415.595\" cy=\"1432.96\" r=\"14\" fill=\"#e26f46\" fill-rule=\"evenodd\" fill-opacity=\"1\" stroke=\"#000000\" stroke-opacity=\"1\" stroke-width=\"3.2\"/>\n",
       "<circle clip-path=\"url(#clip062)\" cx=\"445.366\" cy=\"1427.63\" r=\"14\" fill=\"#e26f46\" fill-rule=\"evenodd\" fill-opacity=\"1\" stroke=\"#000000\" stroke-opacity=\"1\" stroke-width=\"3.2\"/>\n",
       "<circle clip-path=\"url(#clip062)\" cx=\"475.136\" cy=\"1420.64\" r=\"14\" fill=\"#e26f46\" fill-rule=\"evenodd\" fill-opacity=\"1\" stroke=\"#000000\" stroke-opacity=\"1\" stroke-width=\"3.2\"/>\n",
       "<circle clip-path=\"url(#clip062)\" cx=\"504.907\" cy=\"1411.59\" r=\"14\" fill=\"#e26f46\" fill-rule=\"evenodd\" fill-opacity=\"1\" stroke=\"#000000\" stroke-opacity=\"1\" stroke-width=\"3.2\"/>\n",
       "<circle clip-path=\"url(#clip062)\" cx=\"534.677\" cy=\"1400.01\" r=\"14\" fill=\"#e26f46\" fill-rule=\"evenodd\" fill-opacity=\"1\" stroke=\"#000000\" stroke-opacity=\"1\" stroke-width=\"3.2\"/>\n",
       "<circle clip-path=\"url(#clip062)\" cx=\"564.448\" cy=\"1385.4\" r=\"14\" fill=\"#e26f46\" fill-rule=\"evenodd\" fill-opacity=\"1\" stroke=\"#000000\" stroke-opacity=\"1\" stroke-width=\"3.2\"/>\n",
       "<circle clip-path=\"url(#clip062)\" cx=\"594.218\" cy=\"1367.19\" r=\"14\" fill=\"#e26f46\" fill-rule=\"evenodd\" fill-opacity=\"1\" stroke=\"#000000\" stroke-opacity=\"1\" stroke-width=\"3.2\"/>\n",
       "<circle clip-path=\"url(#clip062)\" cx=\"623.988\" cy=\"1344.8\" r=\"14\" fill=\"#e26f46\" fill-rule=\"evenodd\" fill-opacity=\"1\" stroke=\"#000000\" stroke-opacity=\"1\" stroke-width=\"3.2\"/>\n",
       "<circle clip-path=\"url(#clip062)\" cx=\"653.759\" cy=\"1317.62\" r=\"14\" fill=\"#e26f46\" fill-rule=\"evenodd\" fill-opacity=\"1\" stroke=\"#000000\" stroke-opacity=\"1\" stroke-width=\"3.2\"/>\n",
       "<circle clip-path=\"url(#clip062)\" cx=\"683.529\" cy=\"1285.08\" r=\"14\" fill=\"#e26f46\" fill-rule=\"evenodd\" fill-opacity=\"1\" stroke=\"#000000\" stroke-opacity=\"1\" stroke-width=\"3.2\"/>\n",
       "<circle clip-path=\"url(#clip062)\" cx=\"713.3\" cy=\"1246.63\" r=\"14\" fill=\"#e26f46\" fill-rule=\"evenodd\" fill-opacity=\"1\" stroke=\"#000000\" stroke-opacity=\"1\" stroke-width=\"3.2\"/>\n",
       "<circle clip-path=\"url(#clip062)\" cx=\"743.07\" cy=\"1201.85\" r=\"14\" fill=\"#e26f46\" fill-rule=\"evenodd\" fill-opacity=\"1\" stroke=\"#000000\" stroke-opacity=\"1\" stroke-width=\"3.2\"/>\n",
       "<circle clip-path=\"url(#clip062)\" cx=\"772.84\" cy=\"1150.41\" r=\"14\" fill=\"#e26f46\" fill-rule=\"evenodd\" fill-opacity=\"1\" stroke=\"#000000\" stroke-opacity=\"1\" stroke-width=\"3.2\"/>\n",
       "<circle clip-path=\"url(#clip062)\" cx=\"802.611\" cy=\"1092.21\" r=\"14\" fill=\"#e26f46\" fill-rule=\"evenodd\" fill-opacity=\"1\" stroke=\"#000000\" stroke-opacity=\"1\" stroke-width=\"3.2\"/>\n",
       "<circle clip-path=\"url(#clip062)\" cx=\"832.381\" cy=\"1027.32\" r=\"14\" fill=\"#e26f46\" fill-rule=\"evenodd\" fill-opacity=\"1\" stroke=\"#000000\" stroke-opacity=\"1\" stroke-width=\"3.2\"/>\n",
       "<circle clip-path=\"url(#clip062)\" cx=\"862.152\" cy=\"956.112\" r=\"14\" fill=\"#e26f46\" fill-rule=\"evenodd\" fill-opacity=\"1\" stroke=\"#000000\" stroke-opacity=\"1\" stroke-width=\"3.2\"/>\n",
       "<circle clip-path=\"url(#clip062)\" cx=\"891.922\" cy=\"879.222\" r=\"14\" fill=\"#e26f46\" fill-rule=\"evenodd\" fill-opacity=\"1\" stroke=\"#000000\" stroke-opacity=\"1\" stroke-width=\"3.2\"/>\n",
       "<circle clip-path=\"url(#clip062)\" cx=\"921.692\" cy=\"797.608\" r=\"14\" fill=\"#e26f46\" fill-rule=\"evenodd\" fill-opacity=\"1\" stroke=\"#000000\" stroke-opacity=\"1\" stroke-width=\"3.2\"/>\n",
       "<circle clip-path=\"url(#clip062)\" cx=\"951.463\" cy=\"712.538\" r=\"14\" fill=\"#e26f46\" fill-rule=\"evenodd\" fill-opacity=\"1\" stroke=\"#000000\" stroke-opacity=\"1\" stroke-width=\"3.2\"/>\n",
       "<circle clip-path=\"url(#clip062)\" cx=\"981.233\" cy=\"625.575\" r=\"14\" fill=\"#e26f46\" fill-rule=\"evenodd\" fill-opacity=\"1\" stroke=\"#000000\" stroke-opacity=\"1\" stroke-width=\"3.2\"/>\n",
       "<circle clip-path=\"url(#clip062)\" cx=\"1011\" cy=\"538.544\" r=\"14\" fill=\"#e26f46\" fill-rule=\"evenodd\" fill-opacity=\"1\" stroke=\"#000000\" stroke-opacity=\"1\" stroke-width=\"3.2\"/>\n",
       "<circle clip-path=\"url(#clip062)\" cx=\"1040.77\" cy=\"453.476\" r=\"14\" fill=\"#e26f46\" fill-rule=\"evenodd\" fill-opacity=\"1\" stroke=\"#000000\" stroke-opacity=\"1\" stroke-width=\"3.2\"/>\n",
       "<circle clip-path=\"url(#clip062)\" cx=\"1070.54\" cy=\"372.536\" r=\"14\" fill=\"#e26f46\" fill-rule=\"evenodd\" fill-opacity=\"1\" stroke=\"#000000\" stroke-opacity=\"1\" stroke-width=\"3.2\"/>\n",
       "<circle clip-path=\"url(#clip062)\" cx=\"1100.31\" cy=\"297.932\" r=\"14\" fill=\"#e26f46\" fill-rule=\"evenodd\" fill-opacity=\"1\" stroke=\"#000000\" stroke-opacity=\"1\" stroke-width=\"3.2\"/>\n",
       "<circle clip-path=\"url(#clip062)\" cx=\"1130.09\" cy=\"231.821\" r=\"14\" fill=\"#e26f46\" fill-rule=\"evenodd\" fill-opacity=\"1\" stroke=\"#000000\" stroke-opacity=\"1\" stroke-width=\"3.2\"/>\n",
       "<circle clip-path=\"url(#clip062)\" cx=\"1159.86\" cy=\"176.206\" r=\"14\" fill=\"#e26f46\" fill-rule=\"evenodd\" fill-opacity=\"1\" stroke=\"#000000\" stroke-opacity=\"1\" stroke-width=\"3.2\"/>\n",
       "<circle clip-path=\"url(#clip062)\" cx=\"1189.63\" cy=\"132.831\" r=\"14\" fill=\"#e26f46\" fill-rule=\"evenodd\" fill-opacity=\"1\" stroke=\"#000000\" stroke-opacity=\"1\" stroke-width=\"3.2\"/>\n",
       "<circle clip-path=\"url(#clip062)\" cx=\"1219.4\" cy=\"103.095\" r=\"14\" fill=\"#e26f46\" fill-rule=\"evenodd\" fill-opacity=\"1\" stroke=\"#000000\" stroke-opacity=\"1\" stroke-width=\"3.2\"/>\n",
       "<circle clip-path=\"url(#clip062)\" cx=\"1249.17\" cy=\"87.9763\" r=\"14\" fill=\"#e26f46\" fill-rule=\"evenodd\" fill-opacity=\"1\" stroke=\"#000000\" stroke-opacity=\"1\" stroke-width=\"3.2\"/>\n",
       "<circle clip-path=\"url(#clip062)\" cx=\"1278.94\" cy=\"87.9763\" r=\"14\" fill=\"#e26f46\" fill-rule=\"evenodd\" fill-opacity=\"1\" stroke=\"#000000\" stroke-opacity=\"1\" stroke-width=\"3.2\"/>\n",
       "<circle clip-path=\"url(#clip062)\" cx=\"1308.71\" cy=\"103.095\" r=\"14\" fill=\"#e26f46\" fill-rule=\"evenodd\" fill-opacity=\"1\" stroke=\"#000000\" stroke-opacity=\"1\" stroke-width=\"3.2\"/>\n",
       "<circle clip-path=\"url(#clip062)\" cx=\"1338.48\" cy=\"132.831\" r=\"14\" fill=\"#e26f46\" fill-rule=\"evenodd\" fill-opacity=\"1\" stroke=\"#000000\" stroke-opacity=\"1\" stroke-width=\"3.2\"/>\n",
       "<circle clip-path=\"url(#clip062)\" cx=\"1368.25\" cy=\"176.206\" r=\"14\" fill=\"#e26f46\" fill-rule=\"evenodd\" fill-opacity=\"1\" stroke=\"#000000\" stroke-opacity=\"1\" stroke-width=\"3.2\"/>\n",
       "<circle clip-path=\"url(#clip062)\" cx=\"1398.02\" cy=\"231.821\" r=\"14\" fill=\"#e26f46\" fill-rule=\"evenodd\" fill-opacity=\"1\" stroke=\"#000000\" stroke-opacity=\"1\" stroke-width=\"3.2\"/>\n",
       "<circle clip-path=\"url(#clip062)\" cx=\"1427.79\" cy=\"297.932\" r=\"14\" fill=\"#e26f46\" fill-rule=\"evenodd\" fill-opacity=\"1\" stroke=\"#000000\" stroke-opacity=\"1\" stroke-width=\"3.2\"/>\n",
       "<circle clip-path=\"url(#clip062)\" cx=\"1457.56\" cy=\"372.536\" r=\"14\" fill=\"#e26f46\" fill-rule=\"evenodd\" fill-opacity=\"1\" stroke=\"#000000\" stroke-opacity=\"1\" stroke-width=\"3.2\"/>\n",
       "<circle clip-path=\"url(#clip062)\" cx=\"1487.33\" cy=\"453.476\" r=\"14\" fill=\"#e26f46\" fill-rule=\"evenodd\" fill-opacity=\"1\" stroke=\"#000000\" stroke-opacity=\"1\" stroke-width=\"3.2\"/>\n",
       "<circle clip-path=\"url(#clip062)\" cx=\"1517.1\" cy=\"538.544\" r=\"14\" fill=\"#e26f46\" fill-rule=\"evenodd\" fill-opacity=\"1\" stroke=\"#000000\" stroke-opacity=\"1\" stroke-width=\"3.2\"/>\n",
       "<circle clip-path=\"url(#clip062)\" cx=\"1546.87\" cy=\"625.575\" r=\"14\" fill=\"#e26f46\" fill-rule=\"evenodd\" fill-opacity=\"1\" stroke=\"#000000\" stroke-opacity=\"1\" stroke-width=\"3.2\"/>\n",
       "<circle clip-path=\"url(#clip062)\" cx=\"1576.64\" cy=\"712.538\" r=\"14\" fill=\"#e26f46\" fill-rule=\"evenodd\" fill-opacity=\"1\" stroke=\"#000000\" stroke-opacity=\"1\" stroke-width=\"3.2\"/>\n",
       "<circle clip-path=\"url(#clip062)\" cx=\"1606.41\" cy=\"797.608\" r=\"14\" fill=\"#e26f46\" fill-rule=\"evenodd\" fill-opacity=\"1\" stroke=\"#000000\" stroke-opacity=\"1\" stroke-width=\"3.2\"/>\n",
       "<circle clip-path=\"url(#clip062)\" cx=\"1636.18\" cy=\"879.222\" r=\"14\" fill=\"#e26f46\" fill-rule=\"evenodd\" fill-opacity=\"1\" stroke=\"#000000\" stroke-opacity=\"1\" stroke-width=\"3.2\"/>\n",
       "<circle clip-path=\"url(#clip062)\" cx=\"1665.95\" cy=\"956.112\" r=\"14\" fill=\"#e26f46\" fill-rule=\"evenodd\" fill-opacity=\"1\" stroke=\"#000000\" stroke-opacity=\"1\" stroke-width=\"3.2\"/>\n",
       "<circle clip-path=\"url(#clip062)\" cx=\"1695.72\" cy=\"1027.32\" r=\"14\" fill=\"#e26f46\" fill-rule=\"evenodd\" fill-opacity=\"1\" stroke=\"#000000\" stroke-opacity=\"1\" stroke-width=\"3.2\"/>\n",
       "<circle clip-path=\"url(#clip062)\" cx=\"1725.49\" cy=\"1092.21\" r=\"14\" fill=\"#e26f46\" fill-rule=\"evenodd\" fill-opacity=\"1\" stroke=\"#000000\" stroke-opacity=\"1\" stroke-width=\"3.2\"/>\n",
       "<circle clip-path=\"url(#clip062)\" cx=\"1755.26\" cy=\"1150.41\" r=\"14\" fill=\"#e26f46\" fill-rule=\"evenodd\" fill-opacity=\"1\" stroke=\"#000000\" stroke-opacity=\"1\" stroke-width=\"3.2\"/>\n",
       "<circle clip-path=\"url(#clip062)\" cx=\"1785.03\" cy=\"1201.85\" r=\"14\" fill=\"#e26f46\" fill-rule=\"evenodd\" fill-opacity=\"1\" stroke=\"#000000\" stroke-opacity=\"1\" stroke-width=\"3.2\"/>\n",
       "<circle clip-path=\"url(#clip062)\" cx=\"1814.8\" cy=\"1246.63\" r=\"14\" fill=\"#e26f46\" fill-rule=\"evenodd\" fill-opacity=\"1\" stroke=\"#000000\" stroke-opacity=\"1\" stroke-width=\"3.2\"/>\n",
       "<circle clip-path=\"url(#clip062)\" cx=\"1844.57\" cy=\"1285.08\" r=\"14\" fill=\"#e26f46\" fill-rule=\"evenodd\" fill-opacity=\"1\" stroke=\"#000000\" stroke-opacity=\"1\" stroke-width=\"3.2\"/>\n",
       "<circle clip-path=\"url(#clip062)\" cx=\"1874.35\" cy=\"1317.62\" r=\"14\" fill=\"#e26f46\" fill-rule=\"evenodd\" fill-opacity=\"1\" stroke=\"#000000\" stroke-opacity=\"1\" stroke-width=\"3.2\"/>\n",
       "<circle clip-path=\"url(#clip062)\" cx=\"1904.12\" cy=\"1344.8\" r=\"14\" fill=\"#e26f46\" fill-rule=\"evenodd\" fill-opacity=\"1\" stroke=\"#000000\" stroke-opacity=\"1\" stroke-width=\"3.2\"/>\n",
       "<circle clip-path=\"url(#clip062)\" cx=\"1933.89\" cy=\"1367.19\" r=\"14\" fill=\"#e26f46\" fill-rule=\"evenodd\" fill-opacity=\"1\" stroke=\"#000000\" stroke-opacity=\"1\" stroke-width=\"3.2\"/>\n",
       "<circle clip-path=\"url(#clip062)\" cx=\"1963.66\" cy=\"1385.4\" r=\"14\" fill=\"#e26f46\" fill-rule=\"evenodd\" fill-opacity=\"1\" stroke=\"#000000\" stroke-opacity=\"1\" stroke-width=\"3.2\"/>\n",
       "<circle clip-path=\"url(#clip062)\" cx=\"1993.43\" cy=\"1400.01\" r=\"14\" fill=\"#e26f46\" fill-rule=\"evenodd\" fill-opacity=\"1\" stroke=\"#000000\" stroke-opacity=\"1\" stroke-width=\"3.2\"/>\n",
       "<circle clip-path=\"url(#clip062)\" cx=\"2023.2\" cy=\"1411.59\" r=\"14\" fill=\"#e26f46\" fill-rule=\"evenodd\" fill-opacity=\"1\" stroke=\"#000000\" stroke-opacity=\"1\" stroke-width=\"3.2\"/>\n",
       "<circle clip-path=\"url(#clip062)\" cx=\"2052.97\" cy=\"1420.64\" r=\"14\" fill=\"#e26f46\" fill-rule=\"evenodd\" fill-opacity=\"1\" stroke=\"#000000\" stroke-opacity=\"1\" stroke-width=\"3.2\"/>\n",
       "<circle clip-path=\"url(#clip062)\" cx=\"2082.74\" cy=\"1427.63\" r=\"14\" fill=\"#e26f46\" fill-rule=\"evenodd\" fill-opacity=\"1\" stroke=\"#000000\" stroke-opacity=\"1\" stroke-width=\"3.2\"/>\n",
       "<circle clip-path=\"url(#clip062)\" cx=\"2112.51\" cy=\"1432.96\" r=\"14\" fill=\"#e26f46\" fill-rule=\"evenodd\" fill-opacity=\"1\" stroke=\"#000000\" stroke-opacity=\"1\" stroke-width=\"3.2\"/>\n",
       "<circle clip-path=\"url(#clip062)\" cx=\"2142.28\" cy=\"1436.98\" r=\"14\" fill=\"#e26f46\" fill-rule=\"evenodd\" fill-opacity=\"1\" stroke=\"#000000\" stroke-opacity=\"1\" stroke-width=\"3.2\"/>\n",
       "<circle clip-path=\"url(#clip062)\" cx=\"2172.05\" cy=\"1439.97\" r=\"14\" fill=\"#e26f46\" fill-rule=\"evenodd\" fill-opacity=\"1\" stroke=\"#000000\" stroke-opacity=\"1\" stroke-width=\"3.2\"/>\n",
       "<circle clip-path=\"url(#clip062)\" cx=\"2201.82\" cy=\"1442.17\" r=\"14\" fill=\"#e26f46\" fill-rule=\"evenodd\" fill-opacity=\"1\" stroke=\"#000000\" stroke-opacity=\"1\" stroke-width=\"3.2\"/>\n",
       "<circle clip-path=\"url(#clip062)\" cx=\"2231.59\" cy=\"1443.76\" r=\"14\" fill=\"#e26f46\" fill-rule=\"evenodd\" fill-opacity=\"1\" stroke=\"#000000\" stroke-opacity=\"1\" stroke-width=\"3.2\"/>\n",
       "<circle clip-path=\"url(#clip062)\" cx=\"2261.36\" cy=\"1444.91\" r=\"14\" fill=\"#e26f46\" fill-rule=\"evenodd\" fill-opacity=\"1\" stroke=\"#000000\" stroke-opacity=\"1\" stroke-width=\"3.2\"/>\n",
       "<circle clip-path=\"url(#clip062)\" cx=\"2291.13\" cy=\"1445.72\" r=\"14\" fill=\"#e26f46\" fill-rule=\"evenodd\" fill-opacity=\"1\" stroke=\"#000000\" stroke-opacity=\"1\" stroke-width=\"3.2\"/>\n",
       "<path clip-path=\"url(#clip060)\" d=\"\n",
       "M1987.22 276.658 L2280.18 276.658 L2280.18 95.2176 L1987.22 95.2176  Z\n",
       "  \" fill=\"#ffffff\" fill-rule=\"evenodd\" fill-opacity=\"1\"/>\n",
       "<polyline clip-path=\"url(#clip060)\" style=\"stroke:#000000; stroke-width:4; stroke-opacity:1; fill:none\" points=\"\n",
       "  1987.22,276.658 2280.18,276.658 2280.18,95.2176 1987.22,95.2176 1987.22,276.658 \n",
       "  \"/>\n",
       "<polyline clip-path=\"url(#clip060)\" style=\"stroke:#009af9; stroke-width:4; stroke-opacity:1; fill:none\" points=\"\n",
       "  2011.42,155.698 2156.58,155.698 \n",
       "  \"/>\n",
       "<circle clip-path=\"url(#clip060)\" cx=\"2084\" cy=\"155.698\" r=\"23\" fill=\"#009af9\" fill-rule=\"evenodd\" fill-opacity=\"1\" stroke=\"#000000\" stroke-opacity=\"1\" stroke-width=\"5.12\"/>\n",
       "<circle clip-path=\"url(#clip060)\" cx=\"2084\" cy=\"155.698\" r=\"23\" fill=\"#009af9\" fill-rule=\"evenodd\" fill-opacity=\"1\" stroke=\"#000000\" stroke-opacity=\"1\" stroke-width=\"5.12\"/>\n",
       "<circle clip-path=\"url(#clip060)\" cx=\"2084\" cy=\"155.698\" r=\"23\" fill=\"#009af9\" fill-rule=\"evenodd\" fill-opacity=\"1\" stroke=\"#000000\" stroke-opacity=\"1\" stroke-width=\"5.12\"/>\n",
       "<circle clip-path=\"url(#clip060)\" cx=\"2084\" cy=\"155.698\" r=\"23\" fill=\"#009af9\" fill-rule=\"evenodd\" fill-opacity=\"1\" stroke=\"#000000\" stroke-opacity=\"1\" stroke-width=\"5.12\"/>\n",
       "<circle clip-path=\"url(#clip060)\" cx=\"2084\" cy=\"155.698\" r=\"23\" fill=\"#009af9\" fill-rule=\"evenodd\" fill-opacity=\"1\" stroke=\"#000000\" stroke-opacity=\"1\" stroke-width=\"5.12\"/>\n",
       "<circle clip-path=\"url(#clip060)\" cx=\"2084\" cy=\"155.698\" r=\"23\" fill=\"#009af9\" fill-rule=\"evenodd\" fill-opacity=\"1\" stroke=\"#000000\" stroke-opacity=\"1\" stroke-width=\"5.12\"/>\n",
       "<circle clip-path=\"url(#clip060)\" cx=\"2084\" cy=\"155.698\" r=\"23\" fill=\"#009af9\" fill-rule=\"evenodd\" fill-opacity=\"1\" stroke=\"#000000\" stroke-opacity=\"1\" stroke-width=\"5.12\"/>\n",
       "<circle clip-path=\"url(#clip060)\" cx=\"2084\" cy=\"155.698\" r=\"23\" fill=\"#009af9\" fill-rule=\"evenodd\" fill-opacity=\"1\" stroke=\"#000000\" stroke-opacity=\"1\" stroke-width=\"5.12\"/>\n",
       "<circle clip-path=\"url(#clip060)\" cx=\"2084\" cy=\"155.698\" r=\"23\" fill=\"#009af9\" fill-rule=\"evenodd\" fill-opacity=\"1\" stroke=\"#000000\" stroke-opacity=\"1\" stroke-width=\"5.12\"/>\n",
       "<circle clip-path=\"url(#clip060)\" cx=\"2084\" cy=\"155.698\" r=\"23\" fill=\"#009af9\" fill-rule=\"evenodd\" fill-opacity=\"1\" stroke=\"#000000\" stroke-opacity=\"1\" stroke-width=\"5.12\"/>\n",
       "<circle clip-path=\"url(#clip060)\" cx=\"2084\" cy=\"155.698\" r=\"23\" fill=\"#009af9\" fill-rule=\"evenodd\" fill-opacity=\"1\" stroke=\"#000000\" stroke-opacity=\"1\" stroke-width=\"5.12\"/>\n",
       "<circle clip-path=\"url(#clip060)\" cx=\"2084\" cy=\"155.698\" r=\"23\" fill=\"#009af9\" fill-rule=\"evenodd\" fill-opacity=\"1\" stroke=\"#000000\" stroke-opacity=\"1\" stroke-width=\"5.12\"/>\n",
       "<circle clip-path=\"url(#clip060)\" cx=\"2084\" cy=\"155.698\" r=\"23\" fill=\"#009af9\" fill-rule=\"evenodd\" fill-opacity=\"1\" stroke=\"#000000\" stroke-opacity=\"1\" stroke-width=\"5.12\"/>\n",
       "<circle clip-path=\"url(#clip060)\" cx=\"2084\" cy=\"155.698\" r=\"23\" fill=\"#009af9\" fill-rule=\"evenodd\" fill-opacity=\"1\" stroke=\"#000000\" stroke-opacity=\"1\" stroke-width=\"5.12\"/>\n",
       "<circle clip-path=\"url(#clip060)\" cx=\"2084\" cy=\"155.698\" r=\"23\" fill=\"#009af9\" fill-rule=\"evenodd\" fill-opacity=\"1\" stroke=\"#000000\" stroke-opacity=\"1\" stroke-width=\"5.12\"/>\n",
       "<circle clip-path=\"url(#clip060)\" cx=\"2084\" cy=\"155.698\" r=\"23\" fill=\"#009af9\" fill-rule=\"evenodd\" fill-opacity=\"1\" stroke=\"#000000\" stroke-opacity=\"1\" stroke-width=\"5.12\"/>\n",
       "<circle clip-path=\"url(#clip060)\" cx=\"2084\" cy=\"155.698\" r=\"23\" fill=\"#009af9\" fill-rule=\"evenodd\" fill-opacity=\"1\" stroke=\"#000000\" stroke-opacity=\"1\" stroke-width=\"5.12\"/>\n",
       "<circle clip-path=\"url(#clip060)\" cx=\"2084\" cy=\"155.698\" r=\"23\" fill=\"#009af9\" fill-rule=\"evenodd\" fill-opacity=\"1\" stroke=\"#000000\" stroke-opacity=\"1\" stroke-width=\"5.12\"/>\n",
       "<circle clip-path=\"url(#clip060)\" cx=\"2084\" cy=\"155.698\" r=\"23\" fill=\"#009af9\" fill-rule=\"evenodd\" fill-opacity=\"1\" stroke=\"#000000\" stroke-opacity=\"1\" stroke-width=\"5.12\"/>\n",
       "<circle clip-path=\"url(#clip060)\" cx=\"2084\" cy=\"155.698\" r=\"23\" fill=\"#009af9\" fill-rule=\"evenodd\" fill-opacity=\"1\" stroke=\"#000000\" stroke-opacity=\"1\" stroke-width=\"5.12\"/>\n",
       "<circle clip-path=\"url(#clip060)\" cx=\"2084\" cy=\"155.698\" r=\"23\" fill=\"#009af9\" fill-rule=\"evenodd\" fill-opacity=\"1\" stroke=\"#000000\" stroke-opacity=\"1\" stroke-width=\"5.12\"/>\n",
       "<circle clip-path=\"url(#clip060)\" cx=\"2084\" cy=\"155.698\" r=\"23\" fill=\"#009af9\" fill-rule=\"evenodd\" fill-opacity=\"1\" stroke=\"#000000\" stroke-opacity=\"1\" stroke-width=\"5.12\"/>\n",
       "<circle clip-path=\"url(#clip060)\" cx=\"2084\" cy=\"155.698\" r=\"23\" fill=\"#009af9\" fill-rule=\"evenodd\" fill-opacity=\"1\" stroke=\"#000000\" stroke-opacity=\"1\" stroke-width=\"5.12\"/>\n",
       "<circle clip-path=\"url(#clip060)\" cx=\"2084\" cy=\"155.698\" r=\"23\" fill=\"#009af9\" fill-rule=\"evenodd\" fill-opacity=\"1\" stroke=\"#000000\" stroke-opacity=\"1\" stroke-width=\"5.12\"/>\n",
       "<circle clip-path=\"url(#clip060)\" cx=\"2084\" cy=\"155.698\" r=\"23\" fill=\"#009af9\" fill-rule=\"evenodd\" fill-opacity=\"1\" stroke=\"#000000\" stroke-opacity=\"1\" stroke-width=\"5.12\"/>\n",
       "<circle clip-path=\"url(#clip060)\" cx=\"2084\" cy=\"155.698\" r=\"23\" fill=\"#009af9\" fill-rule=\"evenodd\" fill-opacity=\"1\" stroke=\"#000000\" stroke-opacity=\"1\" stroke-width=\"5.12\"/>\n",
       "<circle clip-path=\"url(#clip060)\" cx=\"2084\" cy=\"155.698\" r=\"23\" fill=\"#009af9\" fill-rule=\"evenodd\" fill-opacity=\"1\" stroke=\"#000000\" stroke-opacity=\"1\" stroke-width=\"5.12\"/>\n",
       "<circle clip-path=\"url(#clip060)\" cx=\"2084\" cy=\"155.698\" r=\"23\" fill=\"#009af9\" fill-rule=\"evenodd\" fill-opacity=\"1\" stroke=\"#000000\" stroke-opacity=\"1\" stroke-width=\"5.12\"/>\n",
       "<circle clip-path=\"url(#clip060)\" cx=\"2084\" cy=\"155.698\" r=\"23\" fill=\"#009af9\" fill-rule=\"evenodd\" fill-opacity=\"1\" stroke=\"#000000\" stroke-opacity=\"1\" stroke-width=\"5.12\"/>\n",
       "<circle clip-path=\"url(#clip060)\" cx=\"2084\" cy=\"155.698\" r=\"23\" fill=\"#009af9\" fill-rule=\"evenodd\" fill-opacity=\"1\" stroke=\"#000000\" stroke-opacity=\"1\" stroke-width=\"5.12\"/>\n",
       "<circle clip-path=\"url(#clip060)\" cx=\"2084\" cy=\"155.698\" r=\"23\" fill=\"#009af9\" fill-rule=\"evenodd\" fill-opacity=\"1\" stroke=\"#000000\" stroke-opacity=\"1\" stroke-width=\"5.12\"/>\n",
       "<circle clip-path=\"url(#clip060)\" cx=\"2084\" cy=\"155.698\" r=\"23\" fill=\"#009af9\" fill-rule=\"evenodd\" fill-opacity=\"1\" stroke=\"#000000\" stroke-opacity=\"1\" stroke-width=\"5.12\"/>\n",
       "<circle clip-path=\"url(#clip060)\" cx=\"2084\" cy=\"155.698\" r=\"23\" fill=\"#009af9\" fill-rule=\"evenodd\" fill-opacity=\"1\" stroke=\"#000000\" stroke-opacity=\"1\" stroke-width=\"5.12\"/>\n",
       "<circle clip-path=\"url(#clip060)\" cx=\"2084\" cy=\"155.698\" r=\"23\" fill=\"#009af9\" fill-rule=\"evenodd\" fill-opacity=\"1\" stroke=\"#000000\" stroke-opacity=\"1\" stroke-width=\"5.12\"/>\n",
       "<circle clip-path=\"url(#clip060)\" cx=\"2084\" cy=\"155.698\" r=\"23\" fill=\"#009af9\" fill-rule=\"evenodd\" fill-opacity=\"1\" stroke=\"#000000\" stroke-opacity=\"1\" stroke-width=\"5.12\"/>\n",
       "<circle clip-path=\"url(#clip060)\" cx=\"2084\" cy=\"155.698\" r=\"23\" fill=\"#009af9\" fill-rule=\"evenodd\" fill-opacity=\"1\" stroke=\"#000000\" stroke-opacity=\"1\" stroke-width=\"5.12\"/>\n",
       "<circle clip-path=\"url(#clip060)\" cx=\"2084\" cy=\"155.698\" r=\"23\" fill=\"#009af9\" fill-rule=\"evenodd\" fill-opacity=\"1\" stroke=\"#000000\" stroke-opacity=\"1\" stroke-width=\"5.12\"/>\n",
       "<circle clip-path=\"url(#clip060)\" cx=\"2084\" cy=\"155.698\" r=\"23\" fill=\"#009af9\" fill-rule=\"evenodd\" fill-opacity=\"1\" stroke=\"#000000\" stroke-opacity=\"1\" stroke-width=\"5.12\"/>\n",
       "<circle clip-path=\"url(#clip060)\" cx=\"2084\" cy=\"155.698\" r=\"23\" fill=\"#009af9\" fill-rule=\"evenodd\" fill-opacity=\"1\" stroke=\"#000000\" stroke-opacity=\"1\" stroke-width=\"5.12\"/>\n",
       "<circle clip-path=\"url(#clip060)\" cx=\"2084\" cy=\"155.698\" r=\"23\" fill=\"#009af9\" fill-rule=\"evenodd\" fill-opacity=\"1\" stroke=\"#000000\" stroke-opacity=\"1\" stroke-width=\"5.12\"/>\n",
       "<circle clip-path=\"url(#clip060)\" cx=\"2084\" cy=\"155.698\" r=\"23\" fill=\"#009af9\" fill-rule=\"evenodd\" fill-opacity=\"1\" stroke=\"#000000\" stroke-opacity=\"1\" stroke-width=\"5.12\"/>\n",
       "<circle clip-path=\"url(#clip060)\" cx=\"2084\" cy=\"155.698\" r=\"23\" fill=\"#009af9\" fill-rule=\"evenodd\" fill-opacity=\"1\" stroke=\"#000000\" stroke-opacity=\"1\" stroke-width=\"5.12\"/>\n",
       "<circle clip-path=\"url(#clip060)\" cx=\"2084\" cy=\"155.698\" r=\"23\" fill=\"#009af9\" fill-rule=\"evenodd\" fill-opacity=\"1\" stroke=\"#000000\" stroke-opacity=\"1\" stroke-width=\"5.12\"/>\n",
       "<circle clip-path=\"url(#clip060)\" cx=\"2084\" cy=\"155.698\" r=\"23\" fill=\"#009af9\" fill-rule=\"evenodd\" fill-opacity=\"1\" stroke=\"#000000\" stroke-opacity=\"1\" stroke-width=\"5.12\"/>\n",
       "<circle clip-path=\"url(#clip060)\" cx=\"2084\" cy=\"155.698\" r=\"23\" fill=\"#009af9\" fill-rule=\"evenodd\" fill-opacity=\"1\" stroke=\"#000000\" stroke-opacity=\"1\" stroke-width=\"5.12\"/>\n",
       "<circle clip-path=\"url(#clip060)\" cx=\"2084\" cy=\"155.698\" r=\"23\" fill=\"#009af9\" fill-rule=\"evenodd\" fill-opacity=\"1\" stroke=\"#000000\" stroke-opacity=\"1\" stroke-width=\"5.12\"/>\n",
       "<circle clip-path=\"url(#clip060)\" cx=\"2084\" cy=\"155.698\" r=\"23\" fill=\"#009af9\" fill-rule=\"evenodd\" fill-opacity=\"1\" stroke=\"#000000\" stroke-opacity=\"1\" stroke-width=\"5.12\"/>\n",
       "<circle clip-path=\"url(#clip060)\" cx=\"2084\" cy=\"155.698\" r=\"23\" fill=\"#009af9\" fill-rule=\"evenodd\" fill-opacity=\"1\" stroke=\"#000000\" stroke-opacity=\"1\" stroke-width=\"5.12\"/>\n",
       "<circle clip-path=\"url(#clip060)\" cx=\"2084\" cy=\"155.698\" r=\"23\" fill=\"#009af9\" fill-rule=\"evenodd\" fill-opacity=\"1\" stroke=\"#000000\" stroke-opacity=\"1\" stroke-width=\"5.12\"/>\n",
       "<circle clip-path=\"url(#clip060)\" cx=\"2084\" cy=\"155.698\" r=\"23\" fill=\"#009af9\" fill-rule=\"evenodd\" fill-opacity=\"1\" stroke=\"#000000\" stroke-opacity=\"1\" stroke-width=\"5.12\"/>\n",
       "<circle clip-path=\"url(#clip060)\" cx=\"2084\" cy=\"155.698\" r=\"23\" fill=\"#009af9\" fill-rule=\"evenodd\" fill-opacity=\"1\" stroke=\"#000000\" stroke-opacity=\"1\" stroke-width=\"5.12\"/>\n",
       "<circle clip-path=\"url(#clip060)\" cx=\"2084\" cy=\"155.698\" r=\"23\" fill=\"#009af9\" fill-rule=\"evenodd\" fill-opacity=\"1\" stroke=\"#000000\" stroke-opacity=\"1\" stroke-width=\"5.12\"/>\n",
       "<circle clip-path=\"url(#clip060)\" cx=\"2084\" cy=\"155.698\" r=\"23\" fill=\"#009af9\" fill-rule=\"evenodd\" fill-opacity=\"1\" stroke=\"#000000\" stroke-opacity=\"1\" stroke-width=\"5.12\"/>\n",
       "<circle clip-path=\"url(#clip060)\" cx=\"2084\" cy=\"155.698\" r=\"23\" fill=\"#009af9\" fill-rule=\"evenodd\" fill-opacity=\"1\" stroke=\"#000000\" stroke-opacity=\"1\" stroke-width=\"5.12\"/>\n",
       "<circle clip-path=\"url(#clip060)\" cx=\"2084\" cy=\"155.698\" r=\"23\" fill=\"#009af9\" fill-rule=\"evenodd\" fill-opacity=\"1\" stroke=\"#000000\" stroke-opacity=\"1\" stroke-width=\"5.12\"/>\n",
       "<circle clip-path=\"url(#clip060)\" cx=\"2084\" cy=\"155.698\" r=\"23\" fill=\"#009af9\" fill-rule=\"evenodd\" fill-opacity=\"1\" stroke=\"#000000\" stroke-opacity=\"1\" stroke-width=\"5.12\"/>\n",
       "<circle clip-path=\"url(#clip060)\" cx=\"2084\" cy=\"155.698\" r=\"23\" fill=\"#009af9\" fill-rule=\"evenodd\" fill-opacity=\"1\" stroke=\"#000000\" stroke-opacity=\"1\" stroke-width=\"5.12\"/>\n",
       "<circle clip-path=\"url(#clip060)\" cx=\"2084\" cy=\"155.698\" r=\"23\" fill=\"#009af9\" fill-rule=\"evenodd\" fill-opacity=\"1\" stroke=\"#000000\" stroke-opacity=\"1\" stroke-width=\"5.12\"/>\n",
       "<circle clip-path=\"url(#clip060)\" cx=\"2084\" cy=\"155.698\" r=\"23\" fill=\"#009af9\" fill-rule=\"evenodd\" fill-opacity=\"1\" stroke=\"#000000\" stroke-opacity=\"1\" stroke-width=\"5.12\"/>\n",
       "<circle clip-path=\"url(#clip060)\" cx=\"2084\" cy=\"155.698\" r=\"23\" fill=\"#009af9\" fill-rule=\"evenodd\" fill-opacity=\"1\" stroke=\"#000000\" stroke-opacity=\"1\" stroke-width=\"5.12\"/>\n",
       "<circle clip-path=\"url(#clip060)\" cx=\"2084\" cy=\"155.698\" r=\"23\" fill=\"#009af9\" fill-rule=\"evenodd\" fill-opacity=\"1\" stroke=\"#000000\" stroke-opacity=\"1\" stroke-width=\"5.12\"/>\n",
       "<circle clip-path=\"url(#clip060)\" cx=\"2084\" cy=\"155.698\" r=\"23\" fill=\"#009af9\" fill-rule=\"evenodd\" fill-opacity=\"1\" stroke=\"#000000\" stroke-opacity=\"1\" stroke-width=\"5.12\"/>\n",
       "<circle clip-path=\"url(#clip060)\" cx=\"2084\" cy=\"155.698\" r=\"23\" fill=\"#009af9\" fill-rule=\"evenodd\" fill-opacity=\"1\" stroke=\"#000000\" stroke-opacity=\"1\" stroke-width=\"5.12\"/>\n",
       "<circle clip-path=\"url(#clip060)\" cx=\"2084\" cy=\"155.698\" r=\"23\" fill=\"#009af9\" fill-rule=\"evenodd\" fill-opacity=\"1\" stroke=\"#000000\" stroke-opacity=\"1\" stroke-width=\"5.12\"/>\n",
       "<circle clip-path=\"url(#clip060)\" cx=\"2084\" cy=\"155.698\" r=\"23\" fill=\"#009af9\" fill-rule=\"evenodd\" fill-opacity=\"1\" stroke=\"#000000\" stroke-opacity=\"1\" stroke-width=\"5.12\"/>\n",
       "<circle clip-path=\"url(#clip060)\" cx=\"2084\" cy=\"155.698\" r=\"23\" fill=\"#009af9\" fill-rule=\"evenodd\" fill-opacity=\"1\" stroke=\"#000000\" stroke-opacity=\"1\" stroke-width=\"5.12\"/>\n",
       "<circle clip-path=\"url(#clip060)\" cx=\"2084\" cy=\"155.698\" r=\"23\" fill=\"#009af9\" fill-rule=\"evenodd\" fill-opacity=\"1\" stroke=\"#000000\" stroke-opacity=\"1\" stroke-width=\"5.12\"/>\n",
       "<circle clip-path=\"url(#clip060)\" cx=\"2084\" cy=\"155.698\" r=\"23\" fill=\"#009af9\" fill-rule=\"evenodd\" fill-opacity=\"1\" stroke=\"#000000\" stroke-opacity=\"1\" stroke-width=\"5.12\"/>\n",
       "<circle clip-path=\"url(#clip060)\" cx=\"2084\" cy=\"155.698\" r=\"23\" fill=\"#009af9\" fill-rule=\"evenodd\" fill-opacity=\"1\" stroke=\"#000000\" stroke-opacity=\"1\" stroke-width=\"5.12\"/>\n",
       "<circle clip-path=\"url(#clip060)\" cx=\"2084\" cy=\"155.698\" r=\"23\" fill=\"#009af9\" fill-rule=\"evenodd\" fill-opacity=\"1\" stroke=\"#000000\" stroke-opacity=\"1\" stroke-width=\"5.12\"/>\n",
       "<path clip-path=\"url(#clip060)\" d=\"M 0 0 M2194.61 175.385 Q2192.81 180.015 2191.09 181.427 Q2189.38 182.839 2186.51 182.839 L2183.11 182.839 L2183.11 179.274 L2185.61 179.274 Q2187.37 179.274 2188.34 178.44 Q2189.31 177.607 2190.49 174.505 L2191.26 172.561 L2180.77 147.052 L2185.28 147.052 L2193.39 167.329 L2201.49 147.052 L2206 147.052 L2194.61 175.385 Z\" fill=\"#000000\" fill-rule=\"evenodd\" fill-opacity=\"1\" /><path clip-path=\"url(#clip060)\" d=\"M 0 0 M2211.88 169.042 L2219.52 169.042 L2219.52 142.677 L2211.21 144.343 L2211.21 140.084 L2219.47 138.418 L2224.15 138.418 L2224.15 169.042 L2231.79 169.042 L2231.79 172.978 L2211.88 172.978 L2211.88 169.042 Z\" fill=\"#000000\" fill-rule=\"evenodd\" fill-opacity=\"1\" /><polyline clip-path=\"url(#clip060)\" style=\"stroke:#e26f46; stroke-width:4; stroke-opacity:1; fill:none\" points=\"\n",
       "  2011.42,216.178 2156.58,216.178 \n",
       "  \"/>\n",
       "<circle clip-path=\"url(#clip060)\" cx=\"2084\" cy=\"216.178\" r=\"23\" fill=\"#e26f46\" fill-rule=\"evenodd\" fill-opacity=\"1\" stroke=\"#000000\" stroke-opacity=\"1\" stroke-width=\"5.12\"/>\n",
       "<circle clip-path=\"url(#clip060)\" cx=\"2084\" cy=\"216.178\" r=\"23\" fill=\"#e26f46\" fill-rule=\"evenodd\" fill-opacity=\"1\" stroke=\"#000000\" stroke-opacity=\"1\" stroke-width=\"5.12\"/>\n",
       "<circle clip-path=\"url(#clip060)\" cx=\"2084\" cy=\"216.178\" r=\"23\" fill=\"#e26f46\" fill-rule=\"evenodd\" fill-opacity=\"1\" stroke=\"#000000\" stroke-opacity=\"1\" stroke-width=\"5.12\"/>\n",
       "<circle clip-path=\"url(#clip060)\" cx=\"2084\" cy=\"216.178\" r=\"23\" fill=\"#e26f46\" fill-rule=\"evenodd\" fill-opacity=\"1\" stroke=\"#000000\" stroke-opacity=\"1\" stroke-width=\"5.12\"/>\n",
       "<circle clip-path=\"url(#clip060)\" cx=\"2084\" cy=\"216.178\" r=\"23\" fill=\"#e26f46\" fill-rule=\"evenodd\" fill-opacity=\"1\" stroke=\"#000000\" stroke-opacity=\"1\" stroke-width=\"5.12\"/>\n",
       "<circle clip-path=\"url(#clip060)\" cx=\"2084\" cy=\"216.178\" r=\"23\" fill=\"#e26f46\" fill-rule=\"evenodd\" fill-opacity=\"1\" stroke=\"#000000\" stroke-opacity=\"1\" stroke-width=\"5.12\"/>\n",
       "<circle clip-path=\"url(#clip060)\" cx=\"2084\" cy=\"216.178\" r=\"23\" fill=\"#e26f46\" fill-rule=\"evenodd\" fill-opacity=\"1\" stroke=\"#000000\" stroke-opacity=\"1\" stroke-width=\"5.12\"/>\n",
       "<circle clip-path=\"url(#clip060)\" cx=\"2084\" cy=\"216.178\" r=\"23\" fill=\"#e26f46\" fill-rule=\"evenodd\" fill-opacity=\"1\" stroke=\"#000000\" stroke-opacity=\"1\" stroke-width=\"5.12\"/>\n",
       "<circle clip-path=\"url(#clip060)\" cx=\"2084\" cy=\"216.178\" r=\"23\" fill=\"#e26f46\" fill-rule=\"evenodd\" fill-opacity=\"1\" stroke=\"#000000\" stroke-opacity=\"1\" stroke-width=\"5.12\"/>\n",
       "<circle clip-path=\"url(#clip060)\" cx=\"2084\" cy=\"216.178\" r=\"23\" fill=\"#e26f46\" fill-rule=\"evenodd\" fill-opacity=\"1\" stroke=\"#000000\" stroke-opacity=\"1\" stroke-width=\"5.12\"/>\n",
       "<circle clip-path=\"url(#clip060)\" cx=\"2084\" cy=\"216.178\" r=\"23\" fill=\"#e26f46\" fill-rule=\"evenodd\" fill-opacity=\"1\" stroke=\"#000000\" stroke-opacity=\"1\" stroke-width=\"5.12\"/>\n",
       "<circle clip-path=\"url(#clip060)\" cx=\"2084\" cy=\"216.178\" r=\"23\" fill=\"#e26f46\" fill-rule=\"evenodd\" fill-opacity=\"1\" stroke=\"#000000\" stroke-opacity=\"1\" stroke-width=\"5.12\"/>\n",
       "<circle clip-path=\"url(#clip060)\" cx=\"2084\" cy=\"216.178\" r=\"23\" fill=\"#e26f46\" fill-rule=\"evenodd\" fill-opacity=\"1\" stroke=\"#000000\" stroke-opacity=\"1\" stroke-width=\"5.12\"/>\n",
       "<circle clip-path=\"url(#clip060)\" cx=\"2084\" cy=\"216.178\" r=\"23\" fill=\"#e26f46\" fill-rule=\"evenodd\" fill-opacity=\"1\" stroke=\"#000000\" stroke-opacity=\"1\" stroke-width=\"5.12\"/>\n",
       "<circle clip-path=\"url(#clip060)\" cx=\"2084\" cy=\"216.178\" r=\"23\" fill=\"#e26f46\" fill-rule=\"evenodd\" fill-opacity=\"1\" stroke=\"#000000\" stroke-opacity=\"1\" stroke-width=\"5.12\"/>\n",
       "<circle clip-path=\"url(#clip060)\" cx=\"2084\" cy=\"216.178\" r=\"23\" fill=\"#e26f46\" fill-rule=\"evenodd\" fill-opacity=\"1\" stroke=\"#000000\" stroke-opacity=\"1\" stroke-width=\"5.12\"/>\n",
       "<circle clip-path=\"url(#clip060)\" cx=\"2084\" cy=\"216.178\" r=\"23\" fill=\"#e26f46\" fill-rule=\"evenodd\" fill-opacity=\"1\" stroke=\"#000000\" stroke-opacity=\"1\" stroke-width=\"5.12\"/>\n",
       "<circle clip-path=\"url(#clip060)\" cx=\"2084\" cy=\"216.178\" r=\"23\" fill=\"#e26f46\" fill-rule=\"evenodd\" fill-opacity=\"1\" stroke=\"#000000\" stroke-opacity=\"1\" stroke-width=\"5.12\"/>\n",
       "<circle clip-path=\"url(#clip060)\" cx=\"2084\" cy=\"216.178\" r=\"23\" fill=\"#e26f46\" fill-rule=\"evenodd\" fill-opacity=\"1\" stroke=\"#000000\" stroke-opacity=\"1\" stroke-width=\"5.12\"/>\n",
       "<circle clip-path=\"url(#clip060)\" cx=\"2084\" cy=\"216.178\" r=\"23\" fill=\"#e26f46\" fill-rule=\"evenodd\" fill-opacity=\"1\" stroke=\"#000000\" stroke-opacity=\"1\" stroke-width=\"5.12\"/>\n",
       "<circle clip-path=\"url(#clip060)\" cx=\"2084\" cy=\"216.178\" r=\"23\" fill=\"#e26f46\" fill-rule=\"evenodd\" fill-opacity=\"1\" stroke=\"#000000\" stroke-opacity=\"1\" stroke-width=\"5.12\"/>\n",
       "<circle clip-path=\"url(#clip060)\" cx=\"2084\" cy=\"216.178\" r=\"23\" fill=\"#e26f46\" fill-rule=\"evenodd\" fill-opacity=\"1\" stroke=\"#000000\" stroke-opacity=\"1\" stroke-width=\"5.12\"/>\n",
       "<circle clip-path=\"url(#clip060)\" cx=\"2084\" cy=\"216.178\" r=\"23\" fill=\"#e26f46\" fill-rule=\"evenodd\" fill-opacity=\"1\" stroke=\"#000000\" stroke-opacity=\"1\" stroke-width=\"5.12\"/>\n",
       "<circle clip-path=\"url(#clip060)\" cx=\"2084\" cy=\"216.178\" r=\"23\" fill=\"#e26f46\" fill-rule=\"evenodd\" fill-opacity=\"1\" stroke=\"#000000\" stroke-opacity=\"1\" stroke-width=\"5.12\"/>\n",
       "<circle clip-path=\"url(#clip060)\" cx=\"2084\" cy=\"216.178\" r=\"23\" fill=\"#e26f46\" fill-rule=\"evenodd\" fill-opacity=\"1\" stroke=\"#000000\" stroke-opacity=\"1\" stroke-width=\"5.12\"/>\n",
       "<circle clip-path=\"url(#clip060)\" cx=\"2084\" cy=\"216.178\" r=\"23\" fill=\"#e26f46\" fill-rule=\"evenodd\" fill-opacity=\"1\" stroke=\"#000000\" stroke-opacity=\"1\" stroke-width=\"5.12\"/>\n",
       "<circle clip-path=\"url(#clip060)\" cx=\"2084\" cy=\"216.178\" r=\"23\" fill=\"#e26f46\" fill-rule=\"evenodd\" fill-opacity=\"1\" stroke=\"#000000\" stroke-opacity=\"1\" stroke-width=\"5.12\"/>\n",
       "<circle clip-path=\"url(#clip060)\" cx=\"2084\" cy=\"216.178\" r=\"23\" fill=\"#e26f46\" fill-rule=\"evenodd\" fill-opacity=\"1\" stroke=\"#000000\" stroke-opacity=\"1\" stroke-width=\"5.12\"/>\n",
       "<circle clip-path=\"url(#clip060)\" cx=\"2084\" cy=\"216.178\" r=\"23\" fill=\"#e26f46\" fill-rule=\"evenodd\" fill-opacity=\"1\" stroke=\"#000000\" stroke-opacity=\"1\" stroke-width=\"5.12\"/>\n",
       "<circle clip-path=\"url(#clip060)\" cx=\"2084\" cy=\"216.178\" r=\"23\" fill=\"#e26f46\" fill-rule=\"evenodd\" fill-opacity=\"1\" stroke=\"#000000\" stroke-opacity=\"1\" stroke-width=\"5.12\"/>\n",
       "<circle clip-path=\"url(#clip060)\" cx=\"2084\" cy=\"216.178\" r=\"23\" fill=\"#e26f46\" fill-rule=\"evenodd\" fill-opacity=\"1\" stroke=\"#000000\" stroke-opacity=\"1\" stroke-width=\"5.12\"/>\n",
       "<circle clip-path=\"url(#clip060)\" cx=\"2084\" cy=\"216.178\" r=\"23\" fill=\"#e26f46\" fill-rule=\"evenodd\" fill-opacity=\"1\" stroke=\"#000000\" stroke-opacity=\"1\" stroke-width=\"5.12\"/>\n",
       "<circle clip-path=\"url(#clip060)\" cx=\"2084\" cy=\"216.178\" r=\"23\" fill=\"#e26f46\" fill-rule=\"evenodd\" fill-opacity=\"1\" stroke=\"#000000\" stroke-opacity=\"1\" stroke-width=\"5.12\"/>\n",
       "<circle clip-path=\"url(#clip060)\" cx=\"2084\" cy=\"216.178\" r=\"23\" fill=\"#e26f46\" fill-rule=\"evenodd\" fill-opacity=\"1\" stroke=\"#000000\" stroke-opacity=\"1\" stroke-width=\"5.12\"/>\n",
       "<circle clip-path=\"url(#clip060)\" cx=\"2084\" cy=\"216.178\" r=\"23\" fill=\"#e26f46\" fill-rule=\"evenodd\" fill-opacity=\"1\" stroke=\"#000000\" stroke-opacity=\"1\" stroke-width=\"5.12\"/>\n",
       "<circle clip-path=\"url(#clip060)\" cx=\"2084\" cy=\"216.178\" r=\"23\" fill=\"#e26f46\" fill-rule=\"evenodd\" fill-opacity=\"1\" stroke=\"#000000\" stroke-opacity=\"1\" stroke-width=\"5.12\"/>\n",
       "<circle clip-path=\"url(#clip060)\" cx=\"2084\" cy=\"216.178\" r=\"23\" fill=\"#e26f46\" fill-rule=\"evenodd\" fill-opacity=\"1\" stroke=\"#000000\" stroke-opacity=\"1\" stroke-width=\"5.12\"/>\n",
       "<circle clip-path=\"url(#clip060)\" cx=\"2084\" cy=\"216.178\" r=\"23\" fill=\"#e26f46\" fill-rule=\"evenodd\" fill-opacity=\"1\" stroke=\"#000000\" stroke-opacity=\"1\" stroke-width=\"5.12\"/>\n",
       "<circle clip-path=\"url(#clip060)\" cx=\"2084\" cy=\"216.178\" r=\"23\" fill=\"#e26f46\" fill-rule=\"evenodd\" fill-opacity=\"1\" stroke=\"#000000\" stroke-opacity=\"1\" stroke-width=\"5.12\"/>\n",
       "<circle clip-path=\"url(#clip060)\" cx=\"2084\" cy=\"216.178\" r=\"23\" fill=\"#e26f46\" fill-rule=\"evenodd\" fill-opacity=\"1\" stroke=\"#000000\" stroke-opacity=\"1\" stroke-width=\"5.12\"/>\n",
       "<circle clip-path=\"url(#clip060)\" cx=\"2084\" cy=\"216.178\" r=\"23\" fill=\"#e26f46\" fill-rule=\"evenodd\" fill-opacity=\"1\" stroke=\"#000000\" stroke-opacity=\"1\" stroke-width=\"5.12\"/>\n",
       "<circle clip-path=\"url(#clip060)\" cx=\"2084\" cy=\"216.178\" r=\"23\" fill=\"#e26f46\" fill-rule=\"evenodd\" fill-opacity=\"1\" stroke=\"#000000\" stroke-opacity=\"1\" stroke-width=\"5.12\"/>\n",
       "<circle clip-path=\"url(#clip060)\" cx=\"2084\" cy=\"216.178\" r=\"23\" fill=\"#e26f46\" fill-rule=\"evenodd\" fill-opacity=\"1\" stroke=\"#000000\" stroke-opacity=\"1\" stroke-width=\"5.12\"/>\n",
       "<circle clip-path=\"url(#clip060)\" cx=\"2084\" cy=\"216.178\" r=\"23\" fill=\"#e26f46\" fill-rule=\"evenodd\" fill-opacity=\"1\" stroke=\"#000000\" stroke-opacity=\"1\" stroke-width=\"5.12\"/>\n",
       "<circle clip-path=\"url(#clip060)\" cx=\"2084\" cy=\"216.178\" r=\"23\" fill=\"#e26f46\" fill-rule=\"evenodd\" fill-opacity=\"1\" stroke=\"#000000\" stroke-opacity=\"1\" stroke-width=\"5.12\"/>\n",
       "<circle clip-path=\"url(#clip060)\" cx=\"2084\" cy=\"216.178\" r=\"23\" fill=\"#e26f46\" fill-rule=\"evenodd\" fill-opacity=\"1\" stroke=\"#000000\" stroke-opacity=\"1\" stroke-width=\"5.12\"/>\n",
       "<circle clip-path=\"url(#clip060)\" cx=\"2084\" cy=\"216.178\" r=\"23\" fill=\"#e26f46\" fill-rule=\"evenodd\" fill-opacity=\"1\" stroke=\"#000000\" stroke-opacity=\"1\" stroke-width=\"5.12\"/>\n",
       "<circle clip-path=\"url(#clip060)\" cx=\"2084\" cy=\"216.178\" r=\"23\" fill=\"#e26f46\" fill-rule=\"evenodd\" fill-opacity=\"1\" stroke=\"#000000\" stroke-opacity=\"1\" stroke-width=\"5.12\"/>\n",
       "<circle clip-path=\"url(#clip060)\" cx=\"2084\" cy=\"216.178\" r=\"23\" fill=\"#e26f46\" fill-rule=\"evenodd\" fill-opacity=\"1\" stroke=\"#000000\" stroke-opacity=\"1\" stroke-width=\"5.12\"/>\n",
       "<circle clip-path=\"url(#clip060)\" cx=\"2084\" cy=\"216.178\" r=\"23\" fill=\"#e26f46\" fill-rule=\"evenodd\" fill-opacity=\"1\" stroke=\"#000000\" stroke-opacity=\"1\" stroke-width=\"5.12\"/>\n",
       "<circle clip-path=\"url(#clip060)\" cx=\"2084\" cy=\"216.178\" r=\"23\" fill=\"#e26f46\" fill-rule=\"evenodd\" fill-opacity=\"1\" stroke=\"#000000\" stroke-opacity=\"1\" stroke-width=\"5.12\"/>\n",
       "<circle clip-path=\"url(#clip060)\" cx=\"2084\" cy=\"216.178\" r=\"23\" fill=\"#e26f46\" fill-rule=\"evenodd\" fill-opacity=\"1\" stroke=\"#000000\" stroke-opacity=\"1\" stroke-width=\"5.12\"/>\n",
       "<circle clip-path=\"url(#clip060)\" cx=\"2084\" cy=\"216.178\" r=\"23\" fill=\"#e26f46\" fill-rule=\"evenodd\" fill-opacity=\"1\" stroke=\"#000000\" stroke-opacity=\"1\" stroke-width=\"5.12\"/>\n",
       "<circle clip-path=\"url(#clip060)\" cx=\"2084\" cy=\"216.178\" r=\"23\" fill=\"#e26f46\" fill-rule=\"evenodd\" fill-opacity=\"1\" stroke=\"#000000\" stroke-opacity=\"1\" stroke-width=\"5.12\"/>\n",
       "<circle clip-path=\"url(#clip060)\" cx=\"2084\" cy=\"216.178\" r=\"23\" fill=\"#e26f46\" fill-rule=\"evenodd\" fill-opacity=\"1\" stroke=\"#000000\" stroke-opacity=\"1\" stroke-width=\"5.12\"/>\n",
       "<circle clip-path=\"url(#clip060)\" cx=\"2084\" cy=\"216.178\" r=\"23\" fill=\"#e26f46\" fill-rule=\"evenodd\" fill-opacity=\"1\" stroke=\"#000000\" stroke-opacity=\"1\" stroke-width=\"5.12\"/>\n",
       "<circle clip-path=\"url(#clip060)\" cx=\"2084\" cy=\"216.178\" r=\"23\" fill=\"#e26f46\" fill-rule=\"evenodd\" fill-opacity=\"1\" stroke=\"#000000\" stroke-opacity=\"1\" stroke-width=\"5.12\"/>\n",
       "<circle clip-path=\"url(#clip060)\" cx=\"2084\" cy=\"216.178\" r=\"23\" fill=\"#e26f46\" fill-rule=\"evenodd\" fill-opacity=\"1\" stroke=\"#000000\" stroke-opacity=\"1\" stroke-width=\"5.12\"/>\n",
       "<circle clip-path=\"url(#clip060)\" cx=\"2084\" cy=\"216.178\" r=\"23\" fill=\"#e26f46\" fill-rule=\"evenodd\" fill-opacity=\"1\" stroke=\"#000000\" stroke-opacity=\"1\" stroke-width=\"5.12\"/>\n",
       "<circle clip-path=\"url(#clip060)\" cx=\"2084\" cy=\"216.178\" r=\"23\" fill=\"#e26f46\" fill-rule=\"evenodd\" fill-opacity=\"1\" stroke=\"#000000\" stroke-opacity=\"1\" stroke-width=\"5.12\"/>\n",
       "<circle clip-path=\"url(#clip060)\" cx=\"2084\" cy=\"216.178\" r=\"23\" fill=\"#e26f46\" fill-rule=\"evenodd\" fill-opacity=\"1\" stroke=\"#000000\" stroke-opacity=\"1\" stroke-width=\"5.12\"/>\n",
       "<circle clip-path=\"url(#clip060)\" cx=\"2084\" cy=\"216.178\" r=\"23\" fill=\"#e26f46\" fill-rule=\"evenodd\" fill-opacity=\"1\" stroke=\"#000000\" stroke-opacity=\"1\" stroke-width=\"5.12\"/>\n",
       "<circle clip-path=\"url(#clip060)\" cx=\"2084\" cy=\"216.178\" r=\"23\" fill=\"#e26f46\" fill-rule=\"evenodd\" fill-opacity=\"1\" stroke=\"#000000\" stroke-opacity=\"1\" stroke-width=\"5.12\"/>\n",
       "<circle clip-path=\"url(#clip060)\" cx=\"2084\" cy=\"216.178\" r=\"23\" fill=\"#e26f46\" fill-rule=\"evenodd\" fill-opacity=\"1\" stroke=\"#000000\" stroke-opacity=\"1\" stroke-width=\"5.12\"/>\n",
       "<circle clip-path=\"url(#clip060)\" cx=\"2084\" cy=\"216.178\" r=\"23\" fill=\"#e26f46\" fill-rule=\"evenodd\" fill-opacity=\"1\" stroke=\"#000000\" stroke-opacity=\"1\" stroke-width=\"5.12\"/>\n",
       "<circle clip-path=\"url(#clip060)\" cx=\"2084\" cy=\"216.178\" r=\"23\" fill=\"#e26f46\" fill-rule=\"evenodd\" fill-opacity=\"1\" stroke=\"#000000\" stroke-opacity=\"1\" stroke-width=\"5.12\"/>\n",
       "<circle clip-path=\"url(#clip060)\" cx=\"2084\" cy=\"216.178\" r=\"23\" fill=\"#e26f46\" fill-rule=\"evenodd\" fill-opacity=\"1\" stroke=\"#000000\" stroke-opacity=\"1\" stroke-width=\"5.12\"/>\n",
       "<circle clip-path=\"url(#clip060)\" cx=\"2084\" cy=\"216.178\" r=\"23\" fill=\"#e26f46\" fill-rule=\"evenodd\" fill-opacity=\"1\" stroke=\"#000000\" stroke-opacity=\"1\" stroke-width=\"5.12\"/>\n",
       "<circle clip-path=\"url(#clip060)\" cx=\"2084\" cy=\"216.178\" r=\"23\" fill=\"#e26f46\" fill-rule=\"evenodd\" fill-opacity=\"1\" stroke=\"#000000\" stroke-opacity=\"1\" stroke-width=\"5.12\"/>\n",
       "<circle clip-path=\"url(#clip060)\" cx=\"2084\" cy=\"216.178\" r=\"23\" fill=\"#e26f46\" fill-rule=\"evenodd\" fill-opacity=\"1\" stroke=\"#000000\" stroke-opacity=\"1\" stroke-width=\"5.12\"/>\n",
       "<path clip-path=\"url(#clip060)\" d=\"M 0 0 M2194.61 235.865 Q2192.81 240.495 2191.09 241.907 Q2189.38 243.319 2186.51 243.319 L2183.11 243.319 L2183.11 239.754 L2185.61 239.754 Q2187.37 239.754 2188.34 238.92 Q2189.31 238.087 2190.49 234.985 L2191.26 233.041 L2180.77 207.532 L2185.28 207.532 L2193.39 227.809 L2201.49 207.532 L2206 207.532 L2194.61 235.865 Z\" fill=\"#000000\" fill-rule=\"evenodd\" fill-opacity=\"1\" /><path clip-path=\"url(#clip060)\" d=\"M 0 0 M2215.1 229.522 L2231.42 229.522 L2231.42 233.458 L2209.47 233.458 L2209.47 229.522 Q2212.14 226.768 2216.72 222.138 Q2221.33 217.485 2222.51 216.143 Q2224.75 213.62 2225.63 211.884 Q2226.53 210.124 2226.53 208.435 Q2226.53 205.68 2224.59 203.944 Q2222.67 202.208 2219.57 202.208 Q2217.37 202.208 2214.91 202.972 Q2212.48 203.735 2209.71 205.286 L2209.71 200.564 Q2212.53 199.43 2214.98 198.851 Q2217.44 198.273 2219.47 198.273 Q2224.84 198.273 2228.04 200.958 Q2231.23 203.643 2231.23 208.134 Q2231.23 210.263 2230.42 212.185 Q2229.64 214.083 2227.53 216.675 Q2226.95 217.347 2223.85 220.564 Q2220.75 223.759 2215.1 229.522 Z\" fill=\"#000000\" fill-rule=\"evenodd\" fill-opacity=\"1\" /></svg>\n"
      ]
     },
     "execution_count": 316,
     "metadata": {},
     "output_type": "execute_result"
    }
   ],
   "source": [
    "problem = ODEProblem((u,p,t) -> D²*u, u₀, (0.0,t))\n",
    "method = CVODE_BDF(linear_solver=:Band,jac_upper=1,jac_lower=1)\n",
    "solution = solve(problem,method)\n",
    "plot(x,[solution(t),ϕ(x,t,10)],mark=:dot)"
   ]
  },
  {
   "cell_type": "markdown",
   "metadata": {},
   "source": [
    "**13.8. Allen–Cahn equation.** We'll solve the Allen–Cahn equation using  Strang splitting. "
   ]
  },
  {
   "cell_type": "code",
   "execution_count": null,
   "metadata": {
    "collapsed": true
   },
   "outputs": [],
   "source": [
    "L = 16; nₓ = 400; Δx = L/nₓ\n",
    "T = 4; nₜ = 1600; Δt = T/nₜ\n",
    "x = LinRange(-L/2,L/2,nₓ)'\n",
    "u = @. tanh(x^4 - 16*(2*x^2-x'^2)) \n",
    "D = Tridiagonal(ones(nₓ-1),-2ones(nₓ),ones(nₓ-1))/Δx^2\n",
    "D[1,2] *= 2; D[end,end-1] *= 2\n",
    "A = I + 0.5Δt*D\n",
    "B = I - 0.5Δt*D \n",
    "f = (u,Δt) -> @. u/sqrt(u^2 - (u^2-1)*exp(-50*Δt))\n",
    "u = f(u,Δt/2)\n",
    "anim = Animation()\n",
    "for i = 1:nₜ\n",
    "  (i%10)==1 && (plot(Gray.(u),border=:none); frame(anim))\n",
    "  u = (B\\(A*(B\\(A*u))'))'\n",
    "  (i<nₜ) && (u = f(u,Δt))\n",
    "end\n",
    "u = f(u,Δt/2); Gray.(u)\n",
    "gif(anim, \"allencahn.gif\", fps = 30)"
   ]
  },
  {
   "cell_type": "markdown",
   "metadata": {},
   "source": [
    "**14.7. Burgers' Equation.**"
   ]
  },
  {
   "cell_type": "code",
   "execution_count": null,
   "metadata": {
    "collapsed": true
   },
   "outputs": [],
   "source": [
    "U = (x,t) ->  @. (x/t)*(t<2)*(x>0)*(x<t) +    \n",
    "  1*(t<2)*(x>t)*(x<1+t/2) + \n",
    "  (x/t)*(t≥2)*(x>0)*(x<sqrt(2t))"
   ]
  },
  {
   "cell_type": "code",
   "execution_count": null,
   "metadata": {
    "collapsed": true
   },
   "outputs": [],
   "source": [
    "nₓ = 80; x = LinRange(-1,3,nₓ); Δx = x[2]-x[1]; j = 1:nₓ-1\n",
    "nₜ = 100; Lₜ = 4; Δt = Lₜ/nₜ\n",
    "f = u-> u.^2/2; df = u -> u\n",
    "u = (x.>=0).*(x.<=1) \n",
    "anim = @animate for i = 1:nₜ \n",
    "  α = 0.5*max.(abs.(df(u[j])),abs.(df(u[j.+1])))\n",
    "  F = (f(u[j])+f(u[j.+1]))/2 - α.*(u[j.+1]-u[j])\n",
    "  u -=  Δt/Δx*[0;diff(F);0]\n",
    "  plot(x,u, fill = (0, 0.3, :blue))\n",
    "  plot!(x,U(x,i*Δt), fill = (0, 0.3, :red))  \n",
    "  plot!(legend=:none, ylim=[0,1])\n",
    "end\n",
    "gif(anim, \"burgers.gif\", fps = 15)"
   ]
  },
  {
   "cell_type": "markdown",
   "metadata": {},
   "source": [
    "**14.8. Dam break problem.**"
   ]
  },
  {
   "cell_type": "code",
   "execution_count": null,
   "metadata": {
    "collapsed": true
   },
   "outputs": [],
   "source": [
    "δ = u -> diff(u,dims=1)\n",
    "ϕ = t -> (abs(t)+t)./(1+abs(t))\n",
    "fixnan(u) = isnan(u)||isinf(u) ? 0 : u\n",
    "θ = δu -> fixnan.(δu[1:end-1,:]./δu[2:end,:])\n",
    "∂ₓ(u) = (δu=δ(u);[[0 0];δu[2:end,:].*ϕ.(θ(δu));[0 0]])\n",
    "F = u -> [u[:,1].*u[:,2] u[:,1].*u[:,2].^2+0.5u[:,1].^2]"
   ]
  },
  {
   "cell_type": "code",
   "execution_count": null,
   "metadata": {
    "collapsed": true
   },
   "outputs": [],
   "source": [
    "n = 100; x = LinRange(-.5,.5,n); Δx = x[2]-x[1]\n",
    "T = 0.4; nₜ = ceil(T/(Δx/2)); Δt = (T/nₜ)/2; \n",
    "U = [0.8*(x.<0).+0.2 zero(x)] \n",
    "Uⱼ = view(U,1:n-1,:); Uⱼ₊₁ = view(U,2:n,:)\n",
    "anim = @animate  for i = 1:nₜ\n",
    "  U° = U-0.5*Δt/Δx*∂ₓ(F(U))\n",
    "  Uⱼ₊₁ .= (Uⱼ+Uⱼ₊₁)/2 - δ(∂ₓ(U))/8 - Δt/Δx*δ(F(U°)) \n",
    "  U° = U-0.5*Δt/Δx*∂ₓ(F(U))\n",
    "  Uⱼ .= (Uⱼ+Uⱼ₊₁)/2 - δ(∂ₓ(U))/8 - Δt/Δx*δ(F(U°))\n",
    "  plot(x,U[:,1], fill = (0, 0.3, :blue))\n",
    "  plot!(legend=:none, ylim=[0,1])\n",
    "end\n",
    "gif(anim, \"dambreak.gif\", fps = 15)"
   ]
  },
  {
   "cell_type": "markdown",
   "metadata": {},
   "source": [
    "**15.2. Finite element method.**"
   ]
  },
  {
   "cell_type": "code",
   "execution_count": null,
   "metadata": {
    "collapsed": true
   },
   "outputs": [],
   "source": [
    "n=10; x=LinRange(0,1,n); h=x[2]-x[1]\n",
    "α = fill(2/h-2h/3,n); α[[1,n]] /= 2; β = fill(-1/h-h/6,n-1)\n",
    "A = SymTridiagonal(α,β)\n",
    "b = [-2h^3/3; -4h^3/3 .- 8h*x[2:n-1].^2; -4h+8h^2/3-2h^3/3+1]\n",
    "u = A\\b\n",
    "s = -16 .+ 8x.^2 .+ 15csc(1).*cos.(x)\n",
    "plot(x,s,marker=:o,alpha=0.5); plot!(x,u,marker=:o,alpha=0.5)"
   ]
  },
  {
   "cell_type": "markdown",
   "metadata": {},
   "source": [
    "**15.2. Finite element method.**"
   ]
  },
  {
   "cell_type": "code",
   "execution_count": null,
   "metadata": {
    "collapsed": true
   },
   "outputs": [],
   "source": [
    "n=8; x=LinRange(0,1,n+2); h=x[2]-x[1]\n",
    "σ = (a,b,c) -> Tridiagonal(fill(a,n-1),fill(b,n),fill(c,n-1))/h^3\n",
    "M = [σ(-12,24,-12) σ(-6,0,6);σ(6,0,-6) σ(2,8,2)];\n",
    "b = [384h*ones(n);zeros(n)]\n",
    "u = M\\b\n",
    "s = 16*(x.^4 - 2x.^3 + x.^2)\n",
    "plot(x,[s [0;u[1:n];0]],marker=:o,alpha=0.5)\n",
    "s = 16*(x.^4 - 2x.^3 + x.^2)\n",
    "plot(x,[s [0;u[1:n];0]],marker=:o,alpha=0.5)"
   ]
  },
  {
   "cell_type": "markdown",
   "metadata": {},
   "source": [
    "**16.1. Burgers' equation.** Fourier spectral methods perform poorly on problems that develop discontinuities such as Burgers' equation.  Gibbs oscillations develop around the discontinuity, and these oscillations will spread and grow because Burgers' equation is dispersive. Ultimately, the oscillations overwhelm the solution."
   ]
  },
  {
   "cell_type": "code",
   "execution_count": null,
   "metadata": {
    "collapsed": true
   },
   "outputs": [],
   "source": [
    "using FFTW, DifferentialEquations\n",
    "n = 128; x = (1:n)/n*(2π) .- π\n",
    "ξ = im*[0:n/2; -n/2+1:-1]\n",
    "f = (u,p,t) -> -real(ifft(ξ.*fft(0.5u.^2)))\n",
    "u = solve(ODEProblem(f,exp.(-x.^2),(0.0,2.0)),DP5());"
   ]
  },
  {
   "cell_type": "code",
   "execution_count": null,
   "metadata": {
    "collapsed": true
   },
   "outputs": [],
   "source": [
    "@gif for t=0:.02:2\n",
    "    plot(x,u(t),ylim=(-0.2,1.2))\n",
    "end"
   ]
  },
  {
   "cell_type": "markdown",
   "metadata": {},
   "source": [
    "**16.2. KdV equation.** We'll solve the KdV equation using integrating factors. We first set the initial conditions and parameters. Then, we define the integrating factor `G` and the right hand side `f` of the differential equation. Finally, we animate the solution. Notice the two soliton solution."
   ]
  },
  {
   "cell_type": "code",
   "execution_count": null,
   "metadata": {
    "collapsed": true
   },
   "outputs": [],
   "source": [
    "using FFTW, Plots\n",
    "ϕ = (x,x₀,c) -> 0.5c*sech(sqrt(c)/2*(x-x₀))^2\n",
    "L = 30; T = 2.0; n = 256\n",
    "x = (1:n)/n*L .- L/2\n",
    "u₀ = ϕ.(x,-4,4) + ϕ.(x,-9,9)\n",
    "iξ = im*[0:(n/2);(-n/2+1):-1]*2π/L;"
   ]
  },
  {
   "cell_type": "code",
   "execution_count": null,
   "metadata": {
    "collapsed": true
   },
   "outputs": [],
   "source": [
    "G = t -> exp.(-iξ.^3*t)\n",
    "f = (w,p,t) -> -G(t).\\(3iξ.*(fft(ifft(G(t).*w).^2)))"
   ]
  },
  {
   "cell_type": "code",
   "execution_count": null,
   "metadata": {
    "collapsed": true
   },
   "outputs": [],
   "source": [
    "w = solve(ODEProblem(f,fft(u₀),(0,T)),DP5())\n",
    "u = t -> real(ifft(w(t).*G(t)))"
   ]
  },
  {
   "cell_type": "code",
   "execution_count": null,
   "metadata": {
    "collapsed": true
   },
   "outputs": [],
   "source": [
    "@gif for t=0:.01:2\n",
    "  plot(x,u(t),ylim=(0,5))\n",
    "end"
   ]
  },
  {
   "cell_type": "markdown",
   "metadata": {},
   "source": [
    "**16.3. Swift–Hohenberg equation.** We'll use Strang splitting to solve the  Swift–Hohenberg equation."
   ]
  },
  {
   "cell_type": "code",
   "execution_count": null,
   "metadata": {
    "collapsed": true
   },
   "outputs": [],
   "source": [
    "using FFTW, LinearAlgebra, Images\n",
    "ϵ = 1; n = 256; ℓ = 100; N = 2000; Δt=100/N;\n",
    "U = (rand(n,n).>.5) .- 0.5\n",
    "ξ = [0:(n/2);(-n/2+1):-1]*2π/ℓ\n",
    "D²= -ξ.^2 .- (ξ.^2)'\n",
    "E = exp.(-(D².+1).^2*Δt)\n",
    "f = U -> U./sqrt.(U.^2/ϵ + exp(-Δt*ϵ)*(1 .- U.^2/ϵ))\n",
    "for i=1:600\n",
    "   U = f(ifft(E.*fft(f(U))))\n",
    "end\n",
    "Gray.(clamp01.((real(U).+1)/2))"
   ]
  }
 ],
 "metadata": {
  "kernelspec": {
   "display_name": "Julia 1.5.1",
   "language": "julia",
   "name": "julia-1.5"
  },
  "language_info": {
   "file_extension": ".jl",
   "mimetype": "application/julia",
   "name": "julia",
   "version": "1.5.1"
  }
 },
 "nbformat": 4,
 "nbformat_minor": 2
}
